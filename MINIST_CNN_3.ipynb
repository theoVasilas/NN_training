{
  "nbformat": 4,
  "nbformat_minor": 0,
  "metadata": {
    "colab": {
      "provenance": [],
      "gpuType": "T4",
      "include_colab_link": true
    },
    "kernelspec": {
      "name": "python3",
      "display_name": "Python 3"
    },
    "language_info": {
      "name": "python"
    },
    "accelerator": "GPU"
  },
  "cells": [
    {
      "cell_type": "markdown",
      "metadata": {
        "id": "view-in-github",
        "colab_type": "text"
      },
      "source": [
        "<a href=\"https://colab.research.google.com/github/theoVasilas/NN_training/blob/main/MINIST_CNN_3.ipynb\" target=\"_parent\"><img src=\"https://colab.research.google.com/assets/colab-badge.svg\" alt=\"Open In Colab\"/></a>"
      ]
    },
    {
      "cell_type": "markdown",
      "source": [
        "## dowload dataset and imports"
      ],
      "metadata": {
        "id": "mnwzMxDtEruq"
      }
    },
    {
      "cell_type": "code",
      "execution_count": 1,
      "metadata": {
        "id": "mACbvzOteEOE"
      },
      "outputs": [],
      "source": [
        "%%capture\n",
        "%pip install torch\n",
        "%pip install torchvision\n",
        "#captured_output.show()"
      ]
    },
    {
      "cell_type": "code",
      "execution_count": 2,
      "metadata": {
        "id": "2MoQUahQl5Pg"
      },
      "outputs": [],
      "source": [
        "import torch\n",
        "from torch import nn\n",
        "import torch.optim as optim\n",
        "from torch.utils.data import DataLoader\n",
        "\n",
        "import matplotlib.pyplot as plt\n",
        "\n",
        "from IPython.utils import io\n",
        "import numpy as np\n"
      ]
    },
    {
      "cell_type": "code",
      "source": [
        "# Device configuration\n",
        "device = torch.device('cuda' if torch.cuda.is_available() else 'cpu')\n",
        "device"
      ],
      "metadata": {
        "colab": {
          "base_uri": "https://localhost:8080/"
        },
        "id": "D9-s8Rv9ntfs",
        "outputId": "07a684ca-fbd0-4979-f89a-9f39f0f89255"
      },
      "execution_count": 3,
      "outputs": [
        {
          "output_type": "execute_result",
          "data": {
            "text/plain": [
              "device(type='cuda')"
            ]
          },
          "metadata": {},
          "execution_count": 3
        }
      ]
    },
    {
      "cell_type": "code",
      "execution_count": 4,
      "metadata": {
        "id": "1t7BqXjSeEOE",
        "colab": {
          "base_uri": "https://localhost:8080/"
        },
        "outputId": "e5056489-dc30-4818-adf5-2df1d67c0c5a"
      },
      "outputs": [
        {
          "output_type": "stream",
          "name": "stdout",
          "text": [
            "Downloading http://yann.lecun.com/exdb/mnist/train-images-idx3-ubyte.gz\n",
            "Failed to download (trying next):\n",
            "<urlopen error [SSL: CERTIFICATE_VERIFY_FAILED] certificate verify failed: certificate has expired (_ssl.c:1007)>\n",
            "\n",
            "Downloading https://ossci-datasets.s3.amazonaws.com/mnist/train-images-idx3-ubyte.gz\n",
            "Downloading https://ossci-datasets.s3.amazonaws.com/mnist/train-images-idx3-ubyte.gz to data/MNIST/raw/train-images-idx3-ubyte.gz\n"
          ]
        },
        {
          "output_type": "stream",
          "name": "stderr",
          "text": [
            "100%|██████████| 9912422/9912422 [00:02<00:00, 4498202.94it/s]\n"
          ]
        },
        {
          "output_type": "stream",
          "name": "stdout",
          "text": [
            "Extracting data/MNIST/raw/train-images-idx3-ubyte.gz to data/MNIST/raw\n",
            "\n",
            "Downloading http://yann.lecun.com/exdb/mnist/train-labels-idx1-ubyte.gz\n",
            "Failed to download (trying next):\n",
            "<urlopen error [SSL: CERTIFICATE_VERIFY_FAILED] certificate verify failed: certificate has expired (_ssl.c:1007)>\n",
            "\n",
            "Downloading https://ossci-datasets.s3.amazonaws.com/mnist/train-labels-idx1-ubyte.gz\n",
            "Downloading https://ossci-datasets.s3.amazonaws.com/mnist/train-labels-idx1-ubyte.gz to data/MNIST/raw/train-labels-idx1-ubyte.gz\n"
          ]
        },
        {
          "output_type": "stream",
          "name": "stderr",
          "text": [
            "100%|██████████| 28881/28881 [00:00<00:00, 57941.31it/s]\n"
          ]
        },
        {
          "output_type": "stream",
          "name": "stdout",
          "text": [
            "Extracting data/MNIST/raw/train-labels-idx1-ubyte.gz to data/MNIST/raw\n",
            "\n",
            "Downloading http://yann.lecun.com/exdb/mnist/t10k-images-idx3-ubyte.gz\n",
            "Failed to download (trying next):\n",
            "<urlopen error [SSL: CERTIFICATE_VERIFY_FAILED] certificate verify failed: certificate has expired (_ssl.c:1007)>\n",
            "\n",
            "Downloading https://ossci-datasets.s3.amazonaws.com/mnist/t10k-images-idx3-ubyte.gz\n",
            "Downloading https://ossci-datasets.s3.amazonaws.com/mnist/t10k-images-idx3-ubyte.gz to data/MNIST/raw/t10k-images-idx3-ubyte.gz\n"
          ]
        },
        {
          "output_type": "stream",
          "name": "stderr",
          "text": [
            "100%|██████████| 1648877/1648877 [00:06<00:00, 241773.97it/s]\n"
          ]
        },
        {
          "output_type": "stream",
          "name": "stdout",
          "text": [
            "Extracting data/MNIST/raw/t10k-images-idx3-ubyte.gz to data/MNIST/raw\n",
            "\n",
            "Downloading http://yann.lecun.com/exdb/mnist/t10k-labels-idx1-ubyte.gz\n",
            "Failed to download (trying next):\n",
            "<urlopen error [SSL: CERTIFICATE_VERIFY_FAILED] certificate verify failed: certificate has expired (_ssl.c:1007)>\n",
            "\n",
            "Downloading https://ossci-datasets.s3.amazonaws.com/mnist/t10k-labels-idx1-ubyte.gz\n",
            "Downloading https://ossci-datasets.s3.amazonaws.com/mnist/t10k-labels-idx1-ubyte.gz to data/MNIST/raw/t10k-labels-idx1-ubyte.gz\n"
          ]
        },
        {
          "output_type": "stream",
          "name": "stderr",
          "text": [
            "100%|██████████| 4542/4542 [00:00<00:00, 4534760.48it/s]"
          ]
        },
        {
          "output_type": "stream",
          "name": "stdout",
          "text": [
            "Extracting data/MNIST/raw/t10k-labels-idx1-ubyte.gz to data/MNIST/raw\n",
            "\n"
          ]
        },
        {
          "output_type": "stream",
          "name": "stderr",
          "text": [
            "\n"
          ]
        }
      ],
      "source": [
        "from torchvision import datasets\n",
        "from torchvision.transforms import ToTensor\n",
        "\n",
        "train_data = datasets.MNIST(\n",
        "    root = 'data',\n",
        "    train = True,\n",
        "    transform = ToTensor(),\n",
        "    download = True,\n",
        ")\n",
        "test_data = datasets.MNIST(\n",
        "    root = 'data',\n",
        "    train = False,\n",
        "    transform = ToTensor()\n",
        ")"
      ]
    },
    {
      "cell_type": "code",
      "source": [
        "print(train_data.data.size())\n",
        "print(test_data.data.size())"
      ],
      "metadata": {
        "colab": {
          "base_uri": "https://localhost:8080/"
        },
        "id": "O0TRP5AJoz_b",
        "outputId": "fba8cd98-fea2-4c3e-a455-84dfec190895"
      },
      "execution_count": 5,
      "outputs": [
        {
          "output_type": "stream",
          "name": "stdout",
          "text": [
            "torch.Size([60000, 28, 28])\n",
            "torch.Size([10000, 28, 28])\n"
          ]
        }
      ]
    },
    {
      "cell_type": "markdown",
      "source": [
        "## tranforms\n"
      ],
      "metadata": {
        "id": "IBSMd-uq70CC"
      }
    },
    {
      "cell_type": "code",
      "source": [
        "from torchvision import transforms\n",
        "\n",
        "transform_train = transforms.Compose([\n",
        "    transforms.RandomAffine(degrees=5, translate=(0.1, 0.1), scale=(0.9, 1.1), shear=10),\n",
        "    transforms.ToTensor()\n",
        "])\n",
        "\n",
        "transform_test = transforms.Compose([\n",
        "    transforms.ToTensor()\n",
        "])\n",
        "\n",
        "\n",
        "train_data = datasets.MNIST(\n",
        "    root = 'data',\n",
        "    train = True,\n",
        "    download = False,\n",
        "    transform = transform_train\n",
        ")\n",
        "test_data = datasets.MNIST(\n",
        "    root = 'data',\n",
        "    train = False,\n",
        "    download = False,\n",
        "    transform=transform_test\n",
        ")"
      ],
      "metadata": {
        "id": "Q3_Y2H2y7y1o"
      },
      "execution_count": 6,
      "outputs": []
    },
    {
      "cell_type": "markdown",
      "source": [
        "## loaders"
      ],
      "metadata": {
        "id": "b2cpHDMC6nEe"
      }
    },
    {
      "cell_type": "code",
      "execution_count": 7,
      "metadata": {
        "id": "lG8540m7l5Pg"
      },
      "outputs": [],
      "source": [
        "from torch.utils.data import DataLoader, random_split\n",
        "\n",
        "train_size = int(0.8 * len(train_data))\n",
        "val_size = len(train_data) - train_size\n",
        "train_data, val_data = random_split(train_data, [train_size, val_size])\n",
        "\n",
        "loaders = {\n",
        "    'train' : torch.utils.data.DataLoader(train_data,\n",
        "                                          batch_size=100,\n",
        "                                          shuffle=True,\n",
        "                                          num_workers=1),\n",
        "\n",
        "    'test'  : torch.utils.data.DataLoader(test_data,\n",
        "                                          batch_size=100,\n",
        "                                          shuffle=True,\n",
        "                                          num_workers=1),\n",
        "\n",
        "    'valid' : torch.utils.data.DataLoader(val_data,\n",
        "                                          batch_size=100,\n",
        "                                          shuffle=True,\n",
        "                                          num_workers=1)\n",
        "}\n"
      ]
    },
    {
      "cell_type": "code",
      "source": [
        "train_loader = loaders['train']\n",
        "data_iter = iter(train_loader)\n",
        "\n",
        "# Plot 10 images\n",
        "fig, axes = plt.subplots(2, 5, figsize=(12, 5))\n",
        "\n",
        "for i in range(10):\n",
        "    images, labels = next(data_iter)\n",
        "    ax = axes[i // 5, i % 5]\n",
        "    ax.imshow(images[0].permute(1, 2, 0).squeeze(), cmap='gray')  # Assuming images are in CHW format\n",
        "    ax.set_title(f\"Label: {labels[0]}\")\n",
        "    ax.axis('off')\n",
        "\n",
        "plt.show()"
      ],
      "metadata": {
        "colab": {
          "base_uri": "https://localhost:8080/",
          "height": 389
        },
        "id": "wbxOA9DzAEiW",
        "outputId": "df067e67-d750-4485-e4b5-da95d8840e21"
      },
      "execution_count": 8,
      "outputs": [
        {
          "output_type": "display_data",
          "data": {
            "text/plain": [
              "<Figure size 1200x500 with 10 Axes>"
            ],
            "image/png": "[encoded data removed]"
          },
          "metadata": {}
        }
      ]
    },
    {
      "cell_type": "markdown",
      "source": [
        "## Simple CNN"
      ],
      "metadata": {
        "id": "WZ2ejbkGpJWU"
      }
    },
    {
      "cell_type": "code",
      "source": [
        "import torch.nn as nn\n",
        "class CNN(nn.Module):\n",
        "    def __init__(self):\n",
        "        super(CNN, self).__init__()\n",
        "        self.conv1 = nn.Sequential(\n",
        "            nn.Conv2d(\n",
        "                in_channels=1,\n",
        "                out_channels=16,\n",
        "                kernel_size=5,\n",
        "                stride=1,\n",
        "                padding=2,\n",
        "            ),\n",
        "            nn.ReLU(),\n",
        "            nn.MaxPool2d(kernel_size=2),\n",
        "        )\n",
        "        self.conv2 = nn.Sequential(\n",
        "            nn.Conv2d(16, 32, 5, 1, 2),\n",
        "            nn.ReLU(),\n",
        "            nn.MaxPool2d(2),\n",
        "        )\n",
        "        # fully connected layer, output 10 classes\n",
        "        self.out = nn.Linear(32 * 7 * 7, 10)\n",
        "    def forward(self, x):\n",
        "        x = self.conv1(x)\n",
        "        x = self.conv2(x)\n",
        "        x = x.view(x.size(0), -1)\n",
        "        output = self.out(x)\n",
        "        return output\n",
        "\n",
        "\n",
        "model = CNN()"
      ],
      "metadata": {
        "id": "rzlREnn5pIo6"
      },
      "execution_count": 9,
      "outputs": []
    },
    {
      "cell_type": "markdown",
      "source": [
        "## My_CNN"
      ],
      "metadata": {
        "id": "ge7WAJk9maYk"
      }
    },
    {
      "cell_type": "code",
      "source": [
        "class Net(nn.Module):\n",
        "    def __init__(self, num_classes):\n",
        "        super(Net, self).__init__()\n",
        "\n",
        "        self.conv1 = nn.Sequential(\n",
        "            nn.Conv2d(\n",
        "                in_channels=1,\n",
        "                out_channels=16,\n",
        "                kernel_size=5,\n",
        "                stride=1,\n",
        "                padding=2,\n",
        "            ),\n",
        "            nn.ReLU(),\n",
        "            nn.Dropout2d(p=0.1)\n",
        "        )\n",
        "\n",
        "\n",
        "        self.conv2 = nn.Sequential(\n",
        "            nn.Conv2d(\n",
        "                in_channels=16,\n",
        "                out_channels=24,\n",
        "                kernel_size=3,\n",
        "                stride=1,\n",
        "                padding=1,\n",
        "            ),\n",
        "            nn.ReLU(),\n",
        "            nn.MaxPool2d(kernel_size=2),\n",
        "            nn.Dropout2d(p=0.1)\n",
        "        )\n",
        "\n",
        "        self.conv3 = nn.Sequential(\n",
        "            nn.Conv2d(\n",
        "                in_channels=24,\n",
        "                out_channels=32,\n",
        "                kernel_size=2,\n",
        "                stride=1,\n",
        "                padding=1,\n",
        "            ),\n",
        "            nn.ReLU(),\n",
        "            nn.MaxPool2d(kernel_size=2),\n",
        "            nn.Dropout2d(p=0.3)\n",
        "\n",
        "        )\n",
        "\n",
        "        self.linear1 = nn.Linear(in_features=32 * 7 * 7, out_features=24)\n",
        "\n",
        "        self.drop = nn.Dropout(p=0.3)\n",
        "\n",
        "        self.linear2 = nn.Linear(in_features=24, out_features=num_classes)\n",
        "\n",
        "    def forward(self, x):\n",
        "\n",
        "        x = self.conv1(x)\n",
        "        x = self.conv2(x)\n",
        "        x = self.conv3(x)\n",
        "\n",
        "        # Flatten\n",
        "        x = x.view(-1, 32 * 7 * 7)\n",
        "\n",
        "        x = self.linear1(x)\n",
        "        x = nn.functional.relu(x)\n",
        "\n",
        "        x = self.drop(x)\n",
        "\n",
        "        x = self.linear2(x)\n",
        "\n",
        "        output = torch.log_softmax(x, dim=1)\n",
        "        return output\n",
        "\n",
        "model = Net(num_classes=10).to(device)\n",
        "\n",
        "print(model)\n"
      ],
      "metadata": {
        "colab": {
          "base_uri": "https://localhost:8080/"
        },
        "id": "ynDk5jIdQYnf",
        "outputId": "f2dd72b4-38fc-4432-b789-ec8d9964e95b"
      },
      "execution_count": 10,
      "outputs": [
        {
          "output_type": "stream",
          "name": "stdout",
          "text": [
            "Net(\n",
            "  (conv1): Sequential(\n",
            "    (0): Conv2d(1, 16, kernel_size=(5, 5), stride=(1, 1), padding=(2, 2))\n",
            "    (1): ReLU()\n",
            "    (2): Dropout2d(p=0.1, inplace=False)\n",
            "  )\n",
            "  (conv2): Sequential(\n",
            "    (0): Conv2d(16, 24, kernel_size=(3, 3), stride=(1, 1), padding=(1, 1))\n",
            "    (1): ReLU()\n",
            "    (2): MaxPool2d(kernel_size=2, stride=2, padding=0, dilation=1, ceil_mode=False)\n",
            "    (3): Dropout2d(p=0.1, inplace=False)\n",
            "  )\n",
            "  (conv3): Sequential(\n",
            "    (0): Conv2d(24, 32, kernel_size=(2, 2), stride=(1, 1), padding=(1, 1))\n",
            "    (1): ReLU()\n",
            "    (2): MaxPool2d(kernel_size=2, stride=2, padding=0, dilation=1, ceil_mode=False)\n",
            "    (3): Dropout2d(p=0.3, inplace=False)\n",
            "  )\n",
            "  (linear1): Linear(in_features=1568, out_features=24, bias=True)\n",
            "  (drop): Dropout(p=0.3, inplace=False)\n",
            "  (linear2): Linear(in_features=24, out_features=10, bias=True)\n",
            ")\n"
          ]
        }
      ]
    },
    {
      "cell_type": "code",
      "source": [
        "%%capture\n",
        "!pip install torchviz\n",
        "\n",
        "import torch\n",
        "from torchviz import make_dot\n",
        "\n",
        "\n",
        "dummy_input = torch.randn(1, 1, 28, 28).to(device)\n",
        "\n",
        "dot = make_dot(model(dummy_input), params=dict(model.named_parameters()))\n",
        "\n",
        "dot.render(\"CNN_visualization\", format=\"png\")\n",
        "\n",
        "dot"
      ],
      "metadata": {
        "id": "A9rRX3aJmJB2"
      },
      "execution_count": 14,
      "outputs": []
    },
    {
      "cell_type": "markdown",
      "source": [
        "## updated training\n"
      ],
      "metadata": {
        "id": "UmfK-xB8uPEt"
      }
    },
    {
      "cell_type": "code",
      "source": [
        "import os\n",
        "# os.environ[\"OMP_NUM_THREADS\"] = \"1\"\n",
        "\n",
        "# Now import JAX\n",
        "import jax\n",
        "\n",
        "def train(model, loaders = loaders , num_epochs=20, loss_func = None , optimizer = None):\n",
        "\n",
        "    model.train()\n",
        "    train_losses = []\n",
        "    train_accuracies = []\n",
        "    val_losses = []\n",
        "    val_accuracies = []\n",
        "\n",
        "    for epoch in range(num_epochs):\n",
        "        # Training\n",
        "        running_loss = 0.0\n",
        "        correct_train = 0\n",
        "        total_train = 0\n",
        "        for i, (images, labels) in enumerate(loaders['train']):\n",
        "            b_x = images.requires_grad_(True).to(device)\n",
        "            b_y = labels.to(device)\n",
        "\n",
        "            output = model(b_x)\n",
        "            loss = loss_func(output, b_y)\n",
        "\n",
        "            optimizer.zero_grad()\n",
        "            loss.backward()\n",
        "            optimizer.step()\n",
        "\n",
        "            running_loss += loss.item()\n",
        "\n",
        "            _, predicted_train = torch.max(output.data, 1)\n",
        "            total_train += b_y.size(0)\n",
        "            correct_train += (predicted_train == b_y).sum().item()\n",
        "\n",
        "        train_loss = running_loss / len(loaders['train'])\n",
        "        train_accuracy = 100 * correct_train / total_train\n",
        "        train_losses.append(train_loss)\n",
        "        train_accuracies.append(train_accuracy)\n",
        "\n",
        "        # Validation\n",
        "        model.eval()\n",
        "        val_loss = 0.0\n",
        "        correct_val = 0\n",
        "        total_val = 0\n",
        "        with torch.no_grad():\n",
        "            for images, labels in loaders['valid']:\n",
        "                b_x = images.requires_grad_(False).to(device)\n",
        "                b_y = labels.to(device)\n",
        "\n",
        "                output = model(b_x)\n",
        "                loss = loss_func(output, b_y)\n",
        "                val_loss += loss.item()\n",
        "\n",
        "                _, predicted_val = torch.max(output.data, 1)\n",
        "                total_val += b_y.size(0)\n",
        "                correct_val += (predicted_val == b_y).sum().item()\n",
        "\n",
        "        val_loss /= len(loaders['valid'])\n",
        "        val_accuracy = 100 * correct_val / total_val\n",
        "        val_losses.append(val_loss)\n",
        "        val_accuracies.append(val_accuracy)\n",
        "\n",
        "        print(f\"Epoch [{epoch + 1}/{num_epochs}], \"\n",
        "              f\"Train Loss: {train_loss:.4f}, \"\n",
        "              f\"Train Accuracy: {train_accuracy:.2f}%, \"\n",
        "              f\"Val Loss: {val_loss:.4f}, \"\n",
        "              f\"Val Accuracy: {val_accuracy:.2f}%\")\n",
        "\n",
        "    # Plotting\n",
        "    plt.figure(figsize=(10, 5))\n",
        "    plt.plot(range(1, num_epochs + 1), train_losses, label='Train Loss')\n",
        "    plt.plot(range(1, num_epochs + 1), val_losses, label='Val Loss')\n",
        "    plt.xlabel('Epochs')\n",
        "    plt.ylabel('Loss')\n",
        "    plt.title('Training and Validation Loss')\n",
        "    plt.legend()\n",
        "    plt.show()\n",
        "\n",
        "    plt.figure(figsize=(10, 5))\n",
        "    plt.plot(range(1, num_epochs + 1), train_accuracies, label='Train Accuracy')\n",
        "    plt.plot(range(1, num_epochs + 1), val_accuracies, label='Val Accuracy')\n",
        "    plt.xlabel('Epochs')\n",
        "    plt.ylabel('Accuracy (%)')\n",
        "    plt.title('Training and Validation Accuracy')\n",
        "    plt.legend()\n",
        "    plt.show()\n"
      ],
      "metadata": {
        "id": "9RKtecF-EAEN"
      },
      "execution_count": 18,
      "outputs": []
    },
    {
      "cell_type": "code",
      "source": [
        "from torch import optim\n",
        "\n",
        "learning_rate = 0.01\n",
        "\n",
        "optimizer = optim.Adam(model.parameters(), lr = learning_rate)\n",
        "\n",
        "loss_func = nn.CrossEntropyLoss()\n",
        "\n",
        "train(model, num_epochs = 5 , loss_func = loss_func, optimizer = optimizer)"
      ],
      "metadata": {
        "colab": {
          "base_uri": "https://localhost:8080/",
          "height": 1000
        },
        "id": "v6fGxBHC4T7y",
        "outputId": "e0ca14a4-2e7b-4d2a-ce3e-73547a38544c"
      },
      "execution_count": 21,
      "outputs": [
        {
          "output_type": "stream",
          "name": "stdout",
          "text": [
            "Epoch [1/5], Train Loss: 1.1282, Train Accuracy: 59.71%, Val Loss: 0.3688, Val Accuracy: 90.72%\n",
            "Epoch [2/5], Train Loss: 0.1961, Train Accuracy: 94.12%, Val Loss: 0.1430, Val Accuracy: 95.78%\n",
            "Epoch [3/5], Train Loss: 0.1432, Train Accuracy: 95.72%, Val Loss: 0.1352, Val Accuracy: 96.09%\n",
            "Epoch [4/5], Train Loss: 0.1304, Train Accuracy: 96.01%, Val Loss: 0.1817, Val Accuracy: 94.68%\n",
            "Epoch [5/5], Train Loss: 0.1192, Train Accuracy: 96.44%, Val Loss: 0.1177, Val Accuracy: 96.61%\n"
          ]
        },
        {
          "output_type": "display_data",
          "data": {
            "text/plain": [
              "<Figure size 1000x500 with 1 Axes>"
            ],
            "image/png": "[encoded data removed]"
          },
          "metadata": {}
        },
        {
          "output_type": "display_data",
          "data": {
            "text/plain": [
              "<Figure size 1000x500 with 1 Axes>"
            ],
            "image/png": "[encoded data removed]"
          },
          "metadata": {}
        }
      ]
    },
    {
      "cell_type": "code",
      "source": [
        "from google.colab import drive\n",
        "drive.mount('/content/drive')"
      ],
      "metadata": {
        "id": "Huuzk7Vd3o-k",
        "colab": {
          "base_uri": "https://localhost:8080/"
        },
        "outputId": "9a8bb655-7233-406e-c9d1-a2aa969e52d0"
      },
      "execution_count": 22,
      "outputs": [
        {
          "output_type": "stream",
          "name": "stdout",
          "text": [
            "Mounted at /content/drive\n"
          ]
        }
      ]
    },
    {
      "cell_type": "code",
      "source": [
        "torch.save(model, \"model_dropout_trained_model.pt\")\n",
        "\n",
        "!cp  model_dropout_trained_model.pt /content/drive/MyDrive/Sxoli/EFREMIDIS\n",
        "\n",
        "cnn = torch.load('/content/drive/MyDrive/Sxoli/EFREMIDIS/model_dropout_trained_model.pt')"
      ],
      "metadata": {
        "id": "HkAu0QB9uTx8",
        "colab": {
          "base_uri": "https://localhost:8080/"
        },
        "outputId": "506afed7-8175-4fef-84aa-dac288efeab5"
      },
      "execution_count": 23,
      "outputs": [
        {
          "output_type": "stream",
          "name": "stderr",
          "text": [
            "<ipython-input-23-ab5d637eae1e>:5: FutureWarning: You are using `torch.load` with `weights_only=False` (the current default value), which uses the default pickle module implicitly. It is possible to construct malicious pickle data which will execute arbitrary code during unpickling (See https://github.com/pytorch/pytorch/blob/main/SECURITY.md#untrusted-models for more details). In a future release, the default value for `weights_only` will be flipped to `True`. This limits the functions that could be executed during unpickling. Arbitrary objects will no longer be allowed to be loaded via this mode unless they are explicitly allowlisted by the user via `torch.serialization.add_safe_globals`. We recommend you start setting `weights_only=True` for any use case where you don't have full control of the loaded file. Please open an issue on GitHub for any issues related to this experimental feature.\n",
            "  cnn = torch.load('/content/drive/MyDrive/Sxoli/EFREMIDIS/model_dropout_trained_model.pt')\n"
          ]
        }
      ]
    },
    {
      "cell_type": "markdown",
      "source": [
        "## test"
      ],
      "metadata": {
        "id": "08pLwnS5Aui4"
      }
    },
    {
      "cell_type": "code",
      "source": [
        "def test(model):\n",
        "    model.eval()\n",
        "    with torch.no_grad():\n",
        "        correct = 0\n",
        "        total = 0\n",
        "\n",
        "        for images, labels in loaders['test']:\n",
        "          # Move images and labels to the same device as the model\n",
        "            images, labels = images.to(device), labels.to(device)\n",
        "\n",
        "            test_output = model(images)\n",
        "            pred_y = torch.max(test_output, 1)[1].data.squeeze()\n",
        "            accuracy = (pred_y == labels).sum().item() / float(labels.size(0))\n",
        "        pass\n",
        "\n",
        "    print('Test Accuracy of the model on the 10000 test images: %.2f' % accuracy)\n",
        "\n",
        "    pass\n",
        "\n",
        "test(cnn)"
      ],
      "metadata": {
        "id": "zmLhNU8DsFQR",
        "colab": {
          "base_uri": "https://localhost:8080/"
        },
        "outputId": "c9901c30-c73d-41b0-ff31-086c77d4b2cd"
      },
      "execution_count": 26,
      "outputs": [
        {
          "output_type": "stream",
          "name": "stdout",
          "text": [
            "Test Accuracy of the model on the 10000 test images: 0.99\n"
          ]
        }
      ]
    },
    {
      "cell_type": "code",
      "source": [
        "from sklearn.metrics import confusion_matrix\n",
        "\n",
        "def test(cnn, loaders):\n",
        "    model.eval()\n",
        "    with torch.no_grad():\n",
        "        all_predicted_labels = []\n",
        "        all_true_labels = []\n",
        "\n",
        "        for images, labels in loaders['test']:\n",
        "            # Move images and labels to the same device as the model\n",
        "            images, labels = images.to(device), labels.to(device)\n",
        "\n",
        "            test_output = model(images)\n",
        "            pred_y = torch.max(test_output, 1)[1].data.squeeze()\n",
        "\n",
        "            all_predicted_labels.extend(pred_y.tolist())\n",
        "            all_true_labels.extend(labels.tolist())\n",
        "\n",
        "        # Calculate Test Accuracy\n",
        "        accuracy = (torch.tensor(all_predicted_labels) == torch.tensor(all_true_labels)).float().mean().item()\n",
        "        print('Test Accuracy of the model on the test set: %.2f' % accuracy)\n",
        "\n",
        "        # Calculate Confusion Matrix\n",
        "        cm = confusion_matrix(all_true_labels, all_predicted_labels)\n",
        "        print('Confusion Matrix:\\n', cm)\n",
        "\n",
        "        # Calculate accuracy for each class\n",
        "        class_accuracies = np.diag(cm) / cm.sum(axis=1)\n",
        "        for i, acc in enumerate(class_accuracies):\n",
        "            print(f'Accuracy for class {i}: {acc:.2f}')\n",
        "\n",
        "        # Visualize wrongly predicted images\n",
        "        #visualize_wrong_predictions(images, all_predicted_labels, all_true_labels)\n",
        "\n",
        "    return all_predicted_labels, all_true_labels\n",
        "\n",
        "all_predicted_labels, all_true_labels = test(cnn, loaders)\n"
      ],
      "metadata": {
        "id": "KP-eFgdwy7On",
        "colab": {
          "base_uri": "https://localhost:8080/"
        },
        "outputId": "48220e5e-76d6-47e0-904d-70f2d2362ffb"
      },
      "execution_count": 29,
      "outputs": [
        {
          "output_type": "stream",
          "name": "stderr",
          "text": [
            "/usr/lib/python3.10/multiprocessing/popen_fork.py:66: RuntimeWarning: os.fork() was called. os.fork() is incompatible with multithreaded code, and JAX is multithreaded, so this will likely lead to a deadlock.\n",
            "  self.pid = os.fork()\n",
            "/usr/lib/python3.10/multiprocessing/popen_fork.py:66: RuntimeWarning: os.fork() was called. os.fork() is incompatible with multithreaded code, and JAX is multithreaded, so this will likely lead to a deadlock.\n",
            "  self.pid = os.fork()\n"
          ]
        },
        {
          "output_type": "stream",
          "name": "stdout",
          "text": [
            "Test Accuracy of the model on the test set: 0.98\n",
            "Confusion Matrix:\n",
            " [[ 974    0    2    0    0    1    0    0    1    2]\n",
            " [   0 1125    2    1    0    1    1    5    0    0]\n",
            " [   1    3 1010    1    0    0    0   11    6    0]\n",
            " [   0    0    0 1006    0    2    0    1    0    1]\n",
            " [   0    1    0    0  969    0    0    0    1   11]\n",
            " [   0    0    0   12    0  877    1    1    0    1]\n",
            " [   5    3    1    0    5   20  921    0    3    0]\n",
            " [   0    2    2    0    3    0    0 1013    2    6]\n",
            " [   4    0    2    1    1    7    3    1  941   14]\n",
            " [   0    0    2    1    8    1    0    2    3  992]]\n",
            "Accuracy for class 0: 0.99\n",
            "Accuracy for class 1: 0.99\n",
            "Accuracy for class 2: 0.98\n",
            "Accuracy for class 3: 1.00\n",
            "Accuracy for class 4: 0.99\n",
            "Accuracy for class 5: 0.98\n",
            "Accuracy for class 6: 0.96\n",
            "Accuracy for class 7: 0.99\n",
            "Accuracy for class 8: 0.97\n",
            "Accuracy for class 9: 0.98\n"
          ]
        }
      ]
    },
    {
      "cell_type": "code",
      "source": [
        "import math\n",
        "\n",
        "def wrong_images():\n",
        "    model.eval()\n",
        "    with torch.no_grad():\n",
        "        wrong_sum = 0\n",
        "\n",
        "        for images, labels in loaders['test']:\n",
        "            # Move images and labels to the same device as the model\n",
        "            images, labels = images.to(device), labels.to(device)\n",
        "\n",
        "            test_output = model(images)\n",
        "            pred_y = torch.max(test_output, 1)[1].data.squeeze()\n",
        "\n",
        "            wrong_indices = (pred_y != labels).nonzero(as_tuple=True)[0]\n",
        "            wrong_indices = wrong_indices[:20]\n",
        "\n",
        "            # Skip batch if no misclassified images\n",
        "            if len(wrong_indices) == 0:\n",
        "                continue\n",
        "\n",
        "            wrong_sum += len(wrong_indices)\n",
        "\n",
        "            for i, idx in enumerate(wrong_indices):\n",
        "                wrong_predicted_label = pred_y[idx].item()\n",
        "                wrong_true_label = labels[idx].item()\n",
        "\n",
        "                print(f'Image index {idx}: Predicted = {wrong_predicted_label}, True = {wrong_true_label}')\n",
        "\n",
        "        print(f'Total number of wrong predictions: {wrong_sum}')\n",
        "\n",
        "wrong_images()\n"
      ],
      "metadata": {
        "id": "9iddKDZnxlht",
        "colab": {
          "base_uri": "https://localhost:8080/"
        },
        "outputId": "0c82abbb-68db-4396-b7f5-6ed13371dc3b"
      },
      "execution_count": 33,
      "outputs": [
        {
          "output_type": "stream",
          "name": "stdout",
          "text": [
            "Image index 49: Predicted = 1, True = 7\n",
            "Image index 21: Predicted = 8, True = 2\n",
            "Image index 46: Predicted = 7, True = 5\n",
            "Image index 69: Predicted = 7, True = 2\n",
            "Image index 69: Predicted = 5, True = 6\n",
            "Image index 54: Predicted = 8, True = 4\n",
            "Image index 4: Predicted = 4, True = 9\n",
            "Image index 18: Predicted = 7, True = 1\n",
            "Image index 84: Predicted = 9, True = 8\n",
            "Image index 60: Predicted = 7, True = 9\n",
            "Image index 46: Predicted = 6, True = 5\n",
            "Image index 69: Predicted = 5, True = 1\n",
            "Image index 4: Predicted = 2, True = 8\n",
            "Image index 53: Predicted = 9, True = 4\n",
            "Image index 66: Predicted = 9, True = 4\n",
            "Image index 71: Predicted = 4, True = 9\n",
            "Image index 52: Predicted = 9, True = 0\n",
            "Image index 83: Predicted = 8, True = 6\n",
            "Image index 92: Predicted = 5, True = 6\n",
            "Image index 34: Predicted = 9, True = 8\n",
            "Image index 91: Predicted = 9, True = 7\n",
            "Image index 60: Predicted = 3, True = 5\n",
            "Image index 73: Predicted = 6, True = 8\n",
            "Image index 84: Predicted = 9, True = 8\n",
            "Image index 90: Predicted = 5, True = 6\n",
            "Image index 28: Predicted = 5, True = 6\n",
            "Image index 46: Predicted = 1, True = 7\n",
            "Image index 80: Predicted = 5, True = 8\n",
            "Image index 93: Predicted = 5, True = 6\n",
            "Image index 9: Predicted = 5, True = 6\n",
            "Image index 90: Predicted = 2, True = 0\n",
            "Image index 43: Predicted = 9, True = 8\n",
            "Image index 9: Predicted = 4, True = 8\n",
            "Image index 12: Predicted = 9, True = 8\n",
            "Image index 71: Predicted = 8, True = 6\n",
            "Image index 77: Predicted = 4, True = 6\n",
            "Image index 48: Predicted = 5, True = 6\n",
            "Image index 52: Predicted = 3, True = 5\n",
            "Image index 56: Predicted = 6, True = 8\n",
            "Image index 57: Predicted = 5, True = 8\n",
            "Image index 5: Predicted = 4, True = 7\n",
            "Image index 6: Predicted = 8, True = 2\n",
            "Image index 69: Predicted = 6, True = 1\n",
            "Image index 30: Predicted = 2, True = 6\n",
            "Image index 58: Predicted = 6, True = 8\n",
            "Image index 66: Predicted = 5, True = 6\n",
            "Image index 49: Predicted = 3, True = 5\n",
            "Image index 71: Predicted = 7, True = 2\n",
            "Image index 88: Predicted = 8, True = 7\n",
            "Image index 89: Predicted = 4, True = 9\n",
            "Image index 84: Predicted = 7, True = 2\n",
            "Image index 89: Predicted = 5, True = 8\n",
            "Image index 11: Predicted = 1, True = 4\n",
            "Image index 34: Predicted = 0, True = 6\n",
            "Image index 48: Predicted = 7, True = 1\n",
            "Image index 51: Predicted = 5, True = 6\n",
            "Image index 58: Predicted = 7, True = 2\n",
            "Image index 37: Predicted = 5, True = 8\n",
            "Image index 90: Predicted = 7, True = 2\n",
            "Image index 4: Predicted = 2, True = 7\n",
            "Image index 8: Predicted = 9, True = 7\n",
            "Image index 38: Predicted = 2, True = 8\n",
            "Image index 16: Predicted = 3, True = 5\n",
            "Image index 20: Predicted = 2, True = 1\n",
            "Image index 10: Predicted = 1, True = 2\n",
            "Image index 80: Predicted = 7, True = 3\n",
            "Image index 84: Predicted = 5, True = 6\n",
            "Image index 15: Predicted = 5, True = 8\n",
            "Image index 54: Predicted = 7, True = 9\n",
            "Image index 26: Predicted = 9, True = 4\n",
            "Image index 89: Predicted = 9, True = 4\n",
            "Image index 1: Predicted = 8, True = 2\n",
            "Image index 17: Predicted = 3, True = 5\n",
            "Image index 61: Predicted = 7, True = 2\n",
            "Image index 0: Predicted = 4, True = 9\n",
            "Image index 6: Predicted = 8, True = 9\n",
            "Image index 69: Predicted = 9, True = 8\n",
            "Image index 11: Predicted = 9, True = 8\n",
            "Image index 25: Predicted = 3, True = 1\n",
            "Image index 29: Predicted = 9, True = 4\n",
            "Image index 77: Predicted = 4, True = 6\n",
            "Image index 40: Predicted = 8, True = 2\n",
            "Image index 72: Predicted = 2, True = 0\n",
            "Image index 1: Predicted = 3, True = 5\n",
            "Image index 3: Predicted = 8, True = 9\n",
            "Image index 24: Predicted = 5, True = 6\n",
            "Image index 53: Predicted = 1, True = 6\n",
            "Image index 87: Predicted = 5, True = 6\n",
            "Image index 37: Predicted = 3, True = 5\n",
            "Image index 38: Predicted = 5, True = 6\n",
            "Image index 41: Predicted = 7, True = 2\n",
            "Image index 19: Predicted = 3, True = 5\n",
            "Image index 55: Predicted = 9, True = 4\n",
            "Image index 73: Predicted = 9, True = 8\n",
            "Image index 72: Predicted = 5, True = 9\n",
            "Image index 8: Predicted = 9, True = 4\n",
            "Image index 17: Predicted = 2, True = 7\n",
            "Image index 11: Predicted = 9, True = 4\n",
            "Image index 25: Predicted = 7, True = 1\n",
            "Image index 66: Predicted = 9, True = 8\n",
            "Image index 68: Predicted = 5, True = 6\n",
            "Image index 81: Predicted = 7, True = 2\n",
            "Image index 79: Predicted = 8, True = 2\n",
            "Image index 0: Predicted = 4, True = 6\n",
            "Image index 41: Predicted = 0, True = 8\n",
            "Image index 91: Predicted = 8, True = 0\n",
            "Image index 97: Predicted = 9, True = 8\n",
            "Image index 8: Predicted = 9, True = 8\n",
            "Image index 16: Predicted = 5, True = 0\n",
            "Image index 44: Predicted = 4, True = 7\n",
            "Image index 0: Predicted = 5, True = 8\n",
            "Image index 14: Predicted = 4, True = 7\n",
            "Image index 21: Predicted = 1, True = 2\n",
            "Image index 95: Predicted = 4, True = 9\n",
            "Image index 13: Predicted = 2, True = 1\n",
            "Image index 34: Predicted = 8, True = 7\n",
            "Image index 50: Predicted = 5, True = 6\n",
            "Image index 77: Predicted = 9, True = 5\n",
            "Image index 84: Predicted = 5, True = 3\n",
            "Image index 37: Predicted = 3, True = 5\n",
            "Image index 40: Predicted = 9, True = 7\n",
            "Image index 0: Predicted = 0, True = 8\n",
            "Image index 95: Predicted = 3, True = 5\n",
            "Image index 56: Predicted = 8, True = 9\n",
            "Image index 65: Predicted = 9, True = 0\n",
            "Image index 93: Predicted = 4, True = 9\n",
            "Image index 20: Predicted = 7, True = 2\n",
            "Image index 35: Predicted = 7, True = 2\n",
            "Image index 56: Predicted = 1, True = 6\n",
            "Image index 63: Predicted = 9, True = 8\n",
            "Image index 37: Predicted = 2, True = 9\n",
            "Image index 28: Predicted = 5, True = 6\n",
            "Image index 19: Predicted = 3, True = 5\n",
            "Image index 94: Predicted = 0, True = 6\n",
            "Image index 61: Predicted = 9, True = 4\n",
            "Image index 65: Predicted = 9, True = 4\n",
            "Image index 59: Predicted = 9, True = 7\n",
            "Image index 27: Predicted = 4, True = 9\n",
            "Image index 35: Predicted = 3, True = 8\n",
            "Image index 49: Predicted = 0, True = 6\n",
            "Image index 13: Predicted = 4, True = 6\n",
            "Image index 51: Predicted = 3, True = 2\n",
            "Image index 68: Predicted = 7, True = 1\n",
            "Image index 81: Predicted = 5, True = 6\n",
            "Image index 89: Predicted = 8, True = 2\n",
            "Image index 46: Predicted = 7, True = 2\n",
            "Image index 49: Predicted = 1, True = 6\n",
            "Image index 12: Predicted = 5, True = 8\n",
            "Image index 66: Predicted = 7, True = 8\n",
            "Image index 66: Predicted = 8, True = 6\n",
            "Image index 18: Predicted = 3, True = 5\n",
            "Image index 27: Predicted = 0, True = 2\n",
            "Image index 34: Predicted = 9, True = 8\n",
            "Image index 12: Predicted = 4, True = 9\n",
            "Image index 18: Predicted = 0, True = 8\n",
            "Image index 24: Predicted = 5, True = 6\n",
            "Image index 20: Predicted = 9, True = 7\n",
            "Image index 67: Predicted = 1, True = 2\n",
            "Image index 77: Predicted = 7, True = 1\n",
            "Image index 85: Predicted = 5, True = 3\n",
            "Image index 67: Predicted = 5, True = 6\n",
            "Image index 86: Predicted = 0, True = 8\n",
            "Image index 98: Predicted = 9, True = 7\n",
            "Image index 49: Predicted = 9, True = 8\n",
            "Image index 36: Predicted = 9, True = 4\n",
            "Image index 32: Predicted = 2, True = 9\n",
            "Image index 36: Predicted = 0, True = 6\n",
            "Image index 88: Predicted = 9, True = 3\n",
            "Image index 49: Predicted = 0, True = 6\n",
            "Image index 54: Predicted = 3, True = 9\n",
            "Image index 43: Predicted = 5, True = 6\n",
            "Image index 98: Predicted = 4, True = 6\n",
            "Total number of wrong predictions: 172\n"
          ]
        }
      ]
    }
  ]
}