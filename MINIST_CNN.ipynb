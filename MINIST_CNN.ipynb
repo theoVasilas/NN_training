{
  "nbformat": 4,
  "nbformat_minor": 0,
  "metadata": {
    "colab": {
      "provenance": [],
      "gpuType": "T4"
    },
    "kernelspec": {
      "name": "python3",
      "display_name": "Python 3"
    },
    "language_info": {
      "name": "python"
    },
    "accelerator": "GPU"
  },
  "cells": [
    {
      "cell_type": "markdown",
      "source": [
        "## dowload dataset and imports"
      ],
      "metadata": {
        "id": "mnwzMxDtEruq"
      }
    },
    {
      "cell_type": "code",
      "execution_count": 2,
      "metadata": {
        "id": "mACbvzOteEOE"
      },
      "outputs": [],
      "source": [
        "%%capture\n",
        "%pip install torch\n",
        "%pip install torchvision\n",
        "#captured_output.show()"
      ]
    },
    {
      "cell_type": "code",
      "execution_count": 3,
      "metadata": {
        "id": "2MoQUahQl5Pg"
      },
      "outputs": [],
      "source": [
        "import torch\n",
        "from torch import nn\n",
        "import torch.optim as optim\n",
        "from torch.utils.data import DataLoader\n",
        "\n",
        "import matplotlib.pyplot as plt\n",
        "\n",
        "from IPython.utils import io\n",
        "import numpy as np\n"
      ]
    },
    {
      "cell_type": "code",
      "source": [
        "# Device configuration\n",
        "device = torch.device('cuda' if torch.cuda.is_available() else 'cpu')\n",
        "device"
      ],
      "metadata": {
        "colab": {
          "base_uri": "https://localhost:8080/"
        },
        "id": "D9-s8Rv9ntfs",
        "outputId": "34abf82f-2374-4df1-cd32-40d733d740de"
      },
      "execution_count": 20,
      "outputs": [
        {
          "output_type": "execute_result",
          "data": {
            "text/plain": [
              "device(type='cuda')"
            ]
          },
          "metadata": {},
          "execution_count": 20
        }
      ]
    },
    {
      "cell_type": "code",
      "execution_count": 5,
      "metadata": {
        "id": "1t7BqXjSeEOE",
        "colab": {
          "base_uri": "https://localhost:8080/"
        },
        "outputId": "e2d3114c-1cb4-4708-838d-6984e92685c7"
      },
      "outputs": [
        {
          "output_type": "stream",
          "name": "stdout",
          "text": [
            "Downloading http://yann.lecun.com/exdb/mnist/train-images-idx3-ubyte.gz\n",
            "Failed to download (trying next):\n",
            "HTTP Error 403: Forbidden\n",
            "\n",
            "Downloading https://ossci-datasets.s3.amazonaws.com/mnist/train-images-idx3-ubyte.gz\n",
            "Downloading https://ossci-datasets.s3.amazonaws.com/mnist/train-images-idx3-ubyte.gz to data/MNIST/raw/train-images-idx3-ubyte.gz\n"
          ]
        },
        {
          "output_type": "stream",
          "name": "stderr",
          "text": [
            "100%|██████████| 9912422/9912422 [00:00<00:00, 18208502.84it/s]\n"
          ]
        },
        {
          "output_type": "stream",
          "name": "stdout",
          "text": [
            "Extracting data/MNIST/raw/train-images-idx3-ubyte.gz to data/MNIST/raw\n",
            "\n",
            "Downloading http://yann.lecun.com/exdb/mnist/train-labels-idx1-ubyte.gz\n",
            "Failed to download (trying next):\n",
            "HTTP Error 403: Forbidden\n",
            "\n",
            "Downloading https://ossci-datasets.s3.amazonaws.com/mnist/train-labels-idx1-ubyte.gz\n",
            "Downloading https://ossci-datasets.s3.amazonaws.com/mnist/train-labels-idx1-ubyte.gz to data/MNIST/raw/train-labels-idx1-ubyte.gz\n"
          ]
        },
        {
          "output_type": "stream",
          "name": "stderr",
          "text": [
            "100%|██████████| 28881/28881 [00:00<00:00, 470493.83it/s]\n"
          ]
        },
        {
          "output_type": "stream",
          "name": "stdout",
          "text": [
            "Extracting data/MNIST/raw/train-labels-idx1-ubyte.gz to data/MNIST/raw\n",
            "\n",
            "Downloading http://yann.lecun.com/exdb/mnist/t10k-images-idx3-ubyte.gz\n",
            "Failed to download (trying next):\n",
            "HTTP Error 403: Forbidden\n",
            "\n",
            "Downloading https://ossci-datasets.s3.amazonaws.com/mnist/t10k-images-idx3-ubyte.gz\n",
            "Downloading https://ossci-datasets.s3.amazonaws.com/mnist/t10k-images-idx3-ubyte.gz to data/MNIST/raw/t10k-images-idx3-ubyte.gz\n"
          ]
        },
        {
          "output_type": "stream",
          "name": "stderr",
          "text": [
            "100%|██████████| 1648877/1648877 [00:00<00:00, 4493756.59it/s]\n"
          ]
        },
        {
          "output_type": "stream",
          "name": "stdout",
          "text": [
            "Extracting data/MNIST/raw/t10k-images-idx3-ubyte.gz to data/MNIST/raw\n",
            "\n",
            "Downloading http://yann.lecun.com/exdb/mnist/t10k-labels-idx1-ubyte.gz\n",
            "Failed to download (trying next):\n",
            "HTTP Error 403: Forbidden\n",
            "\n",
            "Downloading https://ossci-datasets.s3.amazonaws.com/mnist/t10k-labels-idx1-ubyte.gz\n",
            "Downloading https://ossci-datasets.s3.amazonaws.com/mnist/t10k-labels-idx1-ubyte.gz to data/MNIST/raw/t10k-labels-idx1-ubyte.gz\n"
          ]
        },
        {
          "output_type": "stream",
          "name": "stderr",
          "text": [
            "100%|██████████| 4542/4542 [00:00<00:00, 7479595.12it/s]"
          ]
        },
        {
          "output_type": "stream",
          "name": "stdout",
          "text": [
            "Extracting data/MNIST/raw/t10k-labels-idx1-ubyte.gz to data/MNIST/raw\n",
            "\n"
          ]
        },
        {
          "output_type": "stream",
          "name": "stderr",
          "text": [
            "\n"
          ]
        }
      ],
      "source": [
        "from torchvision import datasets\n",
        "from torchvision.transforms import ToTensor\n",
        "\n",
        "train_data = datasets.MNIST(\n",
        "    root = 'data',\n",
        "    train = True,\n",
        "    transform = ToTensor(),\n",
        "    download = True,\n",
        ")\n",
        "test_data = datasets.MNIST(\n",
        "    root = 'data',\n",
        "    train = False,\n",
        "    transform = ToTensor()\n",
        ")"
      ]
    },
    {
      "cell_type": "code",
      "source": [
        "print(train_data.data.size())\n",
        "print(test_data.data.size())"
      ],
      "metadata": {
        "colab": {
          "base_uri": "https://localhost:8080/"
        },
        "id": "O0TRP5AJoz_b",
        "outputId": "64546bbb-95f0-4123-fee1-f27f749d0bdd"
      },
      "execution_count": 6,
      "outputs": [
        {
          "output_type": "stream",
          "name": "stdout",
          "text": [
            "torch.Size([60000, 28, 28])\n",
            "torch.Size([10000, 28, 28])\n"
          ]
        }
      ]
    },
    {
      "cell_type": "markdown",
      "source": [
        "## tranforms\n"
      ],
      "metadata": {
        "id": "IBSMd-uq70CC"
      }
    },
    {
      "cell_type": "code",
      "source": [
        "from torchvision import transforms\n",
        "\n",
        "transform_train = transforms.Compose([\n",
        "    transforms.RandomAffine(degrees=5, translate=(0.1, 0.1), scale=(0.9, 1.1), shear=10),\n",
        "    transforms.ToTensor()\n",
        "])\n",
        "\n",
        "transform_test = transforms.Compose([\n",
        "    transforms.ToTensor()\n",
        "])\n",
        "\n",
        "\n",
        "train_data = datasets.MNIST(\n",
        "    root = 'data',\n",
        "    train = True,\n",
        "    download = False,\n",
        "    transform = transform_train\n",
        ")\n",
        "test_data = datasets.MNIST(\n",
        "    root = 'data',\n",
        "    train = False,\n",
        "    download = False,\n",
        "    transform=transform_test\n",
        ")"
      ],
      "metadata": {
        "id": "Q3_Y2H2y7y1o"
      },
      "execution_count": 7,
      "outputs": []
    },
    {
      "cell_type": "markdown",
      "source": [
        "## loaders"
      ],
      "metadata": {
        "id": "b2cpHDMC6nEe"
      }
    },
    {
      "cell_type": "code",
      "execution_count": 8,
      "metadata": {
        "id": "lG8540m7l5Pg"
      },
      "outputs": [],
      "source": [
        "from torch.utils.data import DataLoader, random_split\n",
        "\n",
        "train_size = int(0.8 * len(train_data))\n",
        "val_size = len(train_data) - train_size\n",
        "train_data, val_data = random_split(train_data, [train_size, val_size])\n",
        "\n",
        "loaders = {\n",
        "    'train' : torch.utils.data.DataLoader(train_data,\n",
        "                                          batch_size=100,\n",
        "                                          shuffle=True,\n",
        "                                          num_workers=1),\n",
        "\n",
        "    'test'  : torch.utils.data.DataLoader(test_data,\n",
        "                                          batch_size=100,\n",
        "                                          shuffle=True,\n",
        "                                          num_workers=1),\n",
        "\n",
        "    'valid' : torch.utils.data.DataLoader(val_data,\n",
        "                                          batch_size=100,\n",
        "                                          shuffle=True,\n",
        "                                          num_workers=1)\n",
        "}\n"
      ]
    },
    {
      "cell_type": "code",
      "source": [
        "train_loader = loaders['train']\n",
        "data_iter = iter(train_loader)\n",
        "\n",
        "# Plot 10 images\n",
        "fig, axes = plt.subplots(2, 5, figsize=(12, 5))\n",
        "\n",
        "for i in range(10):\n",
        "    images, labels = next(data_iter)\n",
        "    ax = axes[i // 5, i % 5]\n",
        "    ax.imshow(images[0].permute(1, 2, 0).squeeze(), cmap='gray')  # Assuming images are in CHW format\n",
        "    ax.set_title(f\"Label: {labels[0]}\")\n",
        "    ax.axis('off')\n",
        "\n",
        "plt.show()"
      ],
      "metadata": {
        "colab": {
          "base_uri": "https://localhost:8080/",
          "height": 401
        },
        "id": "wbxOA9DzAEiW",
        "outputId": "a63b3e79-e9e1-4636-f0a6-e3626d747fca"
      },
      "execution_count": 9,
      "outputs": [
        {
          "output_type": "stream",
          "name": "stderr",
          "text": [
            "/usr/lib/python3.10/multiprocessing/popen_fork.py:66: RuntimeWarning: os.fork() was called. os.fork() is incompatible with multithreaded code, and JAX is multithreaded, so this will likely lead to a deadlock.\n",
            "  self.pid = os.fork()\n"
          ]
        },
        {
          "output_type": "display_data",
          "data": {
            "text/plain": [
              "<Figure size 1200x500 with 10 Axes>"
            ],
            "image/png": "[encoded data removed]"
          },
          "metadata": {}
        }
      ]
    },
    {
      "cell_type": "markdown",
      "source": [
        "## Simple CNN"
      ],
      "metadata": {
        "id": "WZ2ejbkGpJWU"
      }
    },
    {
      "cell_type": "code",
      "source": [
        "import torch.nn as nn\n",
        "class CNN(nn.Module):\n",
        "    def __init__(self):\n",
        "        super(CNN, self).__init__()\n",
        "        self.conv1 = nn.Sequential(\n",
        "            nn.Conv2d(\n",
        "                in_channels=1,\n",
        "                out_channels=16,\n",
        "                kernel_size=5,\n",
        "                stride=1,\n",
        "                padding=2,\n",
        "            ),\n",
        "            nn.ReLU(),\n",
        "            nn.MaxPool2d(kernel_size=2),\n",
        "        )\n",
        "        self.conv2 = nn.Sequential(\n",
        "            nn.Conv2d(16, 32, 5, 1, 2),\n",
        "            nn.ReLU(),\n",
        "            nn.MaxPool2d(2),\n",
        "        )\n",
        "        # fully connected layer, output 10 classes\n",
        "        self.out = nn.Linear(32 * 7 * 7, 10)\n",
        "    def forward(self, x):\n",
        "        x = self.conv1(x)\n",
        "        x = self.conv2(x)\n",
        "        x = x.view(x.size(0), -1)\n",
        "        output = self.out(x)\n",
        "        return output\n",
        "\n",
        "\n",
        "cnn = CNN()"
      ],
      "metadata": {
        "id": "rzlREnn5pIo6"
      },
      "execution_count": 10,
      "outputs": []
    },
    {
      "cell_type": "markdown",
      "source": [
        "## My_CNN"
      ],
      "metadata": {
        "id": "ge7WAJk9maYk"
      }
    },
    {
      "cell_type": "code",
      "source": [
        "class Net(nn.Module):\n",
        "    def __init__(self, num_classes):\n",
        "        super(Net, self).__init__()\n",
        "\n",
        "        self.conv1 = nn.Sequential(\n",
        "            nn.Conv2d(\n",
        "                in_channels=1,\n",
        "                out_channels=16,\n",
        "                kernel_size=5,\n",
        "                stride=1,\n",
        "                padding=2,\n",
        "            ),\n",
        "            nn.ReLU(),\n",
        "            nn.Dropout2d(p=0.1)\n",
        "        )\n",
        "\n",
        "\n",
        "        self.conv2 = nn.Sequential(\n",
        "            nn.Conv2d(\n",
        "                in_channels=16,\n",
        "                out_channels=24,\n",
        "                kernel_size=3,\n",
        "                stride=1,\n",
        "                padding=1,\n",
        "            ),\n",
        "            nn.ReLU(),\n",
        "            nn.MaxPool2d(kernel_size=2),\n",
        "            nn.Dropout2d(p=0.1)\n",
        "        )\n",
        "\n",
        "        self.conv3 = nn.Sequential(\n",
        "            nn.Conv2d(\n",
        "                in_channels=24,\n",
        "                out_channels=32,\n",
        "                kernel_size=2,\n",
        "                stride=1,\n",
        "                padding=1,\n",
        "            ),\n",
        "            nn.ReLU(),\n",
        "            nn.MaxPool2d(kernel_size=2),\n",
        "            nn.Dropout2d(p=0.3)\n",
        "\n",
        "        )\n",
        "\n",
        "        self.linear1 = nn.Linear(in_features=32 * 7 * 7, out_features=24)\n",
        "\n",
        "        self.drop = nn.Dropout(p=0.3)\n",
        "\n",
        "        self.linear2 = nn.Linear(in_features=24, out_features=num_classes)\n",
        "\n",
        "    def forward(self, x):\n",
        "\n",
        "        x = self.conv1(x)\n",
        "        x = self.conv2(x)\n",
        "        x = self.conv3(x)\n",
        "\n",
        "        # Flatten\n",
        "        x = x.view(-1, 32 * 7 * 7)\n",
        "\n",
        "        x = self.linear1(x)\n",
        "        x = nn.functional.relu(x)\n",
        "\n",
        "        x = self.drop(x)\n",
        "\n",
        "        x = self.linear2(x)\n",
        "\n",
        "        output = torch.log_softmax(x, dim=1)\n",
        "        return output\n",
        "\n",
        "Cnet = Net(num_classes=10).to(device)\n",
        "\n",
        "print(Cnet)\n"
      ],
      "metadata": {
        "colab": {
          "base_uri": "https://localhost:8080/"
        },
        "id": "ynDk5jIdQYnf",
        "outputId": "3d0e7549-0c1c-4743-8c37-71fa7ddabaa9"
      },
      "execution_count": 16,
      "outputs": [
        {
          "output_type": "stream",
          "name": "stdout",
          "text": [
            "Net(\n",
            "  (conv1): Sequential(\n",
            "    (0): Conv2d(1, 16, kernel_size=(5, 5), stride=(1, 1), padding=(2, 2))\n",
            "    (1): ReLU()\n",
            "    (2): Dropout2d(p=0.1, inplace=False)\n",
            "  )\n",
            "  (conv2): Sequential(\n",
            "    (0): Conv2d(16, 24, kernel_size=(3, 3), stride=(1, 1), padding=(1, 1))\n",
            "    (1): ReLU()\n",
            "    (2): MaxPool2d(kernel_size=2, stride=2, padding=0, dilation=1, ceil_mode=False)\n",
            "    (3): Dropout2d(p=0.1, inplace=False)\n",
            "  )\n",
            "  (conv3): Sequential(\n",
            "    (0): Conv2d(24, 32, kernel_size=(2, 2), stride=(1, 1), padding=(1, 1))\n",
            "    (1): ReLU()\n",
            "    (2): MaxPool2d(kernel_size=2, stride=2, padding=0, dilation=1, ceil_mode=False)\n",
            "    (3): Dropout2d(p=0.3, inplace=False)\n",
            "  )\n",
            "  (linear1): Linear(in_features=1568, out_features=24, bias=True)\n",
            "  (drop): Dropout(p=0.3, inplace=False)\n",
            "  (linear2): Linear(in_features=24, out_features=10, bias=True)\n",
            ")\n"
          ]
        }
      ]
    },
    {
      "cell_type": "code",
      "source": [
        "# %%capture\n",
        "# !pip install torchviz\n",
        "\n",
        "import torch\n",
        "from torchviz import make_dot\n",
        "\n",
        "\n",
        "dummy_input = torch.randn(1, 1, 28, 28).to(device)\n",
        "\n",
        "dot = make_dot(Cnet(dummy_input), params=dict(Cnet.named_parameters()))\n",
        "\n",
        "dot.render(\"CNN_visualization\", format=\"png\")\n",
        "\n",
        "dot"
      ],
      "metadata": {
        "colab": {
          "base_uri": "https://localhost:8080/",
          "height": 1000
        },
        "id": "A9rRX3aJmJB2",
        "outputId": "99a79463-89a7-46ef-98f3-8da2aab07255"
      },
      "execution_count": 22,
      "outputs": [
        {
          "output_type": "execute_result",
          "data": {
            "image/svg+xml": "<?xml version=\"1.0\" encoding=\"UTF-8\" standalone=\"no\"?>\n<!DOCTYPE svg PUBLIC \"-//W3C//DTD SVG 1.1//EN\"\n \"http://www.w3.org/Graphics/SVG/1.1/DTD/svg11.dtd\">\n<!-- Generated by graphviz version 2.43.0 (0)\n -->\n<!-- Title: %3 Pages: 1 -->\n<svg width=\"457pt\" height=\"864pt\"\n viewBox=\"0.00 0.00 456.93 864.00\" xmlns=\"http://www.w3.org/2000/svg\" xmlns:xlink=\"http://www.w3.org/1999/xlink\">\n<g id=\"graph0\" class=\"graph\" transform=\"scale(1.34 1.34) rotate(0) translate(4 1157)\">\n<title>%3</title>\n<polygon fill=\"white\" stroke=\"transparent\" points=\"-4,4 -4,-1157 610,-1157 610,4 -4,4\"/>\n<!-- 138610435262240 -->\n<g id=\"node1\" class=\"node\">\n<title>138610435262240</title>\n<polygon fill=\"#caff70\" stroke=\"black\" points=\"452,-31 387,-31 387,0 452,0 452,-31\"/>\n<text text-anchor=\"middle\" x=\"419.5\" y=\"-7\" font-family=\"monospace\" font-size=\"10.00\"> (1, 10)</text>\n</g>\n<!-- 138610446743872 -->\n<g id=\"node2\" class=\"node\">\n<title>138610446743872</title>\n<polygon fill=\"lightgrey\" stroke=\"black\" points=\"485,-86 354,-86 354,-67 485,-67 485,-86\"/>\n<text text-anchor=\"middle\" x=\"419.5\" y=\"-74\" font-family=\"monospace\" font-size=\"10.00\">LogSoftmaxBackward0</text>\n</g>\n<!-- 138610446743872&#45;&gt;138610435262240 -->\n<g id=\"edge39\" class=\"edge\">\n<title>138610446743872&#45;&gt;138610435262240</title>\n<path fill=\"none\" stroke=\"black\" d=\"M419.5,-66.79C419.5,-60.07 419.5,-50.4 419.5,-41.34\"/>\n<polygon fill=\"black\" stroke=\"black\" points=\"423,-41.19 419.5,-31.19 416,-41.19 423,-41.19\"/>\n</g>\n<!-- 138610446732496 -->\n<g id=\"node3\" class=\"node\">\n<title>138610446732496</title>\n<polygon fill=\"lightgrey\" stroke=\"black\" points=\"470,-141 369,-141 369,-122 470,-122 470,-141\"/>\n<text text-anchor=\"middle\" x=\"419.5\" y=\"-129\" font-family=\"monospace\" font-size=\"10.00\">AddmmBackward0</text>\n</g>\n<!-- 138610446732496&#45;&gt;138610446743872 -->\n<g id=\"edge1\" class=\"edge\">\n<title>138610446732496&#45;&gt;138610446743872</title>\n<path fill=\"none\" stroke=\"black\" d=\"M419.5,-121.75C419.5,-114.8 419.5,-104.85 419.5,-96.13\"/>\n<polygon fill=\"black\" stroke=\"black\" points=\"423,-96.09 419.5,-86.09 416,-96.09 423,-96.09\"/>\n</g>\n<!-- 138610446730960 -->\n<g id=\"node4\" class=\"node\">\n<title>138610446730960</title>\n<polygon fill=\"lightgrey\" stroke=\"black\" points=\"327,-196 226,-196 226,-177 327,-177 327,-196\"/>\n<text text-anchor=\"middle\" x=\"276.5\" y=\"-184\" font-family=\"monospace\" font-size=\"10.00\">AccumulateGrad</text>\n</g>\n<!-- 138610446730960&#45;&gt;138610446732496 -->\n<g id=\"edge2\" class=\"edge\">\n<title>138610446730960&#45;&gt;138610446732496</title>\n<path fill=\"none\" stroke=\"black\" d=\"M299.48,-176.98C323,-168.27 359.79,-154.63 386.44,-144.75\"/>\n<polygon fill=\"black\" stroke=\"black\" points=\"387.95,-147.93 396.11,-141.17 385.51,-141.36 387.95,-147.93\"/>\n</g>\n<!-- 138610446532528 -->\n<g id=\"node5\" class=\"node\">\n<title>138610446532528</title>\n<polygon fill=\"lightblue\" stroke=\"black\" points=\"321,-262 232,-262 232,-232 321,-232 321,-262\"/>\n<text text-anchor=\"middle\" x=\"276.5\" y=\"-250\" font-family=\"monospace\" font-size=\"10.00\">linear2.bias</text>\n<text text-anchor=\"middle\" x=\"276.5\" y=\"-239\" font-family=\"monospace\" font-size=\"10.00\"> (10)</text>\n</g>\n<!-- 138610446532528&#45;&gt;138610446730960 -->\n<g id=\"edge3\" class=\"edge\">\n<title>138610446532528&#45;&gt;138610446730960</title>\n<path fill=\"none\" stroke=\"black\" d=\"M276.5,-231.84C276.5,-224.21 276.5,-214.7 276.5,-206.45\"/>\n<polygon fill=\"black\" stroke=\"black\" points=\"280,-206.27 276.5,-196.27 273,-206.27 280,-206.27\"/>\n</g>\n<!-- 138610446729328 -->\n<g id=\"node6\" class=\"node\">\n<title>138610446729328</title>\n<polygon fill=\"lightgrey\" stroke=\"black\" points=\"494,-196 345,-196 345,-177 494,-177 494,-196\"/>\n<text text-anchor=\"middle\" x=\"419.5\" y=\"-184\" font-family=\"monospace\" font-size=\"10.00\">NativeDropoutBackward0</text>\n</g>\n<!-- 138610446729328&#45;&gt;138610446732496 -->\n<g id=\"edge4\" class=\"edge\">\n<title>138610446729328&#45;&gt;138610446732496</title>\n<path fill=\"none\" stroke=\"black\" d=\"M419.5,-176.75C419.5,-169.8 419.5,-159.85 419.5,-151.13\"/>\n<polygon fill=\"black\" stroke=\"black\" points=\"423,-151.09 419.5,-141.09 416,-151.09 423,-151.09\"/>\n</g>\n<!-- 138610446732112 -->\n<g id=\"node7\" class=\"node\">\n<title>138610446732112</title>\n<polygon fill=\"lightgrey\" stroke=\"black\" points=\"467,-256.5 372,-256.5 372,-237.5 467,-237.5 467,-256.5\"/>\n<text text-anchor=\"middle\" x=\"419.5\" y=\"-244.5\" font-family=\"monospace\" font-size=\"10.00\">ReluBackward0</text>\n</g>\n<!-- 138610446732112&#45;&gt;138610446729328 -->\n<g id=\"edge5\" class=\"edge\">\n<title>138610446732112&#45;&gt;138610446729328</title>\n<path fill=\"none\" stroke=\"black\" d=\"M419.5,-237.37C419.5,-229.25 419.5,-216.81 419.5,-206.39\"/>\n<polygon fill=\"black\" stroke=\"black\" points=\"423,-206.17 419.5,-196.17 416,-206.17 423,-206.17\"/>\n</g>\n<!-- 138610446733456 -->\n<g id=\"node8\" class=\"node\">\n<title>138610446733456</title>\n<polygon fill=\"lightgrey\" stroke=\"black\" points=\"470,-322.5 369,-322.5 369,-303.5 470,-303.5 470,-322.5\"/>\n<text text-anchor=\"middle\" x=\"419.5\" y=\"-310.5\" font-family=\"monospace\" font-size=\"10.00\">AddmmBackward0</text>\n</g>\n<!-- 138610446733456&#45;&gt;138610446732112 -->\n<g id=\"edge6\" class=\"edge\">\n<title>138610446733456&#45;&gt;138610446732112</title>\n<path fill=\"none\" stroke=\"black\" d=\"M419.5,-303.37C419.5,-294.16 419.5,-279.29 419.5,-267.27\"/>\n<polygon fill=\"black\" stroke=\"black\" points=\"423,-266.91 419.5,-256.91 416,-266.91 423,-266.91\"/>\n</g>\n<!-- 138610446729856 -->\n<g id=\"node9\" class=\"node\">\n<title>138610446729856</title>\n<polygon fill=\"lightgrey\" stroke=\"black\" points=\"354,-383 253,-383 253,-364 354,-364 354,-383\"/>\n<text text-anchor=\"middle\" x=\"303.5\" y=\"-371\" font-family=\"monospace\" font-size=\"10.00\">AccumulateGrad</text>\n</g>\n<!-- 138610446729856&#45;&gt;138610446733456 -->\n<g id=\"edge7\" class=\"edge\">\n<title>138610446729856&#45;&gt;138610446733456</title>\n<path fill=\"none\" stroke=\"black\" d=\"M320.62,-363.87C339.72,-354.23 370.87,-338.53 393.1,-327.31\"/>\n<polygon fill=\"black\" stroke=\"black\" points=\"394.96,-330.3 402.31,-322.67 391.81,-324.05 394.96,-330.3\"/>\n</g>\n<!-- 138610446532368 -->\n<g id=\"node10\" class=\"node\">\n<title>138610446532368</title>\n<polygon fill=\"lightblue\" stroke=\"black\" points=\"348,-449 259,-449 259,-419 348,-419 348,-449\"/>\n<text text-anchor=\"middle\" x=\"303.5\" y=\"-437\" font-family=\"monospace\" font-size=\"10.00\">linear1.bias</text>\n<text text-anchor=\"middle\" x=\"303.5\" y=\"-426\" font-family=\"monospace\" font-size=\"10.00\"> (24)</text>\n</g>\n<!-- 138610446532368&#45;&gt;138610446729856 -->\n<g id=\"edge8\" class=\"edge\">\n<title>138610446532368&#45;&gt;138610446729856</title>\n<path fill=\"none\" stroke=\"black\" d=\"M303.5,-418.84C303.5,-411.21 303.5,-401.7 303.5,-393.45\"/>\n<polygon fill=\"black\" stroke=\"black\" points=\"307,-393.27 303.5,-383.27 300,-393.27 307,-393.27\"/>\n</g>\n<!-- 138610446744304 -->\n<g id=\"node11\" class=\"node\">\n<title>138610446744304</title>\n<polygon fill=\"lightgrey\" stroke=\"black\" points=\"467,-383 372,-383 372,-364 467,-364 467,-383\"/>\n<text text-anchor=\"middle\" x=\"419.5\" y=\"-371\" font-family=\"monospace\" font-size=\"10.00\">ViewBackward0</text>\n</g>\n<!-- 138610446744304&#45;&gt;138610446733456 -->\n<g id=\"edge9\" class=\"edge\">\n<title>138610446744304&#45;&gt;138610446733456</title>\n<path fill=\"none\" stroke=\"black\" d=\"M419.5,-363.87C419.5,-355.75 419.5,-343.31 419.5,-332.89\"/>\n<polygon fill=\"black\" stroke=\"black\" points=\"423,-332.67 419.5,-322.67 416,-332.67 423,-332.67\"/>\n</g>\n<!-- 138610446735616 -->\n<g id=\"node12\" class=\"node\">\n<title>138610446735616</title>\n<polygon fill=\"lightgrey\" stroke=\"black\" points=\"461,-443.5 372,-443.5 372,-424.5 461,-424.5 461,-443.5\"/>\n<text text-anchor=\"middle\" x=\"416.5\" y=\"-431.5\" font-family=\"monospace\" font-size=\"10.00\">MulBackward0</text>\n</g>\n<!-- 138610446735616&#45;&gt;138610446744304 -->\n<g id=\"edge10\" class=\"edge\">\n<title>138610446735616&#45;&gt;138610446744304</title>\n<path fill=\"none\" stroke=\"black\" d=\"M416.94,-424.37C417.36,-416.25 418,-403.81 418.53,-393.39\"/>\n<polygon fill=\"black\" stroke=\"black\" points=\"422.04,-393.33 419.06,-383.17 415.05,-392.97 422.04,-393.33\"/>\n</g>\n<!-- 138610446738880 -->\n<g id=\"node13\" class=\"node\">\n<title>138610446738880</title>\n<polygon fill=\"lightgrey\" stroke=\"black\" points=\"487,-509.5 296,-509.5 296,-490.5 487,-490.5 487,-509.5\"/>\n<text text-anchor=\"middle\" x=\"391.5\" y=\"-497.5\" font-family=\"monospace\" font-size=\"10.00\">MaxPool2DWithIndicesBackward0</text>\n</g>\n<!-- 138610446738880&#45;&gt;138610446735616 -->\n<g id=\"edge11\" class=\"edge\">\n<title>138610446738880&#45;&gt;138610446735616</title>\n<path fill=\"none\" stroke=\"black\" d=\"M394.87,-490.37C398.54,-480.97 404.52,-465.67 409.26,-453.53\"/>\n<polygon fill=\"black\" stroke=\"black\" points=\"412.64,-454.49 413.02,-443.91 406.12,-451.95 412.64,-454.49\"/>\n</g>\n<!-- 138610446730624 -->\n<g id=\"node14\" class=\"node\">\n<title>138610446730624</title>\n<polygon fill=\"lightgrey\" stroke=\"black\" points=\"439,-570 344,-570 344,-551 439,-551 439,-570\"/>\n<text text-anchor=\"middle\" x=\"391.5\" y=\"-558\" font-family=\"monospace\" font-size=\"10.00\">ReluBackward0</text>\n</g>\n<!-- 138610446730624&#45;&gt;138610446738880 -->\n<g id=\"edge12\" class=\"edge\">\n<title>138610446730624&#45;&gt;138610446738880</title>\n<path fill=\"none\" stroke=\"black\" d=\"M391.5,-550.87C391.5,-542.75 391.5,-530.31 391.5,-519.89\"/>\n<polygon fill=\"black\" stroke=\"black\" points=\"395,-519.67 391.5,-509.67 388,-519.67 395,-519.67\"/>\n</g>\n<!-- 138610446744544 -->\n<g id=\"node15\" class=\"node\">\n<title>138610446744544</title>\n<polygon fill=\"lightgrey\" stroke=\"black\" points=\"460,-625 323,-625 323,-606 460,-606 460,-625\"/>\n<text text-anchor=\"middle\" x=\"391.5\" y=\"-613\" font-family=\"monospace\" font-size=\"10.00\">ConvolutionBackward0</text>\n</g>\n<!-- 138610446744544&#45;&gt;138610446730624 -->\n<g id=\"edge13\" class=\"edge\">\n<title>138610446744544&#45;&gt;138610446730624</title>\n<path fill=\"none\" stroke=\"black\" d=\"M391.5,-605.75C391.5,-598.8 391.5,-588.85 391.5,-580.13\"/>\n<polygon fill=\"black\" stroke=\"black\" points=\"395,-580.09 391.5,-570.09 388,-580.09 395,-580.09\"/>\n</g>\n<!-- 138610446744448 -->\n<g id=\"node16\" class=\"node\">\n<title>138610446744448</title>\n<polygon fill=\"lightgrey\" stroke=\"black\" points=\"297,-680 208,-680 208,-661 297,-661 297,-680\"/>\n<text text-anchor=\"middle\" x=\"252.5\" y=\"-668\" font-family=\"monospace\" font-size=\"10.00\">MulBackward0</text>\n</g>\n<!-- 138610446744448&#45;&gt;138610446744544 -->\n<g id=\"edge14\" class=\"edge\">\n<title>138610446744448&#45;&gt;138610446744544</title>\n<path fill=\"none\" stroke=\"black\" d=\"M274.83,-660.98C297.7,-652.27 333.46,-638.63 359.36,-628.75\"/>\n<polygon fill=\"black\" stroke=\"black\" points=\"360.66,-632 368.76,-625.17 358.17,-625.46 360.66,-632\"/>\n</g>\n<!-- 138610446745168 -->\n<g id=\"node17\" class=\"node\">\n<title>138610446745168</title>\n<polygon fill=\"lightgrey\" stroke=\"black\" points=\"322,-740.5 131,-740.5 131,-721.5 322,-721.5 322,-740.5\"/>\n<text text-anchor=\"middle\" x=\"226.5\" y=\"-728.5\" font-family=\"monospace\" font-size=\"10.00\">MaxPool2DWithIndicesBackward0</text>\n</g>\n<!-- 138610446745168&#45;&gt;138610446744448 -->\n<g id=\"edge15\" class=\"edge\">\n<title>138610446745168&#45;&gt;138610446744448</title>\n<path fill=\"none\" stroke=\"black\" d=\"M230.34,-721.37C234.06,-712.99 239.83,-700.01 244.55,-689.39\"/>\n<polygon fill=\"black\" stroke=\"black\" points=\"247.78,-690.73 248.65,-680.17 241.39,-687.88 247.78,-690.73\"/>\n</g>\n<!-- 138610446744784 -->\n<g id=\"node18\" class=\"node\">\n<title>138610446744784</title>\n<polygon fill=\"lightgrey\" stroke=\"black\" points=\"274,-801 179,-801 179,-782 274,-782 274,-801\"/>\n<text text-anchor=\"middle\" x=\"226.5\" y=\"-789\" font-family=\"monospace\" font-size=\"10.00\">ReluBackward0</text>\n</g>\n<!-- 138610446744784&#45;&gt;138610446745168 -->\n<g id=\"edge16\" class=\"edge\">\n<title>138610446744784&#45;&gt;138610446745168</title>\n<path fill=\"none\" stroke=\"black\" d=\"M226.5,-781.87C226.5,-773.75 226.5,-761.31 226.5,-750.89\"/>\n<polygon fill=\"black\" stroke=\"black\" points=\"230,-750.67 226.5,-740.67 223,-750.67 230,-750.67\"/>\n</g>\n<!-- 138610446731152 -->\n<g id=\"node19\" class=\"node\">\n<title>138610446731152</title>\n<polygon fill=\"lightgrey\" stroke=\"black\" points=\"295,-856 158,-856 158,-837 295,-837 295,-856\"/>\n<text text-anchor=\"middle\" x=\"226.5\" y=\"-844\" font-family=\"monospace\" font-size=\"10.00\">ConvolutionBackward0</text>\n</g>\n<!-- 138610446731152&#45;&gt;138610446744784 -->\n<g id=\"edge17\" class=\"edge\">\n<title>138610446731152&#45;&gt;138610446744784</title>\n<path fill=\"none\" stroke=\"black\" d=\"M226.5,-836.75C226.5,-829.8 226.5,-819.85 226.5,-811.13\"/>\n<polygon fill=\"black\" stroke=\"black\" points=\"230,-811.09 226.5,-801.09 223,-811.09 230,-811.09\"/>\n</g>\n<!-- 138610446733744 -->\n<g id=\"node20\" class=\"node\">\n<title>138610446733744</title>\n<polygon fill=\"lightgrey\" stroke=\"black\" points=\"156,-911 67,-911 67,-892 156,-892 156,-911\"/>\n<text text-anchor=\"middle\" x=\"111.5\" y=\"-899\" font-family=\"monospace\" font-size=\"10.00\">MulBackward0</text>\n</g>\n<!-- 138610446733744&#45;&gt;138610446731152 -->\n<g id=\"edge18\" class=\"edge\">\n<title>138610446733744&#45;&gt;138610446731152</title>\n<path fill=\"none\" stroke=\"black\" d=\"M129.98,-891.98C148.48,-883.46 177.18,-870.23 198.48,-860.41\"/>\n<polygon fill=\"black\" stroke=\"black\" points=\"200.07,-863.53 207.69,-856.17 197.14,-857.18 200.07,-863.53\"/>\n</g>\n<!-- 138610446733264 -->\n<g id=\"node21\" class=\"node\">\n<title>138610446733264</title>\n<polygon fill=\"lightgrey\" stroke=\"black\" points=\"157,-971.5 62,-971.5 62,-952.5 157,-952.5 157,-971.5\"/>\n<text text-anchor=\"middle\" x=\"109.5\" y=\"-959.5\" font-family=\"monospace\" font-size=\"10.00\">ReluBackward0</text>\n</g>\n<!-- 138610446733264&#45;&gt;138610446733744 -->\n<g id=\"edge19\" class=\"edge\">\n<title>138610446733264&#45;&gt;138610446733744</title>\n<path fill=\"none\" stroke=\"black\" d=\"M109.8,-952.37C110.07,-944.25 110.5,-931.81 110.85,-921.39\"/>\n<polygon fill=\"black\" stroke=\"black\" points=\"114.36,-921.28 111.2,-911.17 107.36,-921.04 114.36,-921.28\"/>\n</g>\n<!-- 138610446733120 -->\n<g id=\"node22\" class=\"node\">\n<title>138610446733120</title>\n<polygon fill=\"lightgrey\" stroke=\"black\" points=\"178,-1032 41,-1032 41,-1013 178,-1013 178,-1032\"/>\n<text text-anchor=\"middle\" x=\"109.5\" y=\"-1020\" font-family=\"monospace\" font-size=\"10.00\">ConvolutionBackward0</text>\n</g>\n<!-- 138610446733120&#45;&gt;138610446733264 -->\n<g id=\"edge20\" class=\"edge\">\n<title>138610446733120&#45;&gt;138610446733264</title>\n<path fill=\"none\" stroke=\"black\" d=\"M109.5,-1012.87C109.5,-1004.75 109.5,-992.31 109.5,-981.89\"/>\n<polygon fill=\"black\" stroke=\"black\" points=\"113,-981.67 109.5,-971.67 106,-981.67 113,-981.67\"/>\n</g>\n<!-- 138610446735904 -->\n<g id=\"node23\" class=\"node\">\n<title>138610446735904</title>\n<polygon fill=\"lightgrey\" stroke=\"black\" points=\"101,-1087 0,-1087 0,-1068 101,-1068 101,-1087\"/>\n<text text-anchor=\"middle\" x=\"50.5\" y=\"-1075\" font-family=\"monospace\" font-size=\"10.00\">AccumulateGrad</text>\n</g>\n<!-- 138610446735904&#45;&gt;138610446733120 -->\n<g id=\"edge21\" class=\"edge\">\n<title>138610446735904&#45;&gt;138610446733120</title>\n<path fill=\"none\" stroke=\"black\" d=\"M59.98,-1067.98C68.7,-1060.15 81.84,-1048.34 92.4,-1038.86\"/>\n<polygon fill=\"black\" stroke=\"black\" points=\"94.75,-1041.46 99.85,-1032.17 90.07,-1036.25 94.75,-1041.46\"/>\n</g>\n<!-- 138610527112864 -->\n<g id=\"node24\" class=\"node\">\n<title>138610527112864</title>\n<polygon fill=\"lightblue\" stroke=\"black\" points=\"101,-1153 0,-1153 0,-1123 101,-1123 101,-1153\"/>\n<text text-anchor=\"middle\" x=\"50.5\" y=\"-1141\" font-family=\"monospace\" font-size=\"10.00\">conv1.0.weight</text>\n<text text-anchor=\"middle\" x=\"50.5\" y=\"-1130\" font-family=\"monospace\" font-size=\"10.00\"> (16, 1, 5, 5)</text>\n</g>\n<!-- 138610527112864&#45;&gt;138610446735904 -->\n<g id=\"edge22\" class=\"edge\">\n<title>138610527112864&#45;&gt;138610446735904</title>\n<path fill=\"none\" stroke=\"black\" d=\"M50.5,-1122.84C50.5,-1115.21 50.5,-1105.7 50.5,-1097.45\"/>\n<polygon fill=\"black\" stroke=\"black\" points=\"54,-1097.27 50.5,-1087.27 47,-1097.27 54,-1097.27\"/>\n</g>\n<!-- 138610446733312 -->\n<g id=\"node25\" class=\"node\">\n<title>138610446733312</title>\n<polygon fill=\"lightgrey\" stroke=\"black\" points=\"220,-1087 119,-1087 119,-1068 220,-1068 220,-1087\"/>\n<text text-anchor=\"middle\" x=\"169.5\" y=\"-1075\" font-family=\"monospace\" font-size=\"10.00\">AccumulateGrad</text>\n</g>\n<!-- 138610446733312&#45;&gt;138610446733120 -->\n<g id=\"edge23\" class=\"edge\">\n<title>138610446733312&#45;&gt;138610446733120</title>\n<path fill=\"none\" stroke=\"black\" d=\"M159.86,-1067.98C150.99,-1060.15 137.63,-1048.34 126.89,-1038.86\"/>\n<polygon fill=\"black\" stroke=\"black\" points=\"129.13,-1036.17 119.32,-1032.17 124.49,-1041.41 129.13,-1036.17\"/>\n</g>\n<!-- 138610446531888 -->\n<g id=\"node26\" class=\"node\">\n<title>138610446531888</title>\n<polygon fill=\"lightblue\" stroke=\"black\" points=\"214,-1153 125,-1153 125,-1123 214,-1123 214,-1153\"/>\n<text text-anchor=\"middle\" x=\"169.5\" y=\"-1141\" font-family=\"monospace\" font-size=\"10.00\">conv1.0.bias</text>\n<text text-anchor=\"middle\" x=\"169.5\" y=\"-1130\" font-family=\"monospace\" font-size=\"10.00\"> (16)</text>\n</g>\n<!-- 138610446531888&#45;&gt;138610446733312 -->\n<g id=\"edge24\" class=\"edge\">\n<title>138610446531888&#45;&gt;138610446733312</title>\n<path fill=\"none\" stroke=\"black\" d=\"M169.5,-1122.84C169.5,-1115.21 169.5,-1105.7 169.5,-1097.45\"/>\n<polygon fill=\"black\" stroke=\"black\" points=\"173,-1097.27 169.5,-1087.27 166,-1097.27 173,-1097.27\"/>\n</g>\n<!-- 138610446735856 -->\n<g id=\"node27\" class=\"node\">\n<title>138610446735856</title>\n<polygon fill=\"lightgrey\" stroke=\"black\" points=\"277,-911 176,-911 176,-892 277,-892 277,-911\"/>\n<text text-anchor=\"middle\" x=\"226.5\" y=\"-899\" font-family=\"monospace\" font-size=\"10.00\">AccumulateGrad</text>\n</g>\n<!-- 138610446735856&#45;&gt;138610446731152 -->\n<g id=\"edge25\" class=\"edge\">\n<title>138610446735856&#45;&gt;138610446731152</title>\n<path fill=\"none\" stroke=\"black\" d=\"M226.5,-891.75C226.5,-884.8 226.5,-874.85 226.5,-866.13\"/>\n<polygon fill=\"black\" stroke=\"black\" points=\"230,-866.09 226.5,-856.09 223,-866.09 230,-866.09\"/>\n</g>\n<!-- 138610548457936 -->\n<g id=\"node28\" class=\"node\">\n<title>138610548457936</title>\n<polygon fill=\"lightblue\" stroke=\"black\" points=\"282,-977 175,-977 175,-947 282,-947 282,-977\"/>\n<text text-anchor=\"middle\" x=\"228.5\" y=\"-965\" font-family=\"monospace\" font-size=\"10.00\">conv2.0.weight</text>\n<text text-anchor=\"middle\" x=\"228.5\" y=\"-954\" font-family=\"monospace\" font-size=\"10.00\"> (24, 16, 3, 3)</text>\n</g>\n<!-- 138610548457936&#45;&gt;138610446735856 -->\n<g id=\"edge26\" class=\"edge\">\n<title>138610548457936&#45;&gt;138610446735856</title>\n<path fill=\"none\" stroke=\"black\" d=\"M228.02,-946.84C227.76,-939.21 227.43,-929.7 227.15,-921.45\"/>\n<polygon fill=\"black\" stroke=\"black\" points=\"230.64,-921.14 226.8,-911.27 223.64,-921.38 230.64,-921.14\"/>\n</g>\n<!-- 138610446743920 -->\n<g id=\"node29\" class=\"node\">\n<title>138610446743920</title>\n<polygon fill=\"lightgrey\" stroke=\"black\" points=\"396,-911 295,-911 295,-892 396,-892 396,-911\"/>\n<text text-anchor=\"middle\" x=\"345.5\" y=\"-899\" font-family=\"monospace\" font-size=\"10.00\">AccumulateGrad</text>\n</g>\n<!-- 138610446743920&#45;&gt;138610446731152 -->\n<g id=\"edge27\" class=\"edge\">\n<title>138610446743920&#45;&gt;138610446731152</title>\n<path fill=\"none\" stroke=\"black\" d=\"M326.38,-891.98C307.15,-883.42 277.27,-870.11 255.19,-860.28\"/>\n<polygon fill=\"black\" stroke=\"black\" points=\"256.53,-857.04 245.97,-856.17 253.68,-863.44 256.53,-857.04\"/>\n</g>\n<!-- 138610446532048 -->\n<g id=\"node30\" class=\"node\">\n<title>138610446532048</title>\n<polygon fill=\"lightblue\" stroke=\"black\" points=\"390,-977 301,-977 301,-947 390,-947 390,-977\"/>\n<text text-anchor=\"middle\" x=\"345.5\" y=\"-965\" font-family=\"monospace\" font-size=\"10.00\">conv2.0.bias</text>\n<text text-anchor=\"middle\" x=\"345.5\" y=\"-954\" font-family=\"monospace\" font-size=\"10.00\"> (24)</text>\n</g>\n<!-- 138610446532048&#45;&gt;138610446743920 -->\n<g id=\"edge28\" class=\"edge\">\n<title>138610446532048&#45;&gt;138610446743920</title>\n<path fill=\"none\" stroke=\"black\" d=\"M345.5,-946.84C345.5,-939.21 345.5,-929.7 345.5,-921.45\"/>\n<polygon fill=\"black\" stroke=\"black\" points=\"349,-921.27 345.5,-911.27 342,-921.27 349,-921.27\"/>\n</g>\n<!-- 138610446745360 -->\n<g id=\"node31\" class=\"node\">\n<title>138610446745360</title>\n<polygon fill=\"lightgrey\" stroke=\"black\" points=\"442,-680 341,-680 341,-661 442,-661 442,-680\"/>\n<text text-anchor=\"middle\" x=\"391.5\" y=\"-668\" font-family=\"monospace\" font-size=\"10.00\">AccumulateGrad</text>\n</g>\n<!-- 138610446745360&#45;&gt;138610446744544 -->\n<g id=\"edge29\" class=\"edge\">\n<title>138610446745360&#45;&gt;138610446744544</title>\n<path fill=\"none\" stroke=\"black\" d=\"M391.5,-660.75C391.5,-653.8 391.5,-643.85 391.5,-635.13\"/>\n<polygon fill=\"black\" stroke=\"black\" points=\"395,-635.09 391.5,-625.09 388,-635.09 395,-635.09\"/>\n</g>\n<!-- 138610446532128 -->\n<g id=\"node32\" class=\"node\">\n<title>138610446532128</title>\n<polygon fill=\"lightblue\" stroke=\"black\" points=\"447,-746 340,-746 340,-716 447,-716 447,-746\"/>\n<text text-anchor=\"middle\" x=\"393.5\" y=\"-734\" font-family=\"monospace\" font-size=\"10.00\">conv3.0.weight</text>\n<text text-anchor=\"middle\" x=\"393.5\" y=\"-723\" font-family=\"monospace\" font-size=\"10.00\"> (32, 24, 2, 2)</text>\n</g>\n<!-- 138610446532128&#45;&gt;138610446745360 -->\n<g id=\"edge30\" class=\"edge\">\n<title>138610446532128&#45;&gt;138610446745360</title>\n<path fill=\"none\" stroke=\"black\" d=\"M393.02,-715.84C392.76,-708.21 392.43,-698.7 392.15,-690.45\"/>\n<polygon fill=\"black\" stroke=\"black\" points=\"395.64,-690.14 391.8,-680.27 388.64,-690.38 395.64,-690.14\"/>\n</g>\n<!-- 138610446729760 -->\n<g id=\"node33\" class=\"node\">\n<title>138610446729760</title>\n<polygon fill=\"lightgrey\" stroke=\"black\" points=\"561,-680 460,-680 460,-661 561,-661 561,-680\"/>\n<text text-anchor=\"middle\" x=\"510.5\" y=\"-668\" font-family=\"monospace\" font-size=\"10.00\">AccumulateGrad</text>\n</g>\n<!-- 138610446729760&#45;&gt;138610446744544 -->\n<g id=\"edge31\" class=\"edge\">\n<title>138610446729760&#45;&gt;138610446744544</title>\n<path fill=\"none\" stroke=\"black\" d=\"M491.38,-660.98C472.15,-652.42 442.27,-639.11 420.19,-629.28\"/>\n<polygon fill=\"black\" stroke=\"black\" points=\"421.53,-626.04 410.97,-625.17 418.68,-632.44 421.53,-626.04\"/>\n</g>\n<!-- 138610446532208 -->\n<g id=\"node34\" class=\"node\">\n<title>138610446532208</title>\n<polygon fill=\"lightblue\" stroke=\"black\" points=\"555,-746 466,-746 466,-716 555,-716 555,-746\"/>\n<text text-anchor=\"middle\" x=\"510.5\" y=\"-734\" font-family=\"monospace\" font-size=\"10.00\">conv3.0.bias</text>\n<text text-anchor=\"middle\" x=\"510.5\" y=\"-723\" font-family=\"monospace\" font-size=\"10.00\"> (32)</text>\n</g>\n<!-- 138610446532208&#45;&gt;138610446729760 -->\n<g id=\"edge32\" class=\"edge\">\n<title>138610446532208&#45;&gt;138610446729760</title>\n<path fill=\"none\" stroke=\"black\" d=\"M510.5,-715.84C510.5,-708.21 510.5,-698.7 510.5,-690.45\"/>\n<polygon fill=\"black\" stroke=\"black\" points=\"514,-690.27 510.5,-680.27 507,-690.27 514,-690.27\"/>\n</g>\n<!-- 138610446732304 -->\n<g id=\"node35\" class=\"node\">\n<title>138610446732304</title>\n<polygon fill=\"lightgrey\" stroke=\"black\" points=\"566,-383 489,-383 489,-364 566,-364 566,-383\"/>\n<text text-anchor=\"middle\" x=\"527.5\" y=\"-371\" font-family=\"monospace\" font-size=\"10.00\">TBackward0</text>\n</g>\n<!-- 138610446732304&#45;&gt;138610446733456 -->\n<g id=\"edge33\" class=\"edge\">\n<title>138610446732304&#45;&gt;138610446733456</title>\n<path fill=\"none\" stroke=\"black\" d=\"M511.56,-363.87C493.86,-354.28 465.04,-338.67 444.36,-327.47\"/>\n<polygon fill=\"black\" stroke=\"black\" points=\"445.96,-324.35 435.5,-322.67 442.63,-330.51 445.96,-324.35\"/>\n</g>\n<!-- 138610446730864 -->\n<g id=\"node36\" class=\"node\">\n<title>138610446730864</title>\n<polygon fill=\"lightgrey\" stroke=\"black\" points=\"580,-443.5 479,-443.5 479,-424.5 580,-424.5 580,-443.5\"/>\n<text text-anchor=\"middle\" x=\"529.5\" y=\"-431.5\" font-family=\"monospace\" font-size=\"10.00\">AccumulateGrad</text>\n</g>\n<!-- 138610446730864&#45;&gt;138610446732304 -->\n<g id=\"edge34\" class=\"edge\">\n<title>138610446730864&#45;&gt;138610446732304</title>\n<path fill=\"none\" stroke=\"black\" d=\"M529.2,-424.37C528.93,-416.25 528.5,-403.81 528.15,-393.39\"/>\n<polygon fill=\"black\" stroke=\"black\" points=\"531.64,-393.04 527.8,-383.17 524.64,-393.28 531.64,-393.04\"/>\n</g>\n<!-- 138610446532288 -->\n<g id=\"node37\" class=\"node\">\n<title>138610446532288</title>\n<polygon fill=\"lightblue\" stroke=\"black\" points=\"606,-515 505,-515 505,-485 606,-485 606,-515\"/>\n<text text-anchor=\"middle\" x=\"555.5\" y=\"-503\" font-family=\"monospace\" font-size=\"10.00\">linear1.weight</text>\n<text text-anchor=\"middle\" x=\"555.5\" y=\"-492\" font-family=\"monospace\" font-size=\"10.00\"> (24, 1568)</text>\n</g>\n<!-- 138610446532288&#45;&gt;138610446730864 -->\n<g id=\"edge35\" class=\"edge\">\n<title>138610446532288&#45;&gt;138610446730864</title>\n<path fill=\"none\" stroke=\"black\" d=\"M549.73,-484.8C545.95,-475.5 540.99,-463.27 536.92,-453.26\"/>\n<polygon fill=\"black\" stroke=\"black\" points=\"540.1,-451.79 533.09,-443.84 533.61,-454.43 540.1,-451.79\"/>\n</g>\n<!-- 138610446743152 -->\n<g id=\"node38\" class=\"node\">\n<title>138610446743152</title>\n<polygon fill=\"lightgrey\" stroke=\"black\" points=\"589,-196 512,-196 512,-177 589,-177 589,-196\"/>\n<text text-anchor=\"middle\" x=\"550.5\" y=\"-184\" font-family=\"monospace\" font-size=\"10.00\">TBackward0</text>\n</g>\n<!-- 138610446743152&#45;&gt;138610446732496 -->\n<g id=\"edge36\" class=\"edge\">\n<title>138610446743152&#45;&gt;138610446732496</title>\n<path fill=\"none\" stroke=\"black\" d=\"M529.45,-176.98C508.09,-168.34 474.8,-154.87 450.44,-145.02\"/>\n<polygon fill=\"black\" stroke=\"black\" points=\"451.51,-141.68 440.93,-141.17 448.89,-148.17 451.51,-141.68\"/>\n</g>\n<!-- 138610446730000 -->\n<g id=\"node39\" class=\"node\">\n<title>138610446730000</title>\n<polygon fill=\"lightgrey\" stroke=\"black\" points=\"601,-256.5 500,-256.5 500,-237.5 601,-237.5 601,-256.5\"/>\n<text text-anchor=\"middle\" x=\"550.5\" y=\"-244.5\" font-family=\"monospace\" font-size=\"10.00\">AccumulateGrad</text>\n</g>\n<!-- 138610446730000&#45;&gt;138610446743152 -->\n<g id=\"edge37\" class=\"edge\">\n<title>138610446730000&#45;&gt;138610446743152</title>\n<path fill=\"none\" stroke=\"black\" d=\"M550.5,-237.37C550.5,-229.25 550.5,-216.81 550.5,-206.39\"/>\n<polygon fill=\"black\" stroke=\"black\" points=\"554,-206.17 550.5,-196.17 547,-206.17 554,-206.17\"/>\n</g>\n<!-- 138610446532448 -->\n<g id=\"node40\" class=\"node\">\n<title>138610446532448</title>\n<polygon fill=\"lightblue\" stroke=\"black\" points=\"601,-328 500,-328 500,-298 601,-298 601,-328\"/>\n<text text-anchor=\"middle\" x=\"550.5\" y=\"-316\" font-family=\"monospace\" font-size=\"10.00\">linear2.weight</text>\n<text text-anchor=\"middle\" x=\"550.5\" y=\"-305\" font-family=\"monospace\" font-size=\"10.00\"> (10, 24)</text>\n</g>\n<!-- 138610446532448&#45;&gt;138610446730000 -->\n<g id=\"edge38\" class=\"edge\">\n<title>138610446532448&#45;&gt;138610446730000</title>\n<path fill=\"none\" stroke=\"black\" d=\"M550.5,-297.8C550.5,-288.7 550.5,-276.79 550.5,-266.9\"/>\n<polygon fill=\"black\" stroke=\"black\" points=\"554,-266.84 550.5,-256.84 547,-266.84 554,-266.84\"/>\n</g>\n</g>\n</svg>\n",
            "text/plain": [
              "<graphviz.graphs.Digraph at 0x7e10c270b910>"
            ]
          },
          "metadata": {},
          "execution_count": 22
        }
      ]
    },
    {
      "cell_type": "code",
      "source": [
        "from torch import optim\n",
        "\n",
        "learning_rate = 0.001\n",
        "\n",
        "optimizer = optim.Adam(cnn.parameters(), lr = learning_rate)\n",
        "\n",
        "loss_func = nn.CrossEntropyLoss()"
      ],
      "metadata": {
        "id": "pbT1wKCjpkx5"
      },
      "execution_count": 18,
      "outputs": []
    },
    {
      "cell_type": "markdown",
      "source": [
        "## updated training\n"
      ],
      "metadata": {
        "id": "UmfK-xB8uPEt"
      }
    },
    {
      "cell_type": "code",
      "source": [
        "import os\n",
        "# os.environ[\"OMP_NUM_THREADS\"] = \"1\"\n",
        "\n",
        "# Now import JAX\n",
        "import jax\n",
        "\n",
        "def train(model, loaders =loaders , num_epochs=20, loss_func = loss_func, optimizer = optimizer):\n",
        "\n",
        "    model.train()\n",
        "    train_losses = []\n",
        "    train_accuracies = []\n",
        "    val_losses = []\n",
        "    val_accuracies = []\n",
        "\n",
        "    for epoch in range(num_epochs):\n",
        "        # Training\n",
        "        running_loss = 0.0\n",
        "        correct_train = 0\n",
        "        total_train = 0\n",
        "        for i, (images, labels) in enumerate(loaders['train']):\n",
        "            b_x = images.requires_grad_(True).to(device)\n",
        "            b_y = labels.to(device)\n",
        "\n",
        "            output = model(b_x)\n",
        "            loss = loss_func(output, b_y)\n",
        "\n",
        "            optimizer.zero_grad()\n",
        "            loss.backward()\n",
        "            optimizer.step()\n",
        "\n",
        "            running_loss += loss.item()\n",
        "\n",
        "            _, predicted_train = torch.max(output.data, 1)\n",
        "            total_train += b_y.size(0)\n",
        "            correct_train += (predicted_train == b_y).sum().item()\n",
        "\n",
        "        train_loss = running_loss / len(loaders['train'])\n",
        "        train_accuracy = 100 * correct_train / total_train\n",
        "        train_losses.append(train_loss)\n",
        "        train_accuracies.append(train_accuracy)\n",
        "\n",
        "        # Validation\n",
        "        model.eval()\n",
        "        val_loss = 0.0\n",
        "        correct_val = 0\n",
        "        total_val = 0\n",
        "        with torch.no_grad():\n",
        "            for images, labels in loaders['valid']:\n",
        "                b_x = images.requires_grad_(False).to(device)\n",
        "                b_y = labels.to(device)\n",
        "\n",
        "                output = model(b_x)\n",
        "                loss = loss_func(output, b_y)\n",
        "                val_loss += loss.item()\n",
        "\n",
        "                _, predicted_val = torch.max(output.data, 1)\n",
        "                total_val += b_y.size(0)\n",
        "                correct_val += (predicted_val == b_y).sum().item()\n",
        "\n",
        "        val_loss /= len(loaders['valid'])\n",
        "        val_accuracy = 100 * correct_val / total_val\n",
        "        val_losses.append(val_loss)\n",
        "        val_accuracies.append(val_accuracy)\n",
        "\n",
        "        print(f\"Epoch [{epoch + 1}/{num_epochs}], \"\n",
        "              f\"Train Loss: {train_loss:.4f}, \"\n",
        "              f\"Train Accuracy: {train_accuracy:.2f}%, \"\n",
        "              f\"Val Loss: {val_loss:.4f}, \"\n",
        "              f\"Val Accuracy: {val_accuracy:.2f}%\")\n",
        "\n",
        "    # Plotting\n",
        "    plt.figure(figsize=(10, 5))\n",
        "    plt.plot(range(1, num_epochs + 1), train_losses, label='Train Loss')\n",
        "    plt.plot(range(1, num_epochs + 1), val_losses, label='Val Loss')\n",
        "    plt.xlabel('Epochs')\n",
        "    plt.ylabel('Loss')\n",
        "    plt.title('Training and Validation Loss')\n",
        "    plt.legend()\n",
        "    plt.show()\n",
        "\n",
        "    plt.figure(figsize=(10, 5))\n",
        "    plt.plot(range(1, num_epochs + 1), train_accuracies, label='Train Accuracy')\n",
        "    plt.plot(range(1, num_epochs + 1), val_accuracies, label='Val Accuracy')\n",
        "    plt.xlabel('Epochs')\n",
        "    plt.ylabel('Accuracy (%)')\n",
        "    plt.title('Training and Validation Accuracy')\n",
        "    plt.legend()\n",
        "    plt.show()\n",
        "\n",
        "train(Cnet, num_epochs = 5)\n"
      ],
      "metadata": {
        "colab": {
          "base_uri": "https://localhost:8080/",
          "height": 741
        },
        "id": "9RKtecF-EAEN",
        "outputId": "1995f504-0868-468c-81bf-e17fc7da776f"
      },
      "execution_count": 24,
      "outputs": [
        {
          "output_type": "stream",
          "name": "stdout",
          "text": [
            "Epoch [1/100], Train Loss: 2.3031, Train Accuracy: 11.32%, Val Loss: 2.3042, Val Accuracy: 11.00%\n",
            "Epoch [2/100], Train Loss: 2.3029, Train Accuracy: 11.30%, Val Loss: 2.3042, Val Accuracy: 11.00%\n",
            "Epoch [3/100], Train Loss: 2.3029, Train Accuracy: 11.30%, Val Loss: 2.3041, Val Accuracy: 11.00%\n",
            "Epoch [4/100], Train Loss: 2.3029, Train Accuracy: 11.30%, Val Loss: 2.3042, Val Accuracy: 11.00%\n",
            "Epoch [5/100], Train Loss: 2.3029, Train Accuracy: 11.30%, Val Loss: 2.3043, Val Accuracy: 11.00%\n",
            "Epoch [6/100], Train Loss: 2.3029, Train Accuracy: 11.30%, Val Loss: 2.3042, Val Accuracy: 11.00%\n",
            "Epoch [7/100], Train Loss: 2.3029, Train Accuracy: 11.30%, Val Loss: 2.3043, Val Accuracy: 11.00%\n",
            "Epoch [8/100], Train Loss: 2.3029, Train Accuracy: 11.30%, Val Loss: 2.3042, Val Accuracy: 11.00%\n",
            "Epoch [9/100], Train Loss: 2.3029, Train Accuracy: 11.30%, Val Loss: 2.3043, Val Accuracy: 11.00%\n",
            "Epoch [10/100], Train Loss: 2.3029, Train Accuracy: 11.30%, Val Loss: 2.3042, Val Accuracy: 11.00%\n",
            "Epoch [11/100], Train Loss: 2.3029, Train Accuracy: 11.30%, Val Loss: 2.3043, Val Accuracy: 11.00%\n",
            "Epoch [12/100], Train Loss: 2.3029, Train Accuracy: 11.30%, Val Loss: 2.3043, Val Accuracy: 11.00%\n",
            "Epoch [13/100], Train Loss: 2.3029, Train Accuracy: 11.30%, Val Loss: 2.3043, Val Accuracy: 11.00%\n",
            "Epoch [14/100], Train Loss: 2.3029, Train Accuracy: 11.30%, Val Loss: 2.3042, Val Accuracy: 11.00%\n",
            "Epoch [15/100], Train Loss: 2.3029, Train Accuracy: 11.30%, Val Loss: 2.3042, Val Accuracy: 11.00%\n",
            "Epoch [16/100], Train Loss: 2.3029, Train Accuracy: 11.30%, Val Loss: 2.3042, Val Accuracy: 11.00%\n",
            "Epoch [17/100], Train Loss: 2.3029, Train Accuracy: 11.30%, Val Loss: 2.3042, Val Accuracy: 11.00%\n",
            "Epoch [18/100], Train Loss: 2.3029, Train Accuracy: 11.30%, Val Loss: 2.3042, Val Accuracy: 11.00%\n",
            "Epoch [19/100], Train Loss: 2.3029, Train Accuracy: 11.30%, Val Loss: 2.3042, Val Accuracy: 11.00%\n",
            "Epoch [20/100], Train Loss: 2.3029, Train Accuracy: 11.30%, Val Loss: 2.3043, Val Accuracy: 11.00%\n",
            "Epoch [21/100], Train Loss: 2.3029, Train Accuracy: 11.30%, Val Loss: 2.3043, Val Accuracy: 11.00%\n",
            "Epoch [22/100], Train Loss: 2.3029, Train Accuracy: 11.30%, Val Loss: 2.3043, Val Accuracy: 11.00%\n",
            "Epoch [23/100], Train Loss: 2.3029, Train Accuracy: 11.30%, Val Loss: 2.3042, Val Accuracy: 11.00%\n"
          ]
        },
        {
          "output_type": "error",
          "ename": "KeyboardInterrupt",
          "evalue": "",
          "traceback": [
            "\u001b[0;31m---------------------------------------------------------------------------\u001b[0m",
            "\u001b[0;31mKeyboardInterrupt\u001b[0m                         Traceback (most recent call last)",
            "\u001b[0;32m<ipython-input-24-501e79fce05b>\u001b[0m in \u001b[0;36m<cell line: 90>\u001b[0;34m()\u001b[0m\n\u001b[1;32m     88\u001b[0m     \u001b[0mplt\u001b[0m\u001b[0;34m.\u001b[0m\u001b[0mshow\u001b[0m\u001b[0;34m(\u001b[0m\u001b[0;34m)\u001b[0m\u001b[0;34m\u001b[0m\u001b[0;34m\u001b[0m\u001b[0m\n\u001b[1;32m     89\u001b[0m \u001b[0;34m\u001b[0m\u001b[0m\n\u001b[0;32m---> 90\u001b[0;31m \u001b[0mtrain\u001b[0m\u001b[0;34m(\u001b[0m\u001b[0mCnet\u001b[0m\u001b[0;34m,\u001b[0m \u001b[0mnum_epochs\u001b[0m \u001b[0;34m=\u001b[0m \u001b[0;36m100\u001b[0m\u001b[0;34m)\u001b[0m\u001b[0;34m\u001b[0m\u001b[0;34m\u001b[0m\u001b[0m\n\u001b[0m",
            "\u001b[0;32m<ipython-input-24-501e79fce05b>\u001b[0m in \u001b[0;36mtrain\u001b[0;34m(model, loaders, num_epochs, loss_func, optimizer)\u001b[0m\n\u001b[1;32m     18\u001b[0m         \u001b[0mcorrect_train\u001b[0m \u001b[0;34m=\u001b[0m \u001b[0;36m0\u001b[0m\u001b[0;34m\u001b[0m\u001b[0;34m\u001b[0m\u001b[0m\n\u001b[1;32m     19\u001b[0m         \u001b[0mtotal_train\u001b[0m \u001b[0;34m=\u001b[0m \u001b[0;36m0\u001b[0m\u001b[0;34m\u001b[0m\u001b[0;34m\u001b[0m\u001b[0m\n\u001b[0;32m---> 20\u001b[0;31m         \u001b[0;32mfor\u001b[0m \u001b[0mi\u001b[0m\u001b[0;34m,\u001b[0m \u001b[0;34m(\u001b[0m\u001b[0mimages\u001b[0m\u001b[0;34m,\u001b[0m \u001b[0mlabels\u001b[0m\u001b[0;34m)\u001b[0m \u001b[0;32min\u001b[0m \u001b[0menumerate\u001b[0m\u001b[0;34m(\u001b[0m\u001b[0mloaders\u001b[0m\u001b[0;34m[\u001b[0m\u001b[0;34m'train'\u001b[0m\u001b[0;34m]\u001b[0m\u001b[0;34m)\u001b[0m\u001b[0;34m:\u001b[0m\u001b[0;34m\u001b[0m\u001b[0;34m\u001b[0m\u001b[0m\n\u001b[0m\u001b[1;32m     21\u001b[0m             \u001b[0mb_x\u001b[0m \u001b[0;34m=\u001b[0m \u001b[0mimages\u001b[0m\u001b[0;34m.\u001b[0m\u001b[0mrequires_grad_\u001b[0m\u001b[0;34m(\u001b[0m\u001b[0;32mTrue\u001b[0m\u001b[0;34m)\u001b[0m\u001b[0;34m.\u001b[0m\u001b[0mto\u001b[0m\u001b[0;34m(\u001b[0m\u001b[0mdevice\u001b[0m\u001b[0;34m)\u001b[0m\u001b[0;34m\u001b[0m\u001b[0;34m\u001b[0m\u001b[0m\n\u001b[1;32m     22\u001b[0m             \u001b[0mb_y\u001b[0m \u001b[0;34m=\u001b[0m \u001b[0mlabels\u001b[0m\u001b[0;34m.\u001b[0m\u001b[0mto\u001b[0m\u001b[0;34m(\u001b[0m\u001b[0mdevice\u001b[0m\u001b[0;34m)\u001b[0m\u001b[0;34m\u001b[0m\u001b[0;34m\u001b[0m\u001b[0m\n",
            "\u001b[0;32m/usr/local/lib/python3.10/dist-packages/torch/utils/data/dataloader.py\u001b[0m in \u001b[0;36m__next__\u001b[0;34m(self)\u001b[0m\n\u001b[1;32m    629\u001b[0m                 \u001b[0;31m# TODO(https://github.com/pytorch/pytorch/issues/76750)\u001b[0m\u001b[0;34m\u001b[0m\u001b[0;34m\u001b[0m\u001b[0m\n\u001b[1;32m    630\u001b[0m                 \u001b[0mself\u001b[0m\u001b[0;34m.\u001b[0m\u001b[0m_reset\u001b[0m\u001b[0;34m(\u001b[0m\u001b[0;34m)\u001b[0m  \u001b[0;31m# type: ignore[call-arg]\u001b[0m\u001b[0;34m\u001b[0m\u001b[0;34m\u001b[0m\u001b[0m\n\u001b[0;32m--> 631\u001b[0;31m             \u001b[0mdata\u001b[0m \u001b[0;34m=\u001b[0m \u001b[0mself\u001b[0m\u001b[0;34m.\u001b[0m\u001b[0m_next_data\u001b[0m\u001b[0;34m(\u001b[0m\u001b[0;34m)\u001b[0m\u001b[0;34m\u001b[0m\u001b[0;34m\u001b[0m\u001b[0m\n\u001b[0m\u001b[1;32m    632\u001b[0m             \u001b[0mself\u001b[0m\u001b[0;34m.\u001b[0m\u001b[0m_num_yielded\u001b[0m \u001b[0;34m+=\u001b[0m \u001b[0;36m1\u001b[0m\u001b[0;34m\u001b[0m\u001b[0;34m\u001b[0m\u001b[0m\n\u001b[1;32m    633\u001b[0m             \u001b[0;32mif\u001b[0m \u001b[0mself\u001b[0m\u001b[0;34m.\u001b[0m\u001b[0m_dataset_kind\u001b[0m \u001b[0;34m==\u001b[0m \u001b[0m_DatasetKind\u001b[0m\u001b[0;34m.\u001b[0m\u001b[0mIterable\u001b[0m \u001b[0;32mand\u001b[0m\u001b[0;31m \u001b[0m\u001b[0;31m\\\u001b[0m\u001b[0;34m\u001b[0m\u001b[0;34m\u001b[0m\u001b[0m\n",
            "\u001b[0;32m/usr/local/lib/python3.10/dist-packages/torch/utils/data/dataloader.py\u001b[0m in \u001b[0;36m_next_data\u001b[0;34m(self)\u001b[0m\n\u001b[1;32m   1327\u001b[0m \u001b[0;34m\u001b[0m\u001b[0m\n\u001b[1;32m   1328\u001b[0m             \u001b[0;32massert\u001b[0m \u001b[0;32mnot\u001b[0m \u001b[0mself\u001b[0m\u001b[0;34m.\u001b[0m\u001b[0m_shutdown\u001b[0m \u001b[0;32mand\u001b[0m \u001b[0mself\u001b[0m\u001b[0;34m.\u001b[0m\u001b[0m_tasks_outstanding\u001b[0m \u001b[0;34m>\u001b[0m \u001b[0;36m0\u001b[0m\u001b[0;34m\u001b[0m\u001b[0;34m\u001b[0m\u001b[0m\n\u001b[0;32m-> 1329\u001b[0;31m             \u001b[0midx\u001b[0m\u001b[0;34m,\u001b[0m \u001b[0mdata\u001b[0m \u001b[0;34m=\u001b[0m \u001b[0mself\u001b[0m\u001b[0;34m.\u001b[0m\u001b[0m_get_data\u001b[0m\u001b[0;34m(\u001b[0m\u001b[0;34m)\u001b[0m\u001b[0;34m\u001b[0m\u001b[0;34m\u001b[0m\u001b[0m\n\u001b[0m\u001b[1;32m   1330\u001b[0m             \u001b[0mself\u001b[0m\u001b[0;34m.\u001b[0m\u001b[0m_tasks_outstanding\u001b[0m \u001b[0;34m-=\u001b[0m \u001b[0;36m1\u001b[0m\u001b[0;34m\u001b[0m\u001b[0;34m\u001b[0m\u001b[0m\n\u001b[1;32m   1331\u001b[0m             \u001b[0;32mif\u001b[0m \u001b[0mself\u001b[0m\u001b[0;34m.\u001b[0m\u001b[0m_dataset_kind\u001b[0m \u001b[0;34m==\u001b[0m \u001b[0m_DatasetKind\u001b[0m\u001b[0;34m.\u001b[0m\u001b[0mIterable\u001b[0m\u001b[0;34m:\u001b[0m\u001b[0;34m\u001b[0m\u001b[0;34m\u001b[0m\u001b[0m\n",
            "\u001b[0;32m/usr/local/lib/python3.10/dist-packages/torch/utils/data/dataloader.py\u001b[0m in \u001b[0;36m_get_data\u001b[0;34m(self)\u001b[0m\n\u001b[1;32m   1293\u001b[0m         \u001b[0;32melse\u001b[0m\u001b[0;34m:\u001b[0m\u001b[0;34m\u001b[0m\u001b[0;34m\u001b[0m\u001b[0m\n\u001b[1;32m   1294\u001b[0m             \u001b[0;32mwhile\u001b[0m \u001b[0;32mTrue\u001b[0m\u001b[0;34m:\u001b[0m\u001b[0;34m\u001b[0m\u001b[0;34m\u001b[0m\u001b[0m\n\u001b[0;32m-> 1295\u001b[0;31m                 \u001b[0msuccess\u001b[0m\u001b[0;34m,\u001b[0m \u001b[0mdata\u001b[0m \u001b[0;34m=\u001b[0m \u001b[0mself\u001b[0m\u001b[0;34m.\u001b[0m\u001b[0m_try_get_data\u001b[0m\u001b[0;34m(\u001b[0m\u001b[0;34m)\u001b[0m\u001b[0;34m\u001b[0m\u001b[0;34m\u001b[0m\u001b[0m\n\u001b[0m\u001b[1;32m   1296\u001b[0m                 \u001b[0;32mif\u001b[0m \u001b[0msuccess\u001b[0m\u001b[0;34m:\u001b[0m\u001b[0;34m\u001b[0m\u001b[0;34m\u001b[0m\u001b[0m\n\u001b[1;32m   1297\u001b[0m                     \u001b[0;32mreturn\u001b[0m \u001b[0mdata\u001b[0m\u001b[0;34m\u001b[0m\u001b[0;34m\u001b[0m\u001b[0m\n",
            "\u001b[0;32m/usr/local/lib/python3.10/dist-packages/torch/utils/data/dataloader.py\u001b[0m in \u001b[0;36m_try_get_data\u001b[0;34m(self, timeout)\u001b[0m\n\u001b[1;32m   1131\u001b[0m         \u001b[0;31m#   (bool: whether successfully get data, any: data if successful else None)\u001b[0m\u001b[0;34m\u001b[0m\u001b[0;34m\u001b[0m\u001b[0m\n\u001b[1;32m   1132\u001b[0m         \u001b[0;32mtry\u001b[0m\u001b[0;34m:\u001b[0m\u001b[0;34m\u001b[0m\u001b[0;34m\u001b[0m\u001b[0m\n\u001b[0;32m-> 1133\u001b[0;31m             \u001b[0mdata\u001b[0m \u001b[0;34m=\u001b[0m \u001b[0mself\u001b[0m\u001b[0;34m.\u001b[0m\u001b[0m_data_queue\u001b[0m\u001b[0;34m.\u001b[0m\u001b[0mget\u001b[0m\u001b[0;34m(\u001b[0m\u001b[0mtimeout\u001b[0m\u001b[0;34m=\u001b[0m\u001b[0mtimeout\u001b[0m\u001b[0;34m)\u001b[0m\u001b[0;34m\u001b[0m\u001b[0;34m\u001b[0m\u001b[0m\n\u001b[0m\u001b[1;32m   1134\u001b[0m             \u001b[0;32mreturn\u001b[0m \u001b[0;34m(\u001b[0m\u001b[0;32mTrue\u001b[0m\u001b[0;34m,\u001b[0m \u001b[0mdata\u001b[0m\u001b[0;34m)\u001b[0m\u001b[0;34m\u001b[0m\u001b[0;34m\u001b[0m\u001b[0m\n\u001b[1;32m   1135\u001b[0m         \u001b[0;32mexcept\u001b[0m \u001b[0mException\u001b[0m \u001b[0;32mas\u001b[0m \u001b[0me\u001b[0m\u001b[0;34m:\u001b[0m\u001b[0;34m\u001b[0m\u001b[0;34m\u001b[0m\u001b[0m\n",
            "\u001b[0;32m/usr/lib/python3.10/multiprocessing/queues.py\u001b[0m in \u001b[0;36mget\u001b[0;34m(self, block, timeout)\u001b[0m\n\u001b[1;32m    111\u001b[0m                 \u001b[0;32mif\u001b[0m \u001b[0mblock\u001b[0m\u001b[0;34m:\u001b[0m\u001b[0;34m\u001b[0m\u001b[0;34m\u001b[0m\u001b[0m\n\u001b[1;32m    112\u001b[0m                     \u001b[0mtimeout\u001b[0m \u001b[0;34m=\u001b[0m \u001b[0mdeadline\u001b[0m \u001b[0;34m-\u001b[0m \u001b[0mtime\u001b[0m\u001b[0;34m.\u001b[0m\u001b[0mmonotonic\u001b[0m\u001b[0;34m(\u001b[0m\u001b[0;34m)\u001b[0m\u001b[0;34m\u001b[0m\u001b[0;34m\u001b[0m\u001b[0m\n\u001b[0;32m--> 113\u001b[0;31m                     \u001b[0;32mif\u001b[0m \u001b[0;32mnot\u001b[0m \u001b[0mself\u001b[0m\u001b[0;34m.\u001b[0m\u001b[0m_poll\u001b[0m\u001b[0;34m(\u001b[0m\u001b[0mtimeout\u001b[0m\u001b[0;34m)\u001b[0m\u001b[0;34m:\u001b[0m\u001b[0;34m\u001b[0m\u001b[0;34m\u001b[0m\u001b[0m\n\u001b[0m\u001b[1;32m    114\u001b[0m                         \u001b[0;32mraise\u001b[0m \u001b[0mEmpty\u001b[0m\u001b[0;34m\u001b[0m\u001b[0;34m\u001b[0m\u001b[0m\n\u001b[1;32m    115\u001b[0m                 \u001b[0;32melif\u001b[0m \u001b[0;32mnot\u001b[0m \u001b[0mself\u001b[0m\u001b[0;34m.\u001b[0m\u001b[0m_poll\u001b[0m\u001b[0;34m(\u001b[0m\u001b[0;34m)\u001b[0m\u001b[0;34m:\u001b[0m\u001b[0;34m\u001b[0m\u001b[0;34m\u001b[0m\u001b[0m\n",
            "\u001b[0;32m/usr/lib/python3.10/multiprocessing/connection.py\u001b[0m in \u001b[0;36mpoll\u001b[0;34m(self, timeout)\u001b[0m\n\u001b[1;32m    255\u001b[0m         \u001b[0mself\u001b[0m\u001b[0;34m.\u001b[0m\u001b[0m_check_closed\u001b[0m\u001b[0;34m(\u001b[0m\u001b[0;34m)\u001b[0m\u001b[0;34m\u001b[0m\u001b[0;34m\u001b[0m\u001b[0m\n\u001b[1;32m    256\u001b[0m         \u001b[0mself\u001b[0m\u001b[0;34m.\u001b[0m\u001b[0m_check_readable\u001b[0m\u001b[0;34m(\u001b[0m\u001b[0;34m)\u001b[0m\u001b[0;34m\u001b[0m\u001b[0;34m\u001b[0m\u001b[0m\n\u001b[0;32m--> 257\u001b[0;31m         \u001b[0;32mreturn\u001b[0m \u001b[0mself\u001b[0m\u001b[0;34m.\u001b[0m\u001b[0m_poll\u001b[0m\u001b[0;34m(\u001b[0m\u001b[0mtimeout\u001b[0m\u001b[0;34m)\u001b[0m\u001b[0;34m\u001b[0m\u001b[0;34m\u001b[0m\u001b[0m\n\u001b[0m\u001b[1;32m    258\u001b[0m \u001b[0;34m\u001b[0m\u001b[0m\n\u001b[1;32m    259\u001b[0m     \u001b[0;32mdef\u001b[0m \u001b[0m__enter__\u001b[0m\u001b[0;34m(\u001b[0m\u001b[0mself\u001b[0m\u001b[0;34m)\u001b[0m\u001b[0;34m:\u001b[0m\u001b[0;34m\u001b[0m\u001b[0;34m\u001b[0m\u001b[0m\n",
            "\u001b[0;32m/usr/lib/python3.10/multiprocessing/connection.py\u001b[0m in \u001b[0;36m_poll\u001b[0;34m(self, timeout)\u001b[0m\n\u001b[1;32m    422\u001b[0m \u001b[0;34m\u001b[0m\u001b[0m\n\u001b[1;32m    423\u001b[0m     \u001b[0;32mdef\u001b[0m \u001b[0m_poll\u001b[0m\u001b[0;34m(\u001b[0m\u001b[0mself\u001b[0m\u001b[0;34m,\u001b[0m \u001b[0mtimeout\u001b[0m\u001b[0;34m)\u001b[0m\u001b[0;34m:\u001b[0m\u001b[0;34m\u001b[0m\u001b[0;34m\u001b[0m\u001b[0m\n\u001b[0;32m--> 424\u001b[0;31m         \u001b[0mr\u001b[0m \u001b[0;34m=\u001b[0m \u001b[0mwait\u001b[0m\u001b[0;34m(\u001b[0m\u001b[0;34m[\u001b[0m\u001b[0mself\u001b[0m\u001b[0;34m]\u001b[0m\u001b[0;34m,\u001b[0m \u001b[0mtimeout\u001b[0m\u001b[0;34m)\u001b[0m\u001b[0;34m\u001b[0m\u001b[0;34m\u001b[0m\u001b[0m\n\u001b[0m\u001b[1;32m    425\u001b[0m         \u001b[0;32mreturn\u001b[0m \u001b[0mbool\u001b[0m\u001b[0;34m(\u001b[0m\u001b[0mr\u001b[0m\u001b[0;34m)\u001b[0m\u001b[0;34m\u001b[0m\u001b[0;34m\u001b[0m\u001b[0m\n\u001b[1;32m    426\u001b[0m \u001b[0;34m\u001b[0m\u001b[0m\n",
            "\u001b[0;32m/usr/lib/python3.10/multiprocessing/connection.py\u001b[0m in \u001b[0;36mwait\u001b[0;34m(object_list, timeout)\u001b[0m\n\u001b[1;32m    929\u001b[0m \u001b[0;34m\u001b[0m\u001b[0m\n\u001b[1;32m    930\u001b[0m             \u001b[0;32mwhile\u001b[0m \u001b[0;32mTrue\u001b[0m\u001b[0;34m:\u001b[0m\u001b[0;34m\u001b[0m\u001b[0;34m\u001b[0m\u001b[0m\n\u001b[0;32m--> 931\u001b[0;31m                 \u001b[0mready\u001b[0m \u001b[0;34m=\u001b[0m \u001b[0mselector\u001b[0m\u001b[0;34m.\u001b[0m\u001b[0mselect\u001b[0m\u001b[0;34m(\u001b[0m\u001b[0mtimeout\u001b[0m\u001b[0;34m)\u001b[0m\u001b[0;34m\u001b[0m\u001b[0;34m\u001b[0m\u001b[0m\n\u001b[0m\u001b[1;32m    932\u001b[0m                 \u001b[0;32mif\u001b[0m \u001b[0mready\u001b[0m\u001b[0;34m:\u001b[0m\u001b[0;34m\u001b[0m\u001b[0;34m\u001b[0m\u001b[0m\n\u001b[1;32m    933\u001b[0m                     \u001b[0;32mreturn\u001b[0m \u001b[0;34m[\u001b[0m\u001b[0mkey\u001b[0m\u001b[0;34m.\u001b[0m\u001b[0mfileobj\u001b[0m \u001b[0;32mfor\u001b[0m \u001b[0;34m(\u001b[0m\u001b[0mkey\u001b[0m\u001b[0;34m,\u001b[0m \u001b[0mevents\u001b[0m\u001b[0;34m)\u001b[0m \u001b[0;32min\u001b[0m \u001b[0mready\u001b[0m\u001b[0;34m]\u001b[0m\u001b[0;34m\u001b[0m\u001b[0;34m\u001b[0m\u001b[0m\n",
            "\u001b[0;32m/usr/lib/python3.10/selectors.py\u001b[0m in \u001b[0;36mselect\u001b[0;34m(self, timeout)\u001b[0m\n\u001b[1;32m    414\u001b[0m         \u001b[0mready\u001b[0m \u001b[0;34m=\u001b[0m \u001b[0;34m[\u001b[0m\u001b[0;34m]\u001b[0m\u001b[0;34m\u001b[0m\u001b[0;34m\u001b[0m\u001b[0m\n\u001b[1;32m    415\u001b[0m         \u001b[0;32mtry\u001b[0m\u001b[0;34m:\u001b[0m\u001b[0;34m\u001b[0m\u001b[0;34m\u001b[0m\u001b[0m\n\u001b[0;32m--> 416\u001b[0;31m             \u001b[0mfd_event_list\u001b[0m \u001b[0;34m=\u001b[0m \u001b[0mself\u001b[0m\u001b[0;34m.\u001b[0m\u001b[0m_selector\u001b[0m\u001b[0;34m.\u001b[0m\u001b[0mpoll\u001b[0m\u001b[0;34m(\u001b[0m\u001b[0mtimeout\u001b[0m\u001b[0;34m)\u001b[0m\u001b[0;34m\u001b[0m\u001b[0;34m\u001b[0m\u001b[0m\n\u001b[0m\u001b[1;32m    417\u001b[0m         \u001b[0;32mexcept\u001b[0m \u001b[0mInterruptedError\u001b[0m\u001b[0;34m:\u001b[0m\u001b[0;34m\u001b[0m\u001b[0;34m\u001b[0m\u001b[0m\n\u001b[1;32m    418\u001b[0m             \u001b[0;32mreturn\u001b[0m \u001b[0mready\u001b[0m\u001b[0;34m\u001b[0m\u001b[0;34m\u001b[0m\u001b[0m\n",
            "\u001b[0;31mKeyboardInterrupt\u001b[0m: "
          ]
        }
      ]
    },
    {
      "cell_type": "code",
      "source": [
        "from google.colab import drive\n",
        "drive.mount('/content/drive')"
      ],
      "metadata": {
        "id": "Huuzk7Vd3o-k"
      },
      "execution_count": null,
      "outputs": []
    },
    {
      "cell_type": "code",
      "source": [
        "torch.save(Cnet, \"Cnet_1_trained_model.pt\")\n",
        "\n",
        "!cp  CNN_1_trained_model.pt /content/drive/MyDrive/Sxoli/EFREMIDIS\n",
        "\n",
        "cnn = torch.load('/content/drive/MyDrive/Sxoli/EFREMIDIS/CNN_1_trained_model.pt')"
      ],
      "metadata": {
        "id": "HkAu0QB9uTx8"
      },
      "execution_count": null,
      "outputs": []
    },
    {
      "cell_type": "markdown",
      "source": [
        "## test"
      ],
      "metadata": {
        "id": "08pLwnS5Aui4"
      }
    },
    {
      "cell_type": "code",
      "source": [
        "def test(model):\n",
        "    model.eval()\n",
        "    with torch.no_grad():\n",
        "        correct = 0\n",
        "        total = 0\n",
        "\n",
        "        for images, labels in loaders['test']:\n",
        "            test_output, last_layer = cnn(images)\n",
        "            pred_y = torch.max(test_output, 1)[1].data.squeeze()\n",
        "            accuracy = (pred_y == labels).sum().item() / float(labels.size(0))\n",
        "        pass\n",
        "\n",
        "    print('Test Accuracy of the model on the 10000 test images: %.2f' % accuracy)\n",
        "\n",
        "    pass\n",
        "\n",
        "test(cnn)"
      ],
      "metadata": {
        "id": "zmLhNU8DsFQR"
      },
      "execution_count": null,
      "outputs": []
    },
    {
      "cell_type": "code",
      "source": [
        "from sklearn.metrics import confusion_matrix\n",
        "\n",
        "def test(cnn, loaders):\n",
        "    cnn.eval()\n",
        "    with torch.no_grad():\n",
        "        all_predicted_labels = []\n",
        "        all_true_labels = []\n",
        "\n",
        "        for images, labels in loaders['test']:\n",
        "            test_output, _ = cnn(images)\n",
        "            pred_y = torch.max(test_output, 1)[1].data.squeeze()\n",
        "\n",
        "            all_predicted_labels.extend(pred_y.tolist())\n",
        "            all_true_labels.extend(labels.tolist())\n",
        "\n",
        "        # Calculate Test Accuracy\n",
        "        accuracy = (torch.tensor(all_predicted_labels) == torch.tensor(all_true_labels)).float().mean().item()\n",
        "        print('Test Accuracy of the model on the test set: %.2f' % accuracy)\n",
        "\n",
        "        # Calculate Confusion Matrix\n",
        "        cm = confusion_matrix(all_true_labels, all_predicted_labels)\n",
        "        print('Confusion Matrix:\\n', cm)\n",
        "\n",
        "        # Calculate accuracy for each class\n",
        "        class_accuracies = np.diag(cm) / cm.sum(axis=1)\n",
        "        for i, acc in enumerate(class_accuracies):\n",
        "            print(f'Accuracy for class {i}: {acc:.2f}')\n",
        "\n",
        "        # Visualize wrongly predicted images\n",
        "        #visualize_wrong_predictions(images, all_predicted_labels, all_true_labels)\n",
        "\n",
        "    return all_predicted_labels, all_true_labels\n",
        "\n",
        "all_predicted_labels, all_true_labels = test(cnn, loaders)\n"
      ],
      "metadata": {
        "id": "KP-eFgdwy7On"
      },
      "execution_count": null,
      "outputs": []
    },
    {
      "cell_type": "code",
      "source": [
        "import math\n",
        "\n",
        "def wrong_images():\n",
        "    cnn.eval()\n",
        "    with torch.no_grad():\n",
        "        wrong_sum = 0\n",
        "\n",
        "        for images, labels in loaders['test']:\n",
        "            test_output, _ = cnn(images)\n",
        "            pred_y = torch.max(test_output, 1)[1].data.squeeze()\n",
        "\n",
        "            wrong_indices = (pred_y != labels).nonzero(as_tuple=True)[0]\n",
        "            wrong_indices = wrong_indices[:20]\n",
        "\n",
        "            wrong_sum += len(wrong_indices)\n",
        "\n",
        "            num_samples = min(20, len(wrong_indices))\n",
        "            row_len = 5\n",
        "            num_rows = math.ceil(num_samples / row_len)\n",
        "            fig, axes = plt.subplots(num_rows, row_len, figsize=(10, num_rows * 2))\n",
        "            fig.tight_layout(pad=1.0)\n",
        "\n",
        "            for i, idx in enumerate(wrong_indices):\n",
        "                row = i // row_len\n",
        "                col = i % row_len\n",
        "                ax = axes[row, col] if num_rows > 1 else axes[col]\n",
        "\n",
        "                wrong_image = images[idx].cpu().permute(1, 2, 0)\n",
        "                wrong_predicted_label = pred_y[idx].item()\n",
        "                wrong_true_label = labels[idx].item()\n",
        "\n",
        "                # Plot the wrong image\n",
        "                ax.imshow(wrong_image)\n",
        "                ax.set_title(f'Pred: {wrong_predicted_label}, True: {wrong_true_label}, idx: {idx}')\n",
        "                ax.axis('off')\n",
        "\n",
        "            plt.show()\n",
        "\n",
        "        print(f'Total number of wrong predictions: {wrong_sum}')\n",
        "\n",
        "wrong_images()\n"
      ],
      "metadata": {
        "id": "9iddKDZnxlht"
      },
      "execution_count": null,
      "outputs": []
    }
  ]
}