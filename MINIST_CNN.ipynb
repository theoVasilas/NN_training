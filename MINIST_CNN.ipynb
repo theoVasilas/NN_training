{
  "cells": [
    {
      "cell_type": "markdown",
      "metadata": {
        "id": "view-in-github",
        "colab_type": "text"
      },
      "source": [
        "<a href=\"https://colab.research.google.com/github/theoVasilas/NN_training/blob/main/MINIST_CNN.ipynb\" target=\"_parent\"><img src=\"https://colab.research.google.com/assets/colab-badge.svg\" alt=\"Open In Colab\"/></a>"
      ]
    },
    {
      "cell_type": "markdown",
      "metadata": {
        "id": "mnwzMxDtEruq"
      },
      "source": [
        "## dowload dataset and imports"
      ]
    },
    {
      "cell_type": "code",
      "execution_count": 1,
      "metadata": {
        "id": "mACbvzOteEOE"
      },
      "outputs": [],
      "source": [
        "%%capture\n",
        "%pip install torch\n",
        "%pip install torchvision\n",
        "#captured_output.show()"
      ]
    },
    {
      "cell_type": "code",
      "execution_count": 2,
      "metadata": {
        "id": "2MoQUahQl5Pg"
      },
      "outputs": [],
      "source": [
        "import torch\n",
        "from torch import nn\n",
        "import torch.optim as optim\n",
        "from torch.utils.data import DataLoader\n",
        "\n",
        "import matplotlib.pyplot as plt\n",
        "\n",
        "from IPython.utils import io\n",
        "import numpy as np\n"
      ]
    },
    {
      "cell_type": "code",
      "execution_count": 3,
      "metadata": {
        "colab": {
          "base_uri": "https://localhost:8080/"
        },
        "id": "D9-s8Rv9ntfs",
        "outputId": "5702ba82-2611-443f-d749-4f1397950077"
      },
      "outputs": [
        {
          "output_type": "execute_result",
          "data": {
            "text/plain": [
              "device(type='cuda')"
            ]
          },
          "metadata": {},
          "execution_count": 3
        }
      ],
      "source": [
        "# Device configuration\n",
        "device = torch.device('cuda' if torch.cuda.is_available() else 'cpu')\n",
        "device"
      ]
    },
    {
      "cell_type": "code",
      "execution_count": 4,
      "metadata": {
        "colab": {
          "base_uri": "https://localhost:8080/"
        },
        "id": "1t7BqXjSeEOE",
        "outputId": "22df5662-d956-4042-b375-ee00013d411c",
        "collapsed": true
      },
      "outputs": [
        {
          "output_type": "stream",
          "name": "stdout",
          "text": [
            "Downloading http://yann.lecun.com/exdb/mnist/train-images-idx3-ubyte.gz\n",
            "Failed to download (trying next):\n",
            "<urlopen error [SSL: CERTIFICATE_VERIFY_FAILED] certificate verify failed: certificate has expired (_ssl.c:1007)>\n",
            "\n",
            "Downloading https://ossci-datasets.s3.amazonaws.com/mnist/train-images-idx3-ubyte.gz\n",
            "Downloading https://ossci-datasets.s3.amazonaws.com/mnist/train-images-idx3-ubyte.gz to data/MNIST/raw/train-images-idx3-ubyte.gz\n"
          ]
        },
        {
          "output_type": "stream",
          "name": "stderr",
          "text": [
            "100%|██████████| 9.91M/9.91M [00:11<00:00, 894kB/s] \n"
          ]
        },
        {
          "output_type": "stream",
          "name": "stdout",
          "text": [
            "Extracting data/MNIST/raw/train-images-idx3-ubyte.gz to data/MNIST/raw\n",
            "\n",
            "Downloading http://yann.lecun.com/exdb/mnist/train-labels-idx1-ubyte.gz\n",
            "Failed to download (trying next):\n",
            "<urlopen error [SSL: CERTIFICATE_VERIFY_FAILED] certificate verify failed: certificate has expired (_ssl.c:1007)>\n",
            "\n",
            "Downloading https://ossci-datasets.s3.amazonaws.com/mnist/train-labels-idx1-ubyte.gz\n",
            "Downloading https://ossci-datasets.s3.amazonaws.com/mnist/train-labels-idx1-ubyte.gz to data/MNIST/raw/train-labels-idx1-ubyte.gz\n"
          ]
        },
        {
          "output_type": "stream",
          "name": "stderr",
          "text": [
            "100%|██████████| 28.9k/28.9k [00:00<00:00, 129kB/s]\n"
          ]
        },
        {
          "output_type": "stream",
          "name": "stdout",
          "text": [
            "Extracting data/MNIST/raw/train-labels-idx1-ubyte.gz to data/MNIST/raw\n",
            "\n",
            "Downloading http://yann.lecun.com/exdb/mnist/t10k-images-idx3-ubyte.gz\n",
            "Failed to download (trying next):\n",
            "<urlopen error [SSL: CERTIFICATE_VERIFY_FAILED] certificate verify failed: certificate has expired (_ssl.c:1007)>\n",
            "\n",
            "Downloading https://ossci-datasets.s3.amazonaws.com/mnist/t10k-images-idx3-ubyte.gz\n",
            "Downloading https://ossci-datasets.s3.amazonaws.com/mnist/t10k-images-idx3-ubyte.gz to data/MNIST/raw/t10k-images-idx3-ubyte.gz\n"
          ]
        },
        {
          "output_type": "stream",
          "name": "stderr",
          "text": [
            "100%|██████████| 1.65M/1.65M [00:01<00:00, 1.21MB/s]\n"
          ]
        },
        {
          "output_type": "stream",
          "name": "stdout",
          "text": [
            "Extracting data/MNIST/raw/t10k-images-idx3-ubyte.gz to data/MNIST/raw\n",
            "\n",
            "Downloading http://yann.lecun.com/exdb/mnist/t10k-labels-idx1-ubyte.gz\n",
            "Failed to download (trying next):\n",
            "<urlopen error [SSL: CERTIFICATE_VERIFY_FAILED] certificate verify failed: certificate has expired (_ssl.c:1007)>\n",
            "\n",
            "Downloading https://ossci-datasets.s3.amazonaws.com/mnist/t10k-labels-idx1-ubyte.gz\n",
            "Downloading https://ossci-datasets.s3.amazonaws.com/mnist/t10k-labels-idx1-ubyte.gz to data/MNIST/raw/t10k-labels-idx1-ubyte.gz\n"
          ]
        },
        {
          "output_type": "stream",
          "name": "stderr",
          "text": [
            "100%|██████████| 4.54k/4.54k [00:00<00:00, 2.56MB/s]"
          ]
        },
        {
          "output_type": "stream",
          "name": "stdout",
          "text": [
            "Extracting data/MNIST/raw/t10k-labels-idx1-ubyte.gz to data/MNIST/raw\n",
            "\n"
          ]
        },
        {
          "output_type": "stream",
          "name": "stderr",
          "text": [
            "\n"
          ]
        }
      ],
      "source": [
        "from torchvision import datasets\n",
        "from torchvision.transforms import ToTensor\n",
        "\n",
        "train_data = datasets.MNIST(\n",
        "    root = 'data',\n",
        "    train = True,\n",
        "    transform = ToTensor(),\n",
        "    download = True,\n",
        ")\n",
        "test_data = datasets.MNIST(\n",
        "    root = 'data',\n",
        "    train = False,\n",
        "    transform = ToTensor()\n",
        ")"
      ]
    },
    {
      "cell_type": "code",
      "execution_count": 5,
      "metadata": {
        "colab": {
          "base_uri": "https://localhost:8080/"
        },
        "id": "O0TRP5AJoz_b",
        "outputId": "d7cfc5af-46e1-4d2f-b26b-b1b6fece747e"
      },
      "outputs": [
        {
          "output_type": "stream",
          "name": "stdout",
          "text": [
            "torch.Size([60000, 28, 28])\n",
            "torch.Size([10000, 28, 28])\n"
          ]
        }
      ],
      "source": [
        "print(train_data.data.size())\n",
        "print(test_data.data.size())"
      ]
    },
    {
      "cell_type": "markdown",
      "metadata": {
        "id": "IBSMd-uq70CC"
      },
      "source": [
        "## tranforms\n"
      ]
    },
    {
      "cell_type": "code",
      "execution_count": 6,
      "metadata": {
        "id": "Q3_Y2H2y7y1o"
      },
      "outputs": [],
      "source": [
        "from torchvision import transforms\n",
        "\n",
        "transform_train = transforms.Compose([\n",
        "    transforms.RandomAffine(degrees=5, translate=(0.1, 0.1), scale=(0.9, 1.1), shear=10),\n",
        "    transforms.ToTensor()\n",
        "])\n",
        "\n",
        "transform_test = transforms.Compose([\n",
        "    transforms.ToTensor()\n",
        "])\n",
        "\n",
        "\n",
        "train_data = datasets.MNIST(\n",
        "    root = 'data',\n",
        "    train = True,\n",
        "    download = False,\n",
        "    transform = transform_train\n",
        ")\n",
        "test_data = datasets.MNIST(\n",
        "    root = 'data',\n",
        "    train = False,\n",
        "    download = False,\n",
        "    transform=transform_test\n",
        ")"
      ]
    },
    {
      "cell_type": "markdown",
      "metadata": {
        "id": "b2cpHDMC6nEe"
      },
      "source": [
        "## loaders"
      ]
    },
    {
      "cell_type": "code",
      "execution_count": 7,
      "metadata": {
        "id": "lG8540m7l5Pg"
      },
      "outputs": [],
      "source": [
        "from torch.utils.data import DataLoader, random_split\n",
        "\n",
        "train_size = int(0.8 * len(train_data))\n",
        "val_size = len(train_data) - train_size\n",
        "train_data, val_data = random_split(train_data, [train_size, val_size])\n",
        "\n",
        "loaders = {\n",
        "    'train' : torch.utils.data.DataLoader(train_data,\n",
        "                                          batch_size=100,\n",
        "                                          shuffle=True,\n",
        "                                          num_workers=1),\n",
        "\n",
        "    'test'  : torch.utils.data.DataLoader(test_data,\n",
        "                                          batch_size=100,\n",
        "                                          shuffle=True,\n",
        "                                          num_workers=1),\n",
        "\n",
        "    'valid' : torch.utils.data.DataLoader(val_data,\n",
        "                                          batch_size=100,\n",
        "                                          shuffle=True,\n",
        "                                          num_workers=1)\n",
        "}\n"
      ]
    },
    {
      "cell_type": "code",
      "execution_count": 8,
      "metadata": {
        "colab": {
          "base_uri": "https://localhost:8080/",
          "height": 419
        },
        "id": "wbxOA9DzAEiW",
        "outputId": "37af355f-2c11-4da4-8c33-f48ca23ccf2b"
      },
      "outputs": [
        {
          "output_type": "display_data",
          "data": {
            "text/plain": [
              "<Figure size 1200x500 with 10 Axes>"
            ],
            "image/png": "[encoded data removed]"
          },
          "metadata": {}
        }
      ],
      "source": [
        "train_loader = loaders['train']\n",
        "data_iter = iter(train_loader)\n",
        "\n",
        "# Plot 10 images\n",
        "fig, axes = plt.subplots(2, 5, figsize=(12, 5))\n",
        "\n",
        "for i in range(10):\n",
        "    images, labels = next(data_iter)\n",
        "    ax = axes[i // 5, i % 5]\n",
        "    ax.imshow(images[0].permute(1, 2, 0).squeeze(), cmap='gray')  # Assuming images are in CHW format\n",
        "    ax.set_title(f\"Label: {labels[0]}\")\n",
        "    ax.axis('off')\n",
        "\n",
        "plt.show()"
      ]
    },
    {
      "cell_type": "markdown",
      "metadata": {
        "id": "WZ2ejbkGpJWU"
      },
      "source": [
        "## Simple CNN"
      ]
    },
    {
      "cell_type": "code",
      "execution_count": 9,
      "metadata": {
        "id": "rzlREnn5pIo6"
      },
      "outputs": [],
      "source": [
        "import torch.nn as nn\n",
        "class Simple_CNN(nn.Module):\n",
        "    def __init__(self):\n",
        "        super(CNN, self).__init__()\n",
        "        self.conv1 = nn.Sequential(\n",
        "            nn.Conv2d(\n",
        "                in_channels=1,\n",
        "                out_channels=16,\n",
        "                kernel_size=5,\n",
        "                stride=1,\n",
        "                padding=2,\n",
        "            ),\n",
        "            nn.ReLU(),\n",
        "            nn.MaxPool2d(kernel_size=2),\n",
        "        )\n",
        "        self.conv2 = nn.Sequential(\n",
        "            nn.Conv2d(16, 32, 5, 1, 2),\n",
        "            nn.ReLU(),\n",
        "            nn.MaxPool2d(2),\n",
        "        )\n",
        "        # fully connected layer, output 10 classes\n",
        "        self.out = nn.Linear(32 * 7 * 7, 10)\n",
        "    def forward(self, x):\n",
        "        x = self.conv1(x)\n",
        "        x = self.conv2(x)\n",
        "        x = x.view(x.size(0), -1)\n",
        "        output = self.out(x)\n",
        "        return output\n",
        "\n",
        "\n",
        "model = Simple_CNN()"
      ]
    },
    {
      "cell_type": "markdown",
      "metadata": {
        "id": "ge7WAJk9maYk"
      },
      "source": [
        "## My_CNN"
      ]
    },
    {
      "cell_type": "code",
      "execution_count": 25,
      "metadata": {
        "colab": {
          "base_uri": "https://localhost:8080/"
        },
        "id": "ynDk5jIdQYnf",
        "outputId": "56bddcc4-60ff-4e23-a15e-5df3e5d28df1"
      },
      "outputs": [
        {
          "output_type": "stream",
          "name": "stdout",
          "text": [
            "My_Net(\n",
            "  (conv1): Sequential(\n",
            "    (0): Conv2d(1, 16, kernel_size=(5, 5), stride=(1, 1), padding=(2, 2))\n",
            "    (1): ReLU()\n",
            "    (2): Dropout2d(p=0.1, inplace=False)\n",
            "  )\n",
            "  (conv2): Sequential(\n",
            "    (0): Conv2d(16, 24, kernel_size=(3, 3), stride=(1, 1), padding=(1, 1))\n",
            "    (1): ReLU()\n",
            "    (2): MaxPool2d(kernel_size=2, stride=2, padding=0, dilation=1, ceil_mode=False)\n",
            "    (3): Dropout2d(p=0.1, inplace=False)\n",
            "  )\n",
            "  (conv3): Sequential(\n",
            "    (0): Conv2d(24, 32, kernel_size=(2, 2), stride=(1, 1), padding=(1, 1))\n",
            "    (1): ReLU()\n",
            "    (2): MaxPool2d(kernel_size=2, stride=2, padding=0, dilation=1, ceil_mode=False)\n",
            "    (3): Dropout2d(p=0.3, inplace=False)\n",
            "  )\n",
            "  (linear1): Linear(in_features=1568, out_features=24, bias=True)\n",
            "  (drop): Dropout(p=0.3, inplace=False)\n",
            "  (linear2): Linear(in_features=24, out_features=10, bias=True)\n",
            ")\n"
          ]
        }
      ],
      "source": [
        "class My_Net(nn.Module):\n",
        "    def __init__(self, num_classes):\n",
        "        super(My_Net, self).__init__()\n",
        "\n",
        "        self.conv1 = nn.Sequential(\n",
        "            nn.Conv2d(\n",
        "                in_channels=1,\n",
        "                out_channels=16,\n",
        "                kernel_size=5,\n",
        "                stride=1,\n",
        "                padding=2,\n",
        "            ),\n",
        "            nn.ReLU(),\n",
        "            nn.Dropout2d(p=0.1)\n",
        "        )\n",
        "\n",
        "\n",
        "        self.conv2 = nn.Sequential(\n",
        "            nn.Conv2d(\n",
        "                in_channels=16,\n",
        "                out_channels=24,\n",
        "                kernel_size=3,\n",
        "                stride=1,\n",
        "                padding=1,\n",
        "            ),\n",
        "            nn.ReLU(),\n",
        "            nn.MaxPool2d(kernel_size=2),\n",
        "            nn.Dropout2d(p=0.1)\n",
        "        )\n",
        "\n",
        "        self.conv3 = nn.Sequential(\n",
        "            nn.Conv2d(\n",
        "                in_channels=24,\n",
        "                out_channels=32,\n",
        "                kernel_size=2,\n",
        "                stride=1,\n",
        "                padding=1,\n",
        "            ),\n",
        "            nn.ReLU(),\n",
        "            nn.MaxPool2d(kernel_size=2),\n",
        "            nn.Dropout2d(p=0.3)\n",
        "\n",
        "        )\n",
        "\n",
        "        self.linear1 = nn.Linear(in_features=32 * 7 * 7, out_features=24)\n",
        "\n",
        "        self.drop = nn.Dropout(p=0.3)\n",
        "\n",
        "        self.linear2 = nn.Linear(in_features=24, out_features=num_classes)\n",
        "\n",
        "    def forward(self, x):\n",
        "\n",
        "        x = self.conv1(x)\n",
        "        x = self.conv2(x)\n",
        "        x = self.conv3(x)\n",
        "\n",
        "        # Flatten\n",
        "        x = x.view(-1, 32 * 7 * 7)\n",
        "\n",
        "        x = self.linear1(x)\n",
        "        x = nn.functional.relu(x)\n",
        "\n",
        "        x = self.drop(x)\n",
        "\n",
        "        x = self.linear2(x)\n",
        "\n",
        "        output = torch.log_softmax(x, dim=1)\n",
        "        return output\n",
        "\n",
        "model = My_Net(num_classes=10).to(device)\n",
        "\n",
        "print(model)\n"
      ]
    },
    {
      "cell_type": "code",
      "execution_count": 12,
      "metadata": {
        "id": "A9rRX3aJmJB2",
        "colab": {
          "base_uri": "https://localhost:8080/",
          "height": 1000
        },
        "collapsed": true,
        "outputId": "3f7f78bb-28f7-4e4a-c7c6-f492d97bb03b"
      },
      "outputs": [
        {
          "output_type": "stream",
          "name": "stdout",
          "text": [
            "Collecting torchviz\n",
            "  Downloading torchviz-0.0.2.tar.gz (4.9 kB)\n",
            "  Preparing metadata (setup.py) ... \u001b[?25l\u001b[?25hdone\n",
            "Requirement already satisfied: torch in /usr/local/lib/python3.10/dist-packages (from torchviz) (2.5.0+cu121)\n",
            "Requirement already satisfied: graphviz in /usr/local/lib/python3.10/dist-packages (from torchviz) (0.20.3)\n",
            "Requirement already satisfied: filelock in /usr/local/lib/python3.10/dist-packages (from torch->torchviz) (3.16.1)\n",
            "Requirement already satisfied: typing-extensions>=4.8.0 in /usr/local/lib/python3.10/dist-packages (from torch->torchviz) (4.12.2)\n",
            "Requirement already satisfied: networkx in /usr/local/lib/python3.10/dist-packages (from torch->torchviz) (3.4.2)\n",
            "Requirement already satisfied: jinja2 in /usr/local/lib/python3.10/dist-packages (from torch->torchviz) (3.1.4)\n",
            "Requirement already satisfied: fsspec in /usr/local/lib/python3.10/dist-packages (from torch->torchviz) (2024.6.1)\n",
            "Requirement already satisfied: sympy==1.13.1 in /usr/local/lib/python3.10/dist-packages (from torch->torchviz) (1.13.1)\n",
            "Requirement already satisfied: mpmath<1.4,>=1.1.0 in /usr/local/lib/python3.10/dist-packages (from sympy==1.13.1->torch->torchviz) (1.3.0)\n",
            "Requirement already satisfied: MarkupSafe>=2.0 in /usr/local/lib/python3.10/dist-packages (from jinja2->torch->torchviz) (3.0.2)\n",
            "Building wheels for collected packages: torchviz\n",
            "  Building wheel for torchviz (setup.py) ... \u001b[?25l\u001b[?25hdone\n",
            "  Created wheel for torchviz: filename=torchviz-0.0.2-py3-none-any.whl size=4132 sha256=edec4ddfa7d9173722db2d2fa68b63072403a9b29eec3ffcefbc5189aaa03d3b\n",
            "  Stored in directory: /root/.cache/pip/wheels/4c/97/88/a02973217949e0db0c9f4346d154085f4725f99c4f15a87094\n",
            "Successfully built torchviz\n",
            "Installing collected packages: torchviz\n",
            "Successfully installed torchviz-0.0.2\n"
          ]
        },
        {
          "output_type": "execute_result",
          "data": {
            "image/svg+xml": "<?xml version=\"1.0\" encoding=\"UTF-8\" standalone=\"no\"?>\n<!DOCTYPE svg PUBLIC \"-//W3C//DTD SVG 1.1//EN\"\n \"http://www.w3.org/Graphics/SVG/1.1/DTD/svg11.dtd\">\n<!-- Generated by graphviz version 2.43.0 (0)\n -->\n<!-- Title: %3 Pages: 1 -->\n<svg width=\"457pt\" height=\"864pt\"\n viewBox=\"0.00 0.00 456.93 864.00\" xmlns=\"http://www.w3.org/2000/svg\" xmlns:xlink=\"http://www.w3.org/1999/xlink\">\n<g id=\"graph0\" class=\"graph\" transform=\"scale(0.74 0.74) rotate(0) translate(4 1157)\">\n<title>%3</title>\n<polygon fill=\"white\" stroke=\"transparent\" points=\"-4,4 -4,-1157 610,-1157 610,4 -4,4\"/>\n<!-- 135974356556896 -->\n<g id=\"node1\" class=\"node\">\n<title>135974356556896</title>\n<polygon fill=\"#caff70\" stroke=\"black\" points=\"452,-31 387,-31 387,0 452,0 452,-31\"/>\n<text text-anchor=\"middle\" x=\"419.5\" y=\"-7\" font-family=\"monospace\" font-size=\"10.00\"> (1, 10)</text>\n</g>\n<!-- 135970985084432 -->\n<g id=\"node2\" class=\"node\">\n<title>135970985084432</title>\n<polygon fill=\"lightgrey\" stroke=\"black\" points=\"485,-86 354,-86 354,-67 485,-67 485,-86\"/>\n<text text-anchor=\"middle\" x=\"419.5\" y=\"-74\" font-family=\"monospace\" font-size=\"10.00\">LogSoftmaxBackward0</text>\n</g>\n<!-- 135970985084432&#45;&gt;135974356556896 -->\n<g id=\"edge39\" class=\"edge\">\n<title>135970985084432&#45;&gt;135974356556896</title>\n<path fill=\"none\" stroke=\"black\" d=\"M419.5,-66.79C419.5,-60.07 419.5,-50.4 419.5,-41.34\"/>\n<polygon fill=\"black\" stroke=\"black\" points=\"423,-41.19 419.5,-31.19 416,-41.19 423,-41.19\"/>\n</g>\n<!-- 135970985084912 -->\n<g id=\"node3\" class=\"node\">\n<title>135970985084912</title>\n<polygon fill=\"lightgrey\" stroke=\"black\" points=\"470,-141 369,-141 369,-122 470,-122 470,-141\"/>\n<text text-anchor=\"middle\" x=\"419.5\" y=\"-129\" font-family=\"monospace\" font-size=\"10.00\">AddmmBackward0</text>\n</g>\n<!-- 135970985084912&#45;&gt;135970985084432 -->\n<g id=\"edge1\" class=\"edge\">\n<title>135970985084912&#45;&gt;135970985084432</title>\n<path fill=\"none\" stroke=\"black\" d=\"M419.5,-121.75C419.5,-114.8 419.5,-104.85 419.5,-96.13\"/>\n<polygon fill=\"black\" stroke=\"black\" points=\"423,-96.09 419.5,-86.09 416,-96.09 423,-96.09\"/>\n</g>\n<!-- 135970985091872 -->\n<g id=\"node4\" class=\"node\">\n<title>135970985091872</title>\n<polygon fill=\"lightgrey\" stroke=\"black\" points=\"327,-196 226,-196 226,-177 327,-177 327,-196\"/>\n<text text-anchor=\"middle\" x=\"276.5\" y=\"-184\" font-family=\"monospace\" font-size=\"10.00\">AccumulateGrad</text>\n</g>\n<!-- 135970985091872&#45;&gt;135970985084912 -->\n<g id=\"edge2\" class=\"edge\">\n<title>135970985091872&#45;&gt;135970985084912</title>\n<path fill=\"none\" stroke=\"black\" d=\"M299.48,-176.98C323,-168.27 359.79,-154.63 386.44,-144.75\"/>\n<polygon fill=\"black\" stroke=\"black\" points=\"387.95,-147.93 396.11,-141.17 385.51,-141.36 387.95,-147.93\"/>\n</g>\n<!-- 135970975523568 -->\n<g id=\"node5\" class=\"node\">\n<title>135970975523568</title>\n<polygon fill=\"lightblue\" stroke=\"black\" points=\"321,-262 232,-262 232,-232 321,-232 321,-262\"/>\n<text text-anchor=\"middle\" x=\"276.5\" y=\"-250\" font-family=\"monospace\" font-size=\"10.00\">linear2.bias</text>\n<text text-anchor=\"middle\" x=\"276.5\" y=\"-239\" font-family=\"monospace\" font-size=\"10.00\"> (10)</text>\n</g>\n<!-- 135970975523568&#45;&gt;135970985091872 -->\n<g id=\"edge3\" class=\"edge\">\n<title>135970975523568&#45;&gt;135970985091872</title>\n<path fill=\"none\" stroke=\"black\" d=\"M276.5,-231.84C276.5,-224.21 276.5,-214.7 276.5,-206.45\"/>\n<polygon fill=\"black\" stroke=\"black\" points=\"280,-206.27 276.5,-196.27 273,-206.27 280,-206.27\"/>\n</g>\n<!-- 135970985084864 -->\n<g id=\"node6\" class=\"node\">\n<title>135970985084864</title>\n<polygon fill=\"lightgrey\" stroke=\"black\" points=\"494,-196 345,-196 345,-177 494,-177 494,-196\"/>\n<text text-anchor=\"middle\" x=\"419.5\" y=\"-184\" font-family=\"monospace\" font-size=\"10.00\">NativeDropoutBackward0</text>\n</g>\n<!-- 135970985084864&#45;&gt;135970985084912 -->\n<g id=\"edge4\" class=\"edge\">\n<title>135970985084864&#45;&gt;135970985084912</title>\n<path fill=\"none\" stroke=\"black\" d=\"M419.5,-176.75C419.5,-169.8 419.5,-159.85 419.5,-151.13\"/>\n<polygon fill=\"black\" stroke=\"black\" points=\"423,-151.09 419.5,-141.09 416,-151.09 423,-151.09\"/>\n</g>\n<!-- 135970985090912 -->\n<g id=\"node7\" class=\"node\">\n<title>135970985090912</title>\n<polygon fill=\"lightgrey\" stroke=\"black\" points=\"467,-256.5 372,-256.5 372,-237.5 467,-237.5 467,-256.5\"/>\n<text text-anchor=\"middle\" x=\"419.5\" y=\"-244.5\" font-family=\"monospace\" font-size=\"10.00\">ReluBackward0</text>\n</g>\n<!-- 135970985090912&#45;&gt;135970985084864 -->\n<g id=\"edge5\" class=\"edge\">\n<title>135970985090912&#45;&gt;135970985084864</title>\n<path fill=\"none\" stroke=\"black\" d=\"M419.5,-237.37C419.5,-229.25 419.5,-216.81 419.5,-206.39\"/>\n<polygon fill=\"black\" stroke=\"black\" points=\"423,-206.17 419.5,-196.17 416,-206.17 423,-206.17\"/>\n</g>\n<!-- 135970985090048 -->\n<g id=\"node8\" class=\"node\">\n<title>135970985090048</title>\n<polygon fill=\"lightgrey\" stroke=\"black\" points=\"470,-322.5 369,-322.5 369,-303.5 470,-303.5 470,-322.5\"/>\n<text text-anchor=\"middle\" x=\"419.5\" y=\"-310.5\" font-family=\"monospace\" font-size=\"10.00\">AddmmBackward0</text>\n</g>\n<!-- 135970985090048&#45;&gt;135970985090912 -->\n<g id=\"edge6\" class=\"edge\">\n<title>135970985090048&#45;&gt;135970985090912</title>\n<path fill=\"none\" stroke=\"black\" d=\"M419.5,-303.37C419.5,-294.16 419.5,-279.29 419.5,-267.27\"/>\n<polygon fill=\"black\" stroke=\"black\" points=\"423,-266.91 419.5,-256.91 416,-266.91 423,-266.91\"/>\n</g>\n<!-- 135970985094320 -->\n<g id=\"node9\" class=\"node\">\n<title>135970985094320</title>\n<polygon fill=\"lightgrey\" stroke=\"black\" points=\"354,-383 253,-383 253,-364 354,-364 354,-383\"/>\n<text text-anchor=\"middle\" x=\"303.5\" y=\"-371\" font-family=\"monospace\" font-size=\"10.00\">AccumulateGrad</text>\n</g>\n<!-- 135970985094320&#45;&gt;135970985090048 -->\n<g id=\"edge7\" class=\"edge\">\n<title>135970985094320&#45;&gt;135970985090048</title>\n<path fill=\"none\" stroke=\"black\" d=\"M320.62,-363.87C339.72,-354.23 370.87,-338.53 393.1,-327.31\"/>\n<polygon fill=\"black\" stroke=\"black\" points=\"394.96,-330.3 402.31,-322.67 391.81,-324.05 394.96,-330.3\"/>\n</g>\n<!-- 135970931647696 -->\n<g id=\"node10\" class=\"node\">\n<title>135970931647696</title>\n<polygon fill=\"lightblue\" stroke=\"black\" points=\"348,-449 259,-449 259,-419 348,-419 348,-449\"/>\n<text text-anchor=\"middle\" x=\"303.5\" y=\"-437\" font-family=\"monospace\" font-size=\"10.00\">linear1.bias</text>\n<text text-anchor=\"middle\" x=\"303.5\" y=\"-426\" font-family=\"monospace\" font-size=\"10.00\"> (24)</text>\n</g>\n<!-- 135970931647696&#45;&gt;135970985094320 -->\n<g id=\"edge8\" class=\"edge\">\n<title>135970931647696&#45;&gt;135970985094320</title>\n<path fill=\"none\" stroke=\"black\" d=\"M303.5,-418.84C303.5,-411.21 303.5,-401.7 303.5,-393.45\"/>\n<polygon fill=\"black\" stroke=\"black\" points=\"307,-393.27 303.5,-383.27 300,-393.27 307,-393.27\"/>\n</g>\n<!-- 135970985092496 -->\n<g id=\"node11\" class=\"node\">\n<title>135970985092496</title>\n<polygon fill=\"lightgrey\" stroke=\"black\" points=\"467,-383 372,-383 372,-364 467,-364 467,-383\"/>\n<text text-anchor=\"middle\" x=\"419.5\" y=\"-371\" font-family=\"monospace\" font-size=\"10.00\">ViewBackward0</text>\n</g>\n<!-- 135970985092496&#45;&gt;135970985090048 -->\n<g id=\"edge9\" class=\"edge\">\n<title>135970985092496&#45;&gt;135970985090048</title>\n<path fill=\"none\" stroke=\"black\" d=\"M419.5,-363.87C419.5,-355.75 419.5,-343.31 419.5,-332.89\"/>\n<polygon fill=\"black\" stroke=\"black\" points=\"423,-332.67 419.5,-322.67 416,-332.67 423,-332.67\"/>\n</g>\n<!-- 135970985094992 -->\n<g id=\"node12\" class=\"node\">\n<title>135970985094992</title>\n<polygon fill=\"lightgrey\" stroke=\"black\" points=\"461,-443.5 372,-443.5 372,-424.5 461,-424.5 461,-443.5\"/>\n<text text-anchor=\"middle\" x=\"416.5\" y=\"-431.5\" font-family=\"monospace\" font-size=\"10.00\">MulBackward0</text>\n</g>\n<!-- 135970985094992&#45;&gt;135970985092496 -->\n<g id=\"edge10\" class=\"edge\">\n<title>135970985094992&#45;&gt;135970985092496</title>\n<path fill=\"none\" stroke=\"black\" d=\"M416.94,-424.37C417.36,-416.25 418,-403.81 418.53,-393.39\"/>\n<polygon fill=\"black\" stroke=\"black\" points=\"422.04,-393.33 419.06,-383.17 415.05,-392.97 422.04,-393.33\"/>\n</g>\n<!-- 135970985084048 -->\n<g id=\"node13\" class=\"node\">\n<title>135970985084048</title>\n<polygon fill=\"lightgrey\" stroke=\"black\" points=\"487,-509.5 296,-509.5 296,-490.5 487,-490.5 487,-509.5\"/>\n<text text-anchor=\"middle\" x=\"391.5\" y=\"-497.5\" font-family=\"monospace\" font-size=\"10.00\">MaxPool2DWithIndicesBackward0</text>\n</g>\n<!-- 135970985084048&#45;&gt;135970985094992 -->\n<g id=\"edge11\" class=\"edge\">\n<title>135970985084048&#45;&gt;135970985094992</title>\n<path fill=\"none\" stroke=\"black\" d=\"M394.87,-490.37C398.54,-480.97 404.52,-465.67 409.26,-453.53\"/>\n<polygon fill=\"black\" stroke=\"black\" points=\"412.64,-454.49 413.02,-443.91 406.12,-451.95 412.64,-454.49\"/>\n</g>\n<!-- 135970985084000 -->\n<g id=\"node14\" class=\"node\">\n<title>135970985084000</title>\n<polygon fill=\"lightgrey\" stroke=\"black\" points=\"439,-570 344,-570 344,-551 439,-551 439,-570\"/>\n<text text-anchor=\"middle\" x=\"391.5\" y=\"-558\" font-family=\"monospace\" font-size=\"10.00\">ReluBackward0</text>\n</g>\n<!-- 135970985084000&#45;&gt;135970985084048 -->\n<g id=\"edge12\" class=\"edge\">\n<title>135970985084000&#45;&gt;135970985084048</title>\n<path fill=\"none\" stroke=\"black\" d=\"M391.5,-550.87C391.5,-542.75 391.5,-530.31 391.5,-519.89\"/>\n<polygon fill=\"black\" stroke=\"black\" points=\"395,-519.67 391.5,-509.67 388,-519.67 395,-519.67\"/>\n</g>\n<!-- 135970985084384 -->\n<g id=\"node15\" class=\"node\">\n<title>135970985084384</title>\n<polygon fill=\"lightgrey\" stroke=\"black\" points=\"460,-625 323,-625 323,-606 460,-606 460,-625\"/>\n<text text-anchor=\"middle\" x=\"391.5\" y=\"-613\" font-family=\"monospace\" font-size=\"10.00\">ConvolutionBackward0</text>\n</g>\n<!-- 135970985084384&#45;&gt;135970985084000 -->\n<g id=\"edge13\" class=\"edge\">\n<title>135970985084384&#45;&gt;135970985084000</title>\n<path fill=\"none\" stroke=\"black\" d=\"M391.5,-605.75C391.5,-598.8 391.5,-588.85 391.5,-580.13\"/>\n<polygon fill=\"black\" stroke=\"black\" points=\"395,-580.09 391.5,-570.09 388,-580.09 395,-580.09\"/>\n</g>\n<!-- 135970985090720 -->\n<g id=\"node16\" class=\"node\">\n<title>135970985090720</title>\n<polygon fill=\"lightgrey\" stroke=\"black\" points=\"297,-680 208,-680 208,-661 297,-661 297,-680\"/>\n<text text-anchor=\"middle\" x=\"252.5\" y=\"-668\" font-family=\"monospace\" font-size=\"10.00\">MulBackward0</text>\n</g>\n<!-- 135970985090720&#45;&gt;135970985084384 -->\n<g id=\"edge14\" class=\"edge\">\n<title>135970985090720&#45;&gt;135970985084384</title>\n<path fill=\"none\" stroke=\"black\" d=\"M274.83,-660.98C297.7,-652.27 333.46,-638.63 359.36,-628.75\"/>\n<polygon fill=\"black\" stroke=\"black\" points=\"360.66,-632 368.76,-625.17 358.17,-625.46 360.66,-632\"/>\n</g>\n<!-- 135970985083376 -->\n<g id=\"node17\" class=\"node\">\n<title>135970985083376</title>\n<polygon fill=\"lightgrey\" stroke=\"black\" points=\"322,-740.5 131,-740.5 131,-721.5 322,-721.5 322,-740.5\"/>\n<text text-anchor=\"middle\" x=\"226.5\" y=\"-728.5\" font-family=\"monospace\" font-size=\"10.00\">MaxPool2DWithIndicesBackward0</text>\n</g>\n<!-- 135970985083376&#45;&gt;135970985090720 -->\n<g id=\"edge15\" class=\"edge\">\n<title>135970985083376&#45;&gt;135970985090720</title>\n<path fill=\"none\" stroke=\"black\" d=\"M230.34,-721.37C234.06,-712.99 239.83,-700.01 244.55,-689.39\"/>\n<polygon fill=\"black\" stroke=\"black\" points=\"247.78,-690.73 248.65,-680.17 241.39,-687.88 247.78,-690.73\"/>\n</g>\n<!-- 135970985088992 -->\n<g id=\"node18\" class=\"node\">\n<title>135970985088992</title>\n<polygon fill=\"lightgrey\" stroke=\"black\" points=\"274,-801 179,-801 179,-782 274,-782 274,-801\"/>\n<text text-anchor=\"middle\" x=\"226.5\" y=\"-789\" font-family=\"monospace\" font-size=\"10.00\">ReluBackward0</text>\n</g>\n<!-- 135970985088992&#45;&gt;135970985083376 -->\n<g id=\"edge16\" class=\"edge\">\n<title>135970985088992&#45;&gt;135970985083376</title>\n<path fill=\"none\" stroke=\"black\" d=\"M226.5,-781.87C226.5,-773.75 226.5,-761.31 226.5,-750.89\"/>\n<polygon fill=\"black\" stroke=\"black\" points=\"230,-750.67 226.5,-740.67 223,-750.67 230,-750.67\"/>\n</g>\n<!-- 135970985088848 -->\n<g id=\"node19\" class=\"node\">\n<title>135970985088848</title>\n<polygon fill=\"lightgrey\" stroke=\"black\" points=\"295,-856 158,-856 158,-837 295,-837 295,-856\"/>\n<text text-anchor=\"middle\" x=\"226.5\" y=\"-844\" font-family=\"monospace\" font-size=\"10.00\">ConvolutionBackward0</text>\n</g>\n<!-- 135970985088848&#45;&gt;135970985088992 -->\n<g id=\"edge17\" class=\"edge\">\n<title>135970985088848&#45;&gt;135970985088992</title>\n<path fill=\"none\" stroke=\"black\" d=\"M226.5,-836.75C226.5,-829.8 226.5,-819.85 226.5,-811.13\"/>\n<polygon fill=\"black\" stroke=\"black\" points=\"230,-811.09 226.5,-801.09 223,-811.09 230,-811.09\"/>\n</g>\n<!-- 135970985086496 -->\n<g id=\"node20\" class=\"node\">\n<title>135970985086496</title>\n<polygon fill=\"lightgrey\" stroke=\"black\" points=\"156,-911 67,-911 67,-892 156,-892 156,-911\"/>\n<text text-anchor=\"middle\" x=\"111.5\" y=\"-899\" font-family=\"monospace\" font-size=\"10.00\">MulBackward0</text>\n</g>\n<!-- 135970985086496&#45;&gt;135970985088848 -->\n<g id=\"edge18\" class=\"edge\">\n<title>135970985086496&#45;&gt;135970985088848</title>\n<path fill=\"none\" stroke=\"black\" d=\"M129.98,-891.98C148.48,-883.46 177.18,-870.23 198.48,-860.41\"/>\n<polygon fill=\"black\" stroke=\"black\" points=\"200.07,-863.53 207.69,-856.17 197.14,-857.18 200.07,-863.53\"/>\n</g>\n<!-- 135970985087936 -->\n<g id=\"node21\" class=\"node\">\n<title>135970985087936</title>\n<polygon fill=\"lightgrey\" stroke=\"black\" points=\"157,-971.5 62,-971.5 62,-952.5 157,-952.5 157,-971.5\"/>\n<text text-anchor=\"middle\" x=\"109.5\" y=\"-959.5\" font-family=\"monospace\" font-size=\"10.00\">ReluBackward0</text>\n</g>\n<!-- 135970985087936&#45;&gt;135970985086496 -->\n<g id=\"edge19\" class=\"edge\">\n<title>135970985087936&#45;&gt;135970985086496</title>\n<path fill=\"none\" stroke=\"black\" d=\"M109.8,-952.37C110.07,-944.25 110.5,-931.81 110.85,-921.39\"/>\n<polygon fill=\"black\" stroke=\"black\" points=\"114.36,-921.28 111.2,-911.17 107.36,-921.04 114.36,-921.28\"/>\n</g>\n<!-- 135970985088560 -->\n<g id=\"node22\" class=\"node\">\n<title>135970985088560</title>\n<polygon fill=\"lightgrey\" stroke=\"black\" points=\"178,-1032 41,-1032 41,-1013 178,-1013 178,-1032\"/>\n<text text-anchor=\"middle\" x=\"109.5\" y=\"-1020\" font-family=\"monospace\" font-size=\"10.00\">ConvolutionBackward0</text>\n</g>\n<!-- 135970985088560&#45;&gt;135970985087936 -->\n<g id=\"edge20\" class=\"edge\">\n<title>135970985088560&#45;&gt;135970985087936</title>\n<path fill=\"none\" stroke=\"black\" d=\"M109.5,-1012.87C109.5,-1004.75 109.5,-992.31 109.5,-981.89\"/>\n<polygon fill=\"black\" stroke=\"black\" points=\"113,-981.67 109.5,-971.67 106,-981.67 113,-981.67\"/>\n</g>\n<!-- 135970985088656 -->\n<g id=\"node23\" class=\"node\">\n<title>135970985088656</title>\n<polygon fill=\"lightgrey\" stroke=\"black\" points=\"101,-1087 0,-1087 0,-1068 101,-1068 101,-1087\"/>\n<text text-anchor=\"middle\" x=\"50.5\" y=\"-1075\" font-family=\"monospace\" font-size=\"10.00\">AccumulateGrad</text>\n</g>\n<!-- 135970985088656&#45;&gt;135970985088560 -->\n<g id=\"edge21\" class=\"edge\">\n<title>135970985088656&#45;&gt;135970985088560</title>\n<path fill=\"none\" stroke=\"black\" d=\"M59.98,-1067.98C68.7,-1060.15 81.84,-1048.34 92.4,-1038.86\"/>\n<polygon fill=\"black\" stroke=\"black\" points=\"94.75,-1041.46 99.85,-1032.17 90.07,-1036.25 94.75,-1041.46\"/>\n</g>\n<!-- 135970931647376 -->\n<g id=\"node24\" class=\"node\">\n<title>135970931647376</title>\n<polygon fill=\"lightblue\" stroke=\"black\" points=\"101,-1153 0,-1153 0,-1123 101,-1123 101,-1153\"/>\n<text text-anchor=\"middle\" x=\"50.5\" y=\"-1141\" font-family=\"monospace\" font-size=\"10.00\">conv1.0.weight</text>\n<text text-anchor=\"middle\" x=\"50.5\" y=\"-1130\" font-family=\"monospace\" font-size=\"10.00\"> (16, 1, 5, 5)</text>\n</g>\n<!-- 135970931647376&#45;&gt;135970985088656 -->\n<g id=\"edge22\" class=\"edge\">\n<title>135970931647376&#45;&gt;135970985088656</title>\n<path fill=\"none\" stroke=\"black\" d=\"M50.5,-1122.84C50.5,-1115.21 50.5,-1105.7 50.5,-1097.45\"/>\n<polygon fill=\"black\" stroke=\"black\" points=\"54,-1097.27 50.5,-1087.27 47,-1097.27 54,-1097.27\"/>\n</g>\n<!-- 135970985088416 -->\n<g id=\"node25\" class=\"node\">\n<title>135970985088416</title>\n<polygon fill=\"lightgrey\" stroke=\"black\" points=\"220,-1087 119,-1087 119,-1068 220,-1068 220,-1087\"/>\n<text text-anchor=\"middle\" x=\"169.5\" y=\"-1075\" font-family=\"monospace\" font-size=\"10.00\">AccumulateGrad</text>\n</g>\n<!-- 135970985088416&#45;&gt;135970985088560 -->\n<g id=\"edge23\" class=\"edge\">\n<title>135970985088416&#45;&gt;135970985088560</title>\n<path fill=\"none\" stroke=\"black\" d=\"M159.86,-1067.98C150.99,-1060.15 137.63,-1048.34 126.89,-1038.86\"/>\n<polygon fill=\"black\" stroke=\"black\" points=\"129.13,-1036.17 119.32,-1032.17 124.49,-1041.41 129.13,-1036.17\"/>\n</g>\n<!-- 135970931647456 -->\n<g id=\"node26\" class=\"node\">\n<title>135970931647456</title>\n<polygon fill=\"lightblue\" stroke=\"black\" points=\"214,-1153 125,-1153 125,-1123 214,-1123 214,-1153\"/>\n<text text-anchor=\"middle\" x=\"169.5\" y=\"-1141\" font-family=\"monospace\" font-size=\"10.00\">conv1.0.bias</text>\n<text text-anchor=\"middle\" x=\"169.5\" y=\"-1130\" font-family=\"monospace\" font-size=\"10.00\"> (16)</text>\n</g>\n<!-- 135970931647456&#45;&gt;135970985088416 -->\n<g id=\"edge24\" class=\"edge\">\n<title>135970931647456&#45;&gt;135970985088416</title>\n<path fill=\"none\" stroke=\"black\" d=\"M169.5,-1122.84C169.5,-1115.21 169.5,-1105.7 169.5,-1097.45\"/>\n<polygon fill=\"black\" stroke=\"black\" points=\"173,-1097.27 169.5,-1087.27 166,-1097.27 173,-1097.27\"/>\n</g>\n<!-- 135970985086544 -->\n<g id=\"node27\" class=\"node\">\n<title>135970985086544</title>\n<polygon fill=\"lightgrey\" stroke=\"black\" points=\"277,-911 176,-911 176,-892 277,-892 277,-911\"/>\n<text text-anchor=\"middle\" x=\"226.5\" y=\"-899\" font-family=\"monospace\" font-size=\"10.00\">AccumulateGrad</text>\n</g>\n<!-- 135970985086544&#45;&gt;135970985088848 -->\n<g id=\"edge25\" class=\"edge\">\n<title>135970985086544&#45;&gt;135970985088848</title>\n<path fill=\"none\" stroke=\"black\" d=\"M226.5,-891.75C226.5,-884.8 226.5,-874.85 226.5,-866.13\"/>\n<polygon fill=\"black\" stroke=\"black\" points=\"230,-866.09 226.5,-856.09 223,-866.09 230,-866.09\"/>\n</g>\n<!-- 135970974622368 -->\n<g id=\"node28\" class=\"node\">\n<title>135970974622368</title>\n<polygon fill=\"lightblue\" stroke=\"black\" points=\"282,-977 175,-977 175,-947 282,-947 282,-977\"/>\n<text text-anchor=\"middle\" x=\"228.5\" y=\"-965\" font-family=\"monospace\" font-size=\"10.00\">conv2.0.weight</text>\n<text text-anchor=\"middle\" x=\"228.5\" y=\"-954\" font-family=\"monospace\" font-size=\"10.00\"> (24, 16, 3, 3)</text>\n</g>\n<!-- 135970974622368&#45;&gt;135970985086544 -->\n<g id=\"edge26\" class=\"edge\">\n<title>135970974622368&#45;&gt;135970985086544</title>\n<path fill=\"none\" stroke=\"black\" d=\"M228.02,-946.84C227.76,-939.21 227.43,-929.7 227.15,-921.45\"/>\n<polygon fill=\"black\" stroke=\"black\" points=\"230.64,-921.14 226.8,-911.27 223.64,-921.38 230.64,-921.14\"/>\n</g>\n<!-- 135970985087072 -->\n<g id=\"node29\" class=\"node\">\n<title>135970985087072</title>\n<polygon fill=\"lightgrey\" stroke=\"black\" points=\"396,-911 295,-911 295,-892 396,-892 396,-911\"/>\n<text text-anchor=\"middle\" x=\"345.5\" y=\"-899\" font-family=\"monospace\" font-size=\"10.00\">AccumulateGrad</text>\n</g>\n<!-- 135970985087072&#45;&gt;135970985088848 -->\n<g id=\"edge27\" class=\"edge\">\n<title>135970985087072&#45;&gt;135970985088848</title>\n<path fill=\"none\" stroke=\"black\" d=\"M326.38,-891.98C307.15,-883.42 277.27,-870.11 255.19,-860.28\"/>\n<polygon fill=\"black\" stroke=\"black\" points=\"256.53,-857.04 245.97,-856.17 253.68,-863.44 256.53,-857.04\"/>\n</g>\n<!-- 135970974616448 -->\n<g id=\"node30\" class=\"node\">\n<title>135970974616448</title>\n<polygon fill=\"lightblue\" stroke=\"black\" points=\"390,-977 301,-977 301,-947 390,-947 390,-977\"/>\n<text text-anchor=\"middle\" x=\"345.5\" y=\"-965\" font-family=\"monospace\" font-size=\"10.00\">conv2.0.bias</text>\n<text text-anchor=\"middle\" x=\"345.5\" y=\"-954\" font-family=\"monospace\" font-size=\"10.00\"> (24)</text>\n</g>\n<!-- 135970974616448&#45;&gt;135970985087072 -->\n<g id=\"edge28\" class=\"edge\">\n<title>135970974616448&#45;&gt;135970985087072</title>\n<path fill=\"none\" stroke=\"black\" d=\"M345.5,-946.84C345.5,-939.21 345.5,-929.7 345.5,-921.45\"/>\n<polygon fill=\"black\" stroke=\"black\" points=\"349,-921.27 345.5,-911.27 342,-921.27 349,-921.27\"/>\n</g>\n<!-- 135970985087552 -->\n<g id=\"node31\" class=\"node\">\n<title>135970985087552</title>\n<polygon fill=\"lightgrey\" stroke=\"black\" points=\"442,-680 341,-680 341,-661 442,-661 442,-680\"/>\n<text text-anchor=\"middle\" x=\"391.5\" y=\"-668\" font-family=\"monospace\" font-size=\"10.00\">AccumulateGrad</text>\n</g>\n<!-- 135970985087552&#45;&gt;135970985084384 -->\n<g id=\"edge29\" class=\"edge\">\n<title>135970985087552&#45;&gt;135970985084384</title>\n<path fill=\"none\" stroke=\"black\" d=\"M391.5,-660.75C391.5,-653.8 391.5,-643.85 391.5,-635.13\"/>\n<polygon fill=\"black\" stroke=\"black\" points=\"395,-635.09 391.5,-625.09 388,-635.09 395,-635.09\"/>\n</g>\n<!-- 135970931647536 -->\n<g id=\"node32\" class=\"node\">\n<title>135970931647536</title>\n<polygon fill=\"lightblue\" stroke=\"black\" points=\"447,-746 340,-746 340,-716 447,-716 447,-746\"/>\n<text text-anchor=\"middle\" x=\"393.5\" y=\"-734\" font-family=\"monospace\" font-size=\"10.00\">conv3.0.weight</text>\n<text text-anchor=\"middle\" x=\"393.5\" y=\"-723\" font-family=\"monospace\" font-size=\"10.00\"> (32, 24, 2, 2)</text>\n</g>\n<!-- 135970931647536&#45;&gt;135970985087552 -->\n<g id=\"edge30\" class=\"edge\">\n<title>135970931647536&#45;&gt;135970985087552</title>\n<path fill=\"none\" stroke=\"black\" d=\"M393.02,-715.84C392.76,-708.21 392.43,-698.7 392.15,-690.45\"/>\n<polygon fill=\"black\" stroke=\"black\" points=\"395.64,-690.14 391.8,-680.27 388.64,-690.38 395.64,-690.14\"/>\n</g>\n<!-- 135970985095088 -->\n<g id=\"node33\" class=\"node\">\n<title>135970985095088</title>\n<polygon fill=\"lightgrey\" stroke=\"black\" points=\"561,-680 460,-680 460,-661 561,-661 561,-680\"/>\n<text text-anchor=\"middle\" x=\"510.5\" y=\"-668\" font-family=\"monospace\" font-size=\"10.00\">AccumulateGrad</text>\n</g>\n<!-- 135970985095088&#45;&gt;135970985084384 -->\n<g id=\"edge31\" class=\"edge\">\n<title>135970985095088&#45;&gt;135970985084384</title>\n<path fill=\"none\" stroke=\"black\" d=\"M491.38,-660.98C472.15,-652.42 442.27,-639.11 420.19,-629.28\"/>\n<polygon fill=\"black\" stroke=\"black\" points=\"421.53,-626.04 410.97,-625.17 418.68,-632.44 421.53,-626.04\"/>\n</g>\n<!-- 135970931647616 -->\n<g id=\"node34\" class=\"node\">\n<title>135970931647616</title>\n<polygon fill=\"lightblue\" stroke=\"black\" points=\"555,-746 466,-746 466,-716 555,-716 555,-746\"/>\n<text text-anchor=\"middle\" x=\"510.5\" y=\"-734\" font-family=\"monospace\" font-size=\"10.00\">conv3.0.bias</text>\n<text text-anchor=\"middle\" x=\"510.5\" y=\"-723\" font-family=\"monospace\" font-size=\"10.00\"> (32)</text>\n</g>\n<!-- 135970931647616&#45;&gt;135970985095088 -->\n<g id=\"edge32\" class=\"edge\">\n<title>135970931647616&#45;&gt;135970985095088</title>\n<path fill=\"none\" stroke=\"black\" d=\"M510.5,-715.84C510.5,-708.21 510.5,-698.7 510.5,-690.45\"/>\n<polygon fill=\"black\" stroke=\"black\" points=\"514,-690.27 510.5,-680.27 507,-690.27 514,-690.27\"/>\n</g>\n<!-- 135970985099216 -->\n<g id=\"node35\" class=\"node\">\n<title>135970985099216</title>\n<polygon fill=\"lightgrey\" stroke=\"black\" points=\"566,-383 489,-383 489,-364 566,-364 566,-383\"/>\n<text text-anchor=\"middle\" x=\"527.5\" y=\"-371\" font-family=\"monospace\" font-size=\"10.00\">TBackward0</text>\n</g>\n<!-- 135970985099216&#45;&gt;135970985090048 -->\n<g id=\"edge33\" class=\"edge\">\n<title>135970985099216&#45;&gt;135970985090048</title>\n<path fill=\"none\" stroke=\"black\" d=\"M511.56,-363.87C493.86,-354.28 465.04,-338.67 444.36,-327.47\"/>\n<polygon fill=\"black\" stroke=\"black\" points=\"445.96,-324.35 435.5,-322.67 442.63,-330.51 445.96,-324.35\"/>\n</g>\n<!-- 135970985089952 -->\n<g id=\"node36\" class=\"node\">\n<title>135970985089952</title>\n<polygon fill=\"lightgrey\" stroke=\"black\" points=\"580,-443.5 479,-443.5 479,-424.5 580,-424.5 580,-443.5\"/>\n<text text-anchor=\"middle\" x=\"529.5\" y=\"-431.5\" font-family=\"monospace\" font-size=\"10.00\">AccumulateGrad</text>\n</g>\n<!-- 135970985089952&#45;&gt;135970985099216 -->\n<g id=\"edge34\" class=\"edge\">\n<title>135970985089952&#45;&gt;135970985099216</title>\n<path fill=\"none\" stroke=\"black\" d=\"M529.2,-424.37C528.93,-416.25 528.5,-403.81 528.15,-393.39\"/>\n<polygon fill=\"black\" stroke=\"black\" points=\"531.64,-393.04 527.8,-383.17 524.64,-393.28 531.64,-393.04\"/>\n</g>\n<!-- 135970931647296 -->\n<g id=\"node37\" class=\"node\">\n<title>135970931647296</title>\n<polygon fill=\"lightblue\" stroke=\"black\" points=\"606,-515 505,-515 505,-485 606,-485 606,-515\"/>\n<text text-anchor=\"middle\" x=\"555.5\" y=\"-503\" font-family=\"monospace\" font-size=\"10.00\">linear1.weight</text>\n<text text-anchor=\"middle\" x=\"555.5\" y=\"-492\" font-family=\"monospace\" font-size=\"10.00\"> (24, 1568)</text>\n</g>\n<!-- 135970931647296&#45;&gt;135970985089952 -->\n<g id=\"edge35\" class=\"edge\">\n<title>135970931647296&#45;&gt;135970985089952</title>\n<path fill=\"none\" stroke=\"black\" d=\"M549.73,-484.8C545.95,-475.5 540.99,-463.27 536.92,-453.26\"/>\n<polygon fill=\"black\" stroke=\"black\" points=\"540.1,-451.79 533.09,-443.84 533.61,-454.43 540.1,-451.79\"/>\n</g>\n<!-- 135970985086880 -->\n<g id=\"node38\" class=\"node\">\n<title>135970985086880</title>\n<polygon fill=\"lightgrey\" stroke=\"black\" points=\"589,-196 512,-196 512,-177 589,-177 589,-196\"/>\n<text text-anchor=\"middle\" x=\"550.5\" y=\"-184\" font-family=\"monospace\" font-size=\"10.00\">TBackward0</text>\n</g>\n<!-- 135970985086880&#45;&gt;135970985084912 -->\n<g id=\"edge36\" class=\"edge\">\n<title>135970985086880&#45;&gt;135970985084912</title>\n<path fill=\"none\" stroke=\"black\" d=\"M529.45,-176.98C508.09,-168.34 474.8,-154.87 450.44,-145.02\"/>\n<polygon fill=\"black\" stroke=\"black\" points=\"451.51,-141.68 440.93,-141.17 448.89,-148.17 451.51,-141.68\"/>\n</g>\n<!-- 135970985094368 -->\n<g id=\"node39\" class=\"node\">\n<title>135970985094368</title>\n<polygon fill=\"lightgrey\" stroke=\"black\" points=\"601,-256.5 500,-256.5 500,-237.5 601,-237.5 601,-256.5\"/>\n<text text-anchor=\"middle\" x=\"550.5\" y=\"-244.5\" font-family=\"monospace\" font-size=\"10.00\">AccumulateGrad</text>\n</g>\n<!-- 135970985094368&#45;&gt;135970985086880 -->\n<g id=\"edge37\" class=\"edge\">\n<title>135970985094368&#45;&gt;135970985086880</title>\n<path fill=\"none\" stroke=\"black\" d=\"M550.5,-237.37C550.5,-229.25 550.5,-216.81 550.5,-206.39\"/>\n<polygon fill=\"black\" stroke=\"black\" points=\"554,-206.17 550.5,-196.17 547,-206.17 554,-206.17\"/>\n</g>\n<!-- 135971007433280 -->\n<g id=\"node40\" class=\"node\">\n<title>135971007433280</title>\n<polygon fill=\"lightblue\" stroke=\"black\" points=\"601,-328 500,-328 500,-298 601,-298 601,-328\"/>\n<text text-anchor=\"middle\" x=\"550.5\" y=\"-316\" font-family=\"monospace\" font-size=\"10.00\">linear2.weight</text>\n<text text-anchor=\"middle\" x=\"550.5\" y=\"-305\" font-family=\"monospace\" font-size=\"10.00\"> (10, 24)</text>\n</g>\n<!-- 135971007433280&#45;&gt;135970985094368 -->\n<g id=\"edge38\" class=\"edge\">\n<title>135971007433280&#45;&gt;135970985094368</title>\n<path fill=\"none\" stroke=\"black\" d=\"M550.5,-297.8C550.5,-288.7 550.5,-276.79 550.5,-266.9\"/>\n<polygon fill=\"black\" stroke=\"black\" points=\"554,-266.84 550.5,-256.84 547,-266.84 554,-266.84\"/>\n</g>\n</g>\n</svg>\n",
            "text/plain": [
              "<graphviz.graphs.Digraph at 0x7baa36441f30>"
            ]
          },
          "metadata": {},
          "execution_count": 12
        }
      ],
      "source": [
        "# %%capture\n",
        "#!pip install torchviz\n",
        "\n",
        "import torch\n",
        "from torchviz import make_dot\n",
        "\n",
        "\n",
        "dummy_input = torch.randn(1, 1, 28, 28).to(device)\n",
        "\n",
        "dot = make_dot(Cnet(dummy_input), params=dict(Cnet.named_parameters()))\n",
        "\n",
        "dot.render(\"CNN_visualization\", format=\"png\")\n",
        "\n",
        "dot"
      ]
    },
    {
      "cell_type": "markdown",
      "metadata": {
        "id": "UmfK-xB8uPEt"
      },
      "source": [
        "## updated training\n"
      ]
    },
    {
      "cell_type": "code",
      "execution_count": 20,
      "metadata": {
        "id": "9RKtecF-EAEN",
        "collapsed": true
      },
      "outputs": [],
      "source": [
        "import os\n",
        "# os.environ[\"OMP_NUM_THREADS\"] = \"1\"\n",
        "\n",
        "# Now import JAX\n",
        "import jax\n",
        "\n",
        "def train(model, loaders =loaders , num_epochs=20, loss_func = loss_func, optimizer = optimizer):\n",
        "\n",
        "    model.train()\n",
        "    train_losses = []\n",
        "    train_accuracies = []\n",
        "    val_losses = []\n",
        "    val_accuracies = []\n",
        "\n",
        "    for epoch in range(num_epochs):\n",
        "        # Training\n",
        "        running_loss = 0.0\n",
        "        correct_train = 0\n",
        "        total_train = 0\n",
        "        for i, (images, labels) in enumerate(loaders['train']):\n",
        "            b_x = images.requires_grad_(True).to(device)\n",
        "            b_y = labels.to(device)\n",
        "\n",
        "            output = model(b_x)\n",
        "            loss = loss_func(output, b_y)\n",
        "\n",
        "            optimizer.zero_grad()\n",
        "            loss.backward()\n",
        "            optimizer.step()\n",
        "\n",
        "            running_loss += loss.item()\n",
        "\n",
        "            _, predicted_train = torch.max(output.data, 1)\n",
        "            total_train += b_y.size(0)\n",
        "            correct_train += (predicted_train == b_y).sum().item()\n",
        "\n",
        "        train_loss = running_loss / len(loaders['train'])\n",
        "        train_accuracy = 100 * correct_train / total_train\n",
        "        train_losses.append(train_loss)\n",
        "        train_accuracies.append(train_accuracy)\n",
        "\n",
        "        # Validation\n",
        "        model.eval()\n",
        "        val_loss = 0.0\n",
        "        correct_val = 0\n",
        "        total_val = 0\n",
        "        with torch.no_grad():\n",
        "            for images, labels in loaders['valid']:\n",
        "                b_x = images.requires_grad_(False).to(device)\n",
        "                b_y = labels.to(device)\n",
        "\n",
        "                output = model(b_x)\n",
        "                loss = loss_func(output, b_y)\n",
        "                val_loss += loss.item()\n",
        "\n",
        "                _, predicted_val = torch.max(output.data, 1)\n",
        "                total_val += b_y.size(0)\n",
        "                correct_val += (predicted_val == b_y).sum().item()\n",
        "\n",
        "        val_loss /= len(loaders['valid'])\n",
        "        val_accuracy = 100 * correct_val / total_val\n",
        "        val_losses.append(val_loss)\n",
        "        val_accuracies.append(val_accuracy)\n",
        "\n",
        "        print(f\"Epoch [{epoch + 1}/{num_epochs}], \"\n",
        "              f\"Train Loss: {train_loss:.4f}, \"\n",
        "              f\"Train Accuracy: {train_accuracy:.2f}%, \"\n",
        "              f\"Val Loss: {val_loss:.4f}, \"\n",
        "              f\"Val Accuracy: {val_accuracy:.2f}%\")\n",
        "\n",
        "    # Plotting\n",
        "    plt.figure(figsize=(10, 5))\n",
        "    plt.plot(range(1, num_epochs + 1), train_losses, label='Train Loss')\n",
        "    plt.plot(range(1, num_epochs + 1), val_losses, label='Val Loss')\n",
        "    plt.xlabel('Epochs')\n",
        "    plt.ylabel('Loss')\n",
        "    plt.title('Training and Validation Loss')\n",
        "    plt.legend()\n",
        "    plt.show()\n",
        "\n",
        "    plt.figure(figsize=(10, 5))\n",
        "    plt.plot(range(1, num_epochs + 1), train_accuracies, label='Train Accuracy')\n",
        "    plt.plot(range(1, num_epochs + 1), val_accuracies, label='Val Accuracy')\n",
        "    plt.xlabel('Epochs')\n",
        "    plt.ylabel('Accuracy (%)')\n",
        "    plt.title('Training and Validation Accuracy')\n",
        "    plt.legend()\n",
        "    plt.show()\n"
      ]
    },
    {
      "cell_type": "code",
      "source": [
        "from torch import optim\n",
        "\n",
        "learning_rate = 0.01\n",
        "\n",
        "momentum = 0.9\n",
        "\n",
        "optimizer = optim.Adam(model.parameters(), lr = learning_rate)\n",
        "#optimizer =torch.optim.SGD(model.parameters(), lr=lr, momentum=momentum)\n",
        "\n",
        "loss_func = nn.CrossEntropyLoss()\n",
        "\n",
        "train(model, num_epochs = 5, optimizer = optimizer)"
      ],
      "metadata": {
        "colab": {
          "base_uri": "https://localhost:8080/",
          "height": 1000
        },
        "id": "_P1kXFk4sCYm",
        "outputId": "55bffd79-6761-4800-c93d-68c380ba2e09"
      },
      "execution_count": 33,
      "outputs": [
        {
          "output_type": "stream",
          "name": "stdout",
          "text": [
            "Epoch [1/5], Train Loss: 0.9786, Train Accuracy: 66.14%, Val Loss: 0.2963, Val Accuracy: 91.67%\n",
            "Epoch [2/5], Train Loss: 0.1761, Train Accuracy: 94.70%, Val Loss: 0.1424, Val Accuracy: 95.67%\n",
            "Epoch [3/5], Train Loss: 0.1331, Train Accuracy: 95.95%, Val Loss: 0.1144, Val Accuracy: 96.49%\n",
            "Epoch [4/5], Train Loss: 0.1193, Train Accuracy: 96.44%, Val Loss: 0.1167, Val Accuracy: 96.38%\n",
            "Epoch [5/5], Train Loss: 0.1136, Train Accuracy: 96.45%, Val Loss: 0.1113, Val Accuracy: 96.60%\n"
          ]
        },
        {
          "output_type": "display_data",
          "data": {
            "text/plain": [
              "<Figure size 1000x500 with 1 Axes>"
            ],
            "image/png": "[encoded data removed]"
          },
          "metadata": {}
        },
        {
          "output_type": "display_data",
          "data": {
            "text/plain": [
              "<Figure size 1000x500 with 1 Axes>"
            ],
            "image/png": "[encoded data removed]"
          },
          "metadata": {}
        }
      ]
    },
    {
      "cell_type": "code",
      "execution_count": 34,
      "metadata": {
        "colab": {
          "base_uri": "https://localhost:8080/"
        },
        "id": "Huuzk7Vd3o-k",
        "outputId": "ce08956a-5e40-45b7-83c6-b01bf485db58"
      },
      "outputs": [
        {
          "output_type": "stream",
          "name": "stdout",
          "text": [
            "Drive already mounted at /content/drive; to attempt to forcibly remount, call drive.mount(\"/content/drive\", force_remount=True).\n"
          ]
        }
      ],
      "source": [
        "from google.colab import drive\n",
        "drive.mount('/content/drive')"
      ]
    },
    {
      "cell_type": "code",
      "execution_count": 36,
      "metadata": {
        "id": "HkAu0QB9uTx8",
        "colab": {
          "base_uri": "https://localhost:8080/"
        },
        "outputId": "70e7f692-5d86-461a-e8a5-c705060fd0d5"
      },
      "outputs": [
        {
          "output_type": "stream",
          "name": "stderr",
          "text": [
            "<ipython-input-36-7d69479ac06c>:5: FutureWarning: You are using `torch.load` with `weights_only=False` (the current default value), which uses the default pickle module implicitly. It is possible to construct malicious pickle data which will execute arbitrary code during unpickling (See https://github.com/pytorch/pytorch/blob/main/SECURITY.md#untrusted-models for more details). In a future release, the default value for `weights_only` will be flipped to `True`. This limits the functions that could be executed during unpickling. Arbitrary objects will no longer be allowed to be loaded via this mode unless they are explicitly allowlisted by the user via `torch.serialization.add_safe_globals`. We recommend you start setting `weights_only=True` for any use case where you don't have full control of the loaded file. Please open an issue on GitHub for any issues related to this experimental feature.\n",
            "  model = torch.load('/content/drive/MyDrive/Sxoli/EFREMIDIS/My_Net_trained_model.pt')\n"
          ]
        }
      ],
      "source": [
        "torch.save(model, \"My_Net_trained_model.pt\")\n",
        "\n",
        "!cp  My_Net_trained_model.pt /content/drive/MyDrive/Sxoli/EFREMIDIS\n",
        "\n",
        "model = torch.load('/content/drive/MyDrive/Sxoli/EFREMIDIS/My_Net_trained_model.pt')"
      ]
    },
    {
      "cell_type": "markdown",
      "metadata": {
        "id": "08pLwnS5Aui4"
      },
      "source": [
        "## test"
      ]
    },
    {
      "cell_type": "code",
      "execution_count": 38,
      "metadata": {
        "id": "zmLhNU8DsFQR",
        "colab": {
          "base_uri": "https://localhost:8080/"
        },
        "outputId": "a75ebe24-ea4e-46b7-9761-d6eaa29748a8"
      },
      "outputs": [
        {
          "output_type": "stream",
          "name": "stdout",
          "text": [
            "Test Accuracy of the model on the 10000 test images: 0.99\n"
          ]
        }
      ],
      "source": [
        "def test(model):\n",
        "    model.eval()\n",
        "    with torch.no_grad():\n",
        "        correct = 0\n",
        "        total = 0\n",
        "\n",
        "        for images, labels in loaders['test']:\n",
        "            # Move images and labels to the same device as the model\n",
        "            images, labels = images.to(device), labels.to(device)\n",
        "\n",
        "            test_output = model(images)\n",
        "            pred_y = torch.max(test_output, 1)[1].data.squeeze()\n",
        "            accuracy = (pred_y == labels).sum().item() / float(labels.size(0))\n",
        "        pass\n",
        "\n",
        "    print('Test Accuracy of the model on the 10000 test images: %.2f' % accuracy)\n",
        "\n",
        "    pass\n",
        "\n",
        "test(model)"
      ]
    },
    {
      "cell_type": "code",
      "execution_count": 37,
      "metadata": {
        "id": "KP-eFgdwy7On",
        "colab": {
          "base_uri": "https://localhost:8080/"
        },
        "outputId": "dfca7bf5-09b0-4120-b5e7-46518b174426"
      },
      "outputs": [
        {
          "output_type": "stream",
          "name": "stdout",
          "text": [
            "Test Accuracy of the model on the test set: 0.98\n",
            "Confusion Matrix:\n",
            " [[ 968    0    1    0    0    0    9    2    0    0]\n",
            " [   1 1128    4    0    0    0    2    0    0    0]\n",
            " [   7    0 1017    1    0    0    2    4    1    0]\n",
            " [   1    0    2  988    0   10    0    5    4    0]\n",
            " [   1    0    0    0  960    0    4    3    0   14]\n",
            " [   0    0    1    3    0  885    1    1    1    0]\n",
            " [   2    2    0    0    0    5  947    0    1    1]\n",
            " [   0    5    9    1    0    0    0 1008    1    4]\n",
            " [  10    0    3    4    2    4    5    2  937    7]\n",
            " [   3    0    0    0   11    2    0    9    3  981]]\n",
            "Accuracy for class 0: 0.99\n",
            "Accuracy for class 1: 0.99\n",
            "Accuracy for class 2: 0.99\n",
            "Accuracy for class 3: 0.98\n",
            "Accuracy for class 4: 0.98\n",
            "Accuracy for class 5: 0.99\n",
            "Accuracy for class 6: 0.99\n",
            "Accuracy for class 7: 0.98\n",
            "Accuracy for class 8: 0.96\n",
            "Accuracy for class 9: 0.97\n"
          ]
        }
      ],
      "source": [
        "from sklearn.metrics import confusion_matrix\n",
        "\n",
        "def test(cnn, loaders):\n",
        "    model.eval()\n",
        "    with torch.no_grad():\n",
        "        all_predicted_labels = []\n",
        "        all_true_labels = []\n",
        "\n",
        "        for images, labels in loaders['test']:\n",
        "          # Move images and labels to the same device as the model\n",
        "            images, labels = images.to(device), labels.to(device)\n",
        "\n",
        "            test_output = model(images)\n",
        "            pred_y = torch.max(test_output, 1)[1].data.squeeze()\n",
        "\n",
        "            all_predicted_labels.extend(pred_y.tolist())\n",
        "            all_true_labels.extend(labels.tolist())\n",
        "\n",
        "        # Calculate Test Accuracy\n",
        "        accuracy = (torch.tensor(all_predicted_labels) == torch.tensor(all_true_labels)).float().mean().item()\n",
        "        print('Test Accuracy of the model on the test set: %.2f' % accuracy)\n",
        "\n",
        "        # Calculate Confusion Matrix\n",
        "        cm = confusion_matrix(all_true_labels, all_predicted_labels)\n",
        "        print('Confusion Matrix:\\n', cm)\n",
        "\n",
        "        # Calculate accuracy for each class\n",
        "        class_accuracies = np.diag(cm) / cm.sum(axis=1)\n",
        "        for i, acc in enumerate(class_accuracies):\n",
        "            print(f'Accuracy for class {i}: {acc:.2f}')\n",
        "\n",
        "        # Visualize wrongly predicted images\n",
        "        #visualize_wrong_predictions(images, all_predicted_labels, all_true_labels)\n",
        "\n",
        "    return all_predicted_labels, all_true_labels\n",
        "\n",
        "all_predicted_labels, all_true_labels = test(model, loaders)\n"
      ]
    },
    {
      "cell_type": "code",
      "execution_count": 41,
      "metadata": {
        "id": "9iddKDZnxlht",
        "colab": {
          "base_uri": "https://localhost:8080/",
          "height": 716
        },
        "outputId": "5f604676-9b28-4b73-aceb-41ae33eb55b0"
      },
      "outputs": [
        {
          "output_type": "display_data",
          "data": {
            "text/plain": [
              "<Figure size 1000x200 with 5 Axes>"
            ],
            "image/png": "[encoded data removed]"
          },
          "metadata": {}
        },
        {
          "output_type": "display_data",
          "data": {
            "text/plain": [
              "<Figure size 1000x200 with 5 Axes>"
            ],
            "image/png": "[encoded data removed]"
          },
          "metadata": {}
        },
        {
          "output_type": "error",
          "ename": "ValueError",
          "evalue": "Number of rows must be a positive integer, not 0",
          "traceback": [
            "\u001b[0;31m---------------------------------------------------------------------------\u001b[0m",
            "\u001b[0;31mValueError\u001b[0m                                Traceback (most recent call last)",
            "\u001b[0;32m<ipython-input-41-8907de60ec95>\u001b[0m in \u001b[0;36m<cell line: 44>\u001b[0;34m()\u001b[0m\n\u001b[1;32m     42\u001b[0m         \u001b[0mprint\u001b[0m\u001b[0;34m(\u001b[0m\u001b[0;34mf'Total number of wrong predictions: {wrong_sum}'\u001b[0m\u001b[0;34m)\u001b[0m\u001b[0;34m\u001b[0m\u001b[0;34m\u001b[0m\u001b[0m\n\u001b[1;32m     43\u001b[0m \u001b[0;34m\u001b[0m\u001b[0m\n\u001b[0;32m---> 44\u001b[0;31m \u001b[0mwrong_images\u001b[0m\u001b[0;34m(\u001b[0m\u001b[0;34m)\u001b[0m\u001b[0;34m\u001b[0m\u001b[0;34m\u001b[0m\u001b[0m\n\u001b[0m",
            "\u001b[0;32m<ipython-input-41-8907de60ec95>\u001b[0m in \u001b[0;36mwrong_images\u001b[0;34m()\u001b[0m\n\u001b[1;32m     21\u001b[0m             \u001b[0mrow_len\u001b[0m \u001b[0;34m=\u001b[0m \u001b[0;36m5\u001b[0m\u001b[0;34m\u001b[0m\u001b[0;34m\u001b[0m\u001b[0m\n\u001b[1;32m     22\u001b[0m             \u001b[0mnum_rows\u001b[0m \u001b[0;34m=\u001b[0m \u001b[0mmath\u001b[0m\u001b[0;34m.\u001b[0m\u001b[0mceil\u001b[0m\u001b[0;34m(\u001b[0m\u001b[0mnum_samples\u001b[0m \u001b[0;34m/\u001b[0m \u001b[0mrow_len\u001b[0m\u001b[0;34m)\u001b[0m\u001b[0;34m\u001b[0m\u001b[0;34m\u001b[0m\u001b[0m\n\u001b[0;32m---> 23\u001b[0;31m             \u001b[0mfig\u001b[0m\u001b[0;34m,\u001b[0m \u001b[0maxes\u001b[0m \u001b[0;34m=\u001b[0m \u001b[0mplt\u001b[0m\u001b[0;34m.\u001b[0m\u001b[0msubplots\u001b[0m\u001b[0;34m(\u001b[0m\u001b[0mnum_rows\u001b[0m\u001b[0;34m,\u001b[0m \u001b[0mrow_len\u001b[0m\u001b[0;34m,\u001b[0m \u001b[0mfigsize\u001b[0m\u001b[0;34m=\u001b[0m\u001b[0;34m(\u001b[0m\u001b[0;36m10\u001b[0m\u001b[0;34m,\u001b[0m \u001b[0mnum_rows\u001b[0m \u001b[0;34m*\u001b[0m \u001b[0;36m2\u001b[0m\u001b[0;34m)\u001b[0m\u001b[0;34m)\u001b[0m\u001b[0;34m\u001b[0m\u001b[0;34m\u001b[0m\u001b[0m\n\u001b[0m\u001b[1;32m     24\u001b[0m             \u001b[0mfig\u001b[0m\u001b[0;34m.\u001b[0m\u001b[0mtight_layout\u001b[0m\u001b[0;34m(\u001b[0m\u001b[0mpad\u001b[0m\u001b[0;34m=\u001b[0m\u001b[0;36m1.0\u001b[0m\u001b[0;34m)\u001b[0m\u001b[0;34m\u001b[0m\u001b[0;34m\u001b[0m\u001b[0m\n\u001b[1;32m     25\u001b[0m \u001b[0;34m\u001b[0m\u001b[0m\n",
            "\u001b[0;32m/usr/local/lib/python3.10/dist-packages/matplotlib/pyplot.py\u001b[0m in \u001b[0;36msubplots\u001b[0;34m(nrows, ncols, sharex, sharey, squeeze, width_ratios, height_ratios, subplot_kw, gridspec_kw, **fig_kw)\u001b[0m\n\u001b[1;32m   1500\u001b[0m     \"\"\"\n\u001b[1;32m   1501\u001b[0m     \u001b[0mfig\u001b[0m \u001b[0;34m=\u001b[0m \u001b[0mfigure\u001b[0m\u001b[0;34m(\u001b[0m\u001b[0;34m**\u001b[0m\u001b[0mfig_kw\u001b[0m\u001b[0;34m)\u001b[0m\u001b[0;34m\u001b[0m\u001b[0;34m\u001b[0m\u001b[0m\n\u001b[0;32m-> 1502\u001b[0;31m     axs = fig.subplots(nrows=nrows, ncols=ncols, sharex=sharex, sharey=sharey,\n\u001b[0m\u001b[1;32m   1503\u001b[0m                        \u001b[0msqueeze\u001b[0m\u001b[0;34m=\u001b[0m\u001b[0msqueeze\u001b[0m\u001b[0;34m,\u001b[0m \u001b[0msubplot_kw\u001b[0m\u001b[0;34m=\u001b[0m\u001b[0msubplot_kw\u001b[0m\u001b[0;34m,\u001b[0m\u001b[0;34m\u001b[0m\u001b[0;34m\u001b[0m\u001b[0m\n\u001b[1;32m   1504\u001b[0m                        \u001b[0mgridspec_kw\u001b[0m\u001b[0;34m=\u001b[0m\u001b[0mgridspec_kw\u001b[0m\u001b[0;34m,\u001b[0m \u001b[0mheight_ratios\u001b[0m\u001b[0;34m=\u001b[0m\u001b[0mheight_ratios\u001b[0m\u001b[0;34m,\u001b[0m\u001b[0;34m\u001b[0m\u001b[0;34m\u001b[0m\u001b[0m\n",
            "\u001b[0;32m/usr/local/lib/python3.10/dist-packages/matplotlib/figure.py\u001b[0m in \u001b[0;36msubplots\u001b[0;34m(self, nrows, ncols, sharex, sharey, squeeze, width_ratios, height_ratios, subplot_kw, gridspec_kw)\u001b[0m\n\u001b[1;32m    903\u001b[0m             \u001b[0mgridspec_kw\u001b[0m\u001b[0;34m[\u001b[0m\u001b[0;34m'width_ratios'\u001b[0m\u001b[0;34m]\u001b[0m \u001b[0;34m=\u001b[0m \u001b[0mwidth_ratios\u001b[0m\u001b[0;34m\u001b[0m\u001b[0;34m\u001b[0m\u001b[0m\n\u001b[1;32m    904\u001b[0m \u001b[0;34m\u001b[0m\u001b[0m\n\u001b[0;32m--> 905\u001b[0;31m         \u001b[0mgs\u001b[0m \u001b[0;34m=\u001b[0m \u001b[0mself\u001b[0m\u001b[0;34m.\u001b[0m\u001b[0madd_gridspec\u001b[0m\u001b[0;34m(\u001b[0m\u001b[0mnrows\u001b[0m\u001b[0;34m,\u001b[0m \u001b[0mncols\u001b[0m\u001b[0;34m,\u001b[0m \u001b[0mfigure\u001b[0m\u001b[0;34m=\u001b[0m\u001b[0mself\u001b[0m\u001b[0;34m,\u001b[0m \u001b[0;34m**\u001b[0m\u001b[0mgridspec_kw\u001b[0m\u001b[0;34m)\u001b[0m\u001b[0;34m\u001b[0m\u001b[0;34m\u001b[0m\u001b[0m\n\u001b[0m\u001b[1;32m    906\u001b[0m         axs = gs.subplots(sharex=sharex, sharey=sharey, squeeze=squeeze,\n\u001b[1;32m    907\u001b[0m                           subplot_kw=subplot_kw)\n",
            "\u001b[0;32m/usr/local/lib/python3.10/dist-packages/matplotlib/figure.py\u001b[0m in \u001b[0;36madd_gridspec\u001b[0;34m(self, nrows, ncols, **kwargs)\u001b[0m\n\u001b[1;32m   1525\u001b[0m \u001b[0;34m\u001b[0m\u001b[0m\n\u001b[1;32m   1526\u001b[0m         \u001b[0m_\u001b[0m \u001b[0;34m=\u001b[0m \u001b[0mkwargs\u001b[0m\u001b[0;34m.\u001b[0m\u001b[0mpop\u001b[0m\u001b[0;34m(\u001b[0m\u001b[0;34m'figure'\u001b[0m\u001b[0;34m,\u001b[0m \u001b[0;32mNone\u001b[0m\u001b[0;34m)\u001b[0m  \u001b[0;31m# pop in case user has added this...\u001b[0m\u001b[0;34m\u001b[0m\u001b[0;34m\u001b[0m\u001b[0m\n\u001b[0;32m-> 1527\u001b[0;31m         \u001b[0mgs\u001b[0m \u001b[0;34m=\u001b[0m \u001b[0mGridSpec\u001b[0m\u001b[0;34m(\u001b[0m\u001b[0mnrows\u001b[0m\u001b[0;34m=\u001b[0m\u001b[0mnrows\u001b[0m\u001b[0;34m,\u001b[0m \u001b[0mncols\u001b[0m\u001b[0;34m=\u001b[0m\u001b[0mncols\u001b[0m\u001b[0;34m,\u001b[0m \u001b[0mfigure\u001b[0m\u001b[0;34m=\u001b[0m\u001b[0mself\u001b[0m\u001b[0;34m,\u001b[0m \u001b[0;34m**\u001b[0m\u001b[0mkwargs\u001b[0m\u001b[0;34m)\u001b[0m\u001b[0;34m\u001b[0m\u001b[0;34m\u001b[0m\u001b[0m\n\u001b[0m\u001b[1;32m   1528\u001b[0m         \u001b[0;32mreturn\u001b[0m \u001b[0mgs\u001b[0m\u001b[0;34m\u001b[0m\u001b[0;34m\u001b[0m\u001b[0m\n\u001b[1;32m   1529\u001b[0m \u001b[0;34m\u001b[0m\u001b[0m\n",
            "\u001b[0;32m/usr/local/lib/python3.10/dist-packages/matplotlib/gridspec.py\u001b[0m in \u001b[0;36m__init__\u001b[0;34m(self, nrows, ncols, figure, left, bottom, right, top, wspace, hspace, width_ratios, height_ratios)\u001b[0m\n\u001b[1;32m    377\u001b[0m         \u001b[0mself\u001b[0m\u001b[0;34m.\u001b[0m\u001b[0mfigure\u001b[0m \u001b[0;34m=\u001b[0m \u001b[0mfigure\u001b[0m\u001b[0;34m\u001b[0m\u001b[0;34m\u001b[0m\u001b[0m\n\u001b[1;32m    378\u001b[0m \u001b[0;34m\u001b[0m\u001b[0m\n\u001b[0;32m--> 379\u001b[0;31m         super().__init__(nrows, ncols,\n\u001b[0m\u001b[1;32m    380\u001b[0m                          \u001b[0mwidth_ratios\u001b[0m\u001b[0;34m=\u001b[0m\u001b[0mwidth_ratios\u001b[0m\u001b[0;34m,\u001b[0m\u001b[0;34m\u001b[0m\u001b[0;34m\u001b[0m\u001b[0m\n\u001b[1;32m    381\u001b[0m                          height_ratios=height_ratios)\n",
            "\u001b[0;32m/usr/local/lib/python3.10/dist-packages/matplotlib/gridspec.py\u001b[0m in \u001b[0;36m__init__\u001b[0;34m(self, nrows, ncols, height_ratios, width_ratios)\u001b[0m\n\u001b[1;32m     47\u001b[0m         \"\"\"\n\u001b[1;32m     48\u001b[0m         \u001b[0;32mif\u001b[0m \u001b[0;32mnot\u001b[0m \u001b[0misinstance\u001b[0m\u001b[0;34m(\u001b[0m\u001b[0mnrows\u001b[0m\u001b[0;34m,\u001b[0m \u001b[0mIntegral\u001b[0m\u001b[0;34m)\u001b[0m \u001b[0;32mor\u001b[0m \u001b[0mnrows\u001b[0m \u001b[0;34m<=\u001b[0m \u001b[0;36m0\u001b[0m\u001b[0;34m:\u001b[0m\u001b[0;34m\u001b[0m\u001b[0;34m\u001b[0m\u001b[0m\n\u001b[0;32m---> 49\u001b[0;31m             raise ValueError(\n\u001b[0m\u001b[1;32m     50\u001b[0m                 f\"Number of rows must be a positive integer, not {nrows!r}\")\n\u001b[1;32m     51\u001b[0m         \u001b[0;32mif\u001b[0m \u001b[0;32mnot\u001b[0m \u001b[0misinstance\u001b[0m\u001b[0;34m(\u001b[0m\u001b[0mncols\u001b[0m\u001b[0;34m,\u001b[0m \u001b[0mIntegral\u001b[0m\u001b[0;34m)\u001b[0m \u001b[0;32mor\u001b[0m \u001b[0mncols\u001b[0m \u001b[0;34m<=\u001b[0m \u001b[0;36m0\u001b[0m\u001b[0;34m:\u001b[0m\u001b[0;34m\u001b[0m\u001b[0;34m\u001b[0m\u001b[0m\n",
            "\u001b[0;31mValueError\u001b[0m: Number of rows must be a positive integer, not 0"
          ]
        },
        {
          "output_type": "display_data",
          "data": {
            "text/plain": [
              "<Figure size 1000x0 with 0 Axes>"
            ]
          },
          "metadata": {}
        }
      ],
      "source": [
        "import math\n",
        "\n",
        "def wrong_images():\n",
        "    model.eval()\n",
        "    with torch.no_grad():\n",
        "        wrong_sum = 0\n",
        "\n",
        "        for images, labels in loaders['test']:\n",
        "            # Move images and labels to the same device as the model\n",
        "            images, labels = images.to(device), labels.to(device)\n",
        "\n",
        "            test_output = model(images)\n",
        "            pred_y = torch.max(test_output, 1)[1].data.squeeze()\n",
        "\n",
        "            wrong_indices = (pred_y != labels).nonzero(as_tuple=True)[0]\n",
        "            wrong_indices = wrong_indices[:20]\n",
        "\n",
        "            wrong_sum += len(wrong_indices)\n",
        "\n",
        "            num_samples = min(20, len(wrong_indices))\n",
        "            row_len = 5\n",
        "            num_rows = math.ceil(num_samples / row_len)\n",
        "            fig, axes = plt.subplots(num_rows, row_len, figsize=(10, num_rows * 2))\n",
        "            fig.tight_layout(pad=1.0)\n",
        "\n",
        "            for i, idx in enumerate(wrong_indices):\n",
        "                row = i // row_len\n",
        "                col = i % row_len\n",
        "                ax = axes[row, col] if num_rows > 1 else axes[col]\n",
        "\n",
        "                wrong_image = images[idx].cpu().permute(1, 2, 0)\n",
        "                wrong_predicted_label = pred_y[idx].item()\n",
        "                wrong_true_label = labels[idx].item()\n",
        "\n",
        "                # Plot the wrong image\n",
        "                ax.imshow(wrong_image)\n",
        "                ax.set_title(f'Pred: {wrong_predicted_label}, True: {wrong_true_label}, idx: {idx}')\n",
        "                ax.axis('off')\n",
        "\n",
        "            plt.show()\n",
        "\n",
        "        print(f'Total number of wrong predictions: {wrong_sum}')\n",
        "\n",
        "wrong_images()\n"
      ]
    }
  ],
  "metadata": {
    "accelerator": "GPU",
    "colab": {
      "gpuType": "T4",
      "provenance": [],
      "mount_file_id": "10S1KMnGVLjxy59mdWo-ylpMo-nN6_Kpq",
      "authorship_tag": "ABX9TyMvGKqqTBX8iXdu0ynaWXNa",
      "include_colab_link": true
    },
    "kernelspec": {
      "display_name": "Python 3",
      "name": "python3"
    },
    "language_info": {
      "name": "python"
    }
  },
  "nbformat": 4,
  "nbformat_minor": 0
}